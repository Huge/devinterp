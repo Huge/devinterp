{
    "cells": [
        {
            "cell_type": "markdown",
            "metadata": {},
            "source": [
                "# Intro to Developmental Interpretability\n",
                "\n",
                "[![Open In Colab](https://colab.research.google.com/assets/colab-badge.svg)](https://colab.research.google.com/github/timaeus-research/devinterp/blob/main/examples/introduction.ipynb)\n",
                "\n",
                "Developmental interpretability (\"devinterp\") studies how structure develops over the course of training. \n",
                "\n",
                "## Aim\n",
                "\n",
                "Our aim is to develop tools for detecting, understanding, and preventing dangerous transitions during training — to capabilities, values, behaviors. \n",
                "\n",
                "This library is where we'll put those tools. **It's very much a work in progress** (and we welcome contributions)."
            ]
        },
        {
            "cell_type": "markdown",
            "metadata": {},
            "source": [
                "## Set-up"
            ]
        },
        {
            "cell_type": "code",
            "execution_count": 1,
            "metadata": {},
            "outputs": [
                {
                    "name": "stdout",
                    "output_type": "stream",
                    "text": [
                        "Requirement already satisfied: transformers in /home/paperspace/devinterp/.venv/lib/python3.8/site-packages (4.37.2)\n",
                        "Requirement already satisfied: torchvision in /home/paperspace/devinterp/.venv/lib/python3.8/site-packages (0.15.2)\n",
                        "Requirement already satisfied: filelock in /home/paperspace/devinterp/.venv/lib/python3.8/site-packages (from transformers) (3.13.1)\n",
                        "Requirement already satisfied: huggingface-hub<1.0,>=0.19.3 in /home/paperspace/devinterp/.venv/lib/python3.8/site-packages (from transformers) (0.20.3)\n",
                        "Requirement already satisfied: numpy>=1.17 in /home/paperspace/devinterp/.venv/lib/python3.8/site-packages (from transformers) (1.23.5)\n",
                        "Requirement already satisfied: packaging>=20.0 in /home/paperspace/devinterp/.venv/lib/python3.8/site-packages (from transformers) (23.2)\n",
                        "Requirement already satisfied: pyyaml>=5.1 in /home/paperspace/devinterp/.venv/lib/python3.8/site-packages (from transformers) (6.0.1)\n",
                        "Requirement already satisfied: regex!=2019.12.17 in /home/paperspace/devinterp/.venv/lib/python3.8/site-packages (from transformers) (2023.12.25)\n",
                        "Requirement already satisfied: requests in /home/paperspace/devinterp/.venv/lib/python3.8/site-packages (from transformers) (2.31.0)\n",
                        "Requirement already satisfied: tokenizers<0.19,>=0.14 in /home/paperspace/devinterp/.venv/lib/python3.8/site-packages (from transformers) (0.15.1)\n",
                        "Requirement already satisfied: safetensors>=0.4.1 in /home/paperspace/devinterp/.venv/lib/python3.8/site-packages (from transformers) (0.4.2)\n",
                        "Requirement already satisfied: tqdm>=4.27 in /home/paperspace/devinterp/.venv/lib/python3.8/site-packages (from transformers) (4.65.0)\n",
                        "Requirement already satisfied: torch==2.0.1 in /home/paperspace/devinterp/.venv/lib/python3.8/site-packages (from torchvision) (2.0.1)\n",
                        "Requirement already satisfied: pillow!=8.3.*,>=5.3.0 in /home/paperspace/devinterp/.venv/lib/python3.8/site-packages (from torchvision) (10.2.0)\n",
                        "Requirement already satisfied: typing-extensions in /home/paperspace/devinterp/.venv/lib/python3.8/site-packages (from torch==2.0.1->torchvision) (4.9.0)\n",
                        "Requirement already satisfied: sympy in /home/paperspace/devinterp/.venv/lib/python3.8/site-packages (from torch==2.0.1->torchvision) (1.12)\n",
                        "Requirement already satisfied: networkx in /home/paperspace/devinterp/.venv/lib/python3.8/site-packages (from torch==2.0.1->torchvision) (3.1)\n",
                        "Requirement already satisfied: jinja2 in /home/paperspace/devinterp/.venv/lib/python3.8/site-packages (from torch==2.0.1->torchvision) (3.1.3)\n",
                        "Requirement already satisfied: nvidia-cuda-nvrtc-cu11==11.7.99 in /home/paperspace/devinterp/.venv/lib/python3.8/site-packages (from torch==2.0.1->torchvision) (11.7.99)\n",
                        "Requirement already satisfied: nvidia-cuda-runtime-cu11==11.7.99 in /home/paperspace/devinterp/.venv/lib/python3.8/site-packages (from torch==2.0.1->torchvision) (11.7.99)\n",
                        "Requirement already satisfied: nvidia-cuda-cupti-cu11==11.7.101 in /home/paperspace/devinterp/.venv/lib/python3.8/site-packages (from torch==2.0.1->torchvision) (11.7.101)\n",
                        "Requirement already satisfied: nvidia-cudnn-cu11==8.5.0.96 in /home/paperspace/devinterp/.venv/lib/python3.8/site-packages (from torch==2.0.1->torchvision) (8.5.0.96)\n",
                        "Requirement already satisfied: nvidia-cublas-cu11==11.10.3.66 in /home/paperspace/devinterp/.venv/lib/python3.8/site-packages (from torch==2.0.1->torchvision) (11.10.3.66)\n",
                        "Requirement already satisfied: nvidia-cufft-cu11==10.9.0.58 in /home/paperspace/devinterp/.venv/lib/python3.8/site-packages (from torch==2.0.1->torchvision) (10.9.0.58)\n",
                        "Requirement already satisfied: nvidia-curand-cu11==10.2.10.91 in /home/paperspace/devinterp/.venv/lib/python3.8/site-packages (from torch==2.0.1->torchvision) (10.2.10.91)\n",
                        "Requirement already satisfied: nvidia-cusolver-cu11==11.4.0.1 in /home/paperspace/devinterp/.venv/lib/python3.8/site-packages (from torch==2.0.1->torchvision) (11.4.0.1)\n",
                        "Requirement already satisfied: nvidia-cusparse-cu11==11.7.4.91 in /home/paperspace/devinterp/.venv/lib/python3.8/site-packages (from torch==2.0.1->torchvision) (11.7.4.91)\n",
                        "Requirement already satisfied: nvidia-nccl-cu11==2.14.3 in /home/paperspace/devinterp/.venv/lib/python3.8/site-packages (from torch==2.0.1->torchvision) (2.14.3)\n",
                        "Requirement already satisfied: nvidia-nvtx-cu11==11.7.91 in /home/paperspace/devinterp/.venv/lib/python3.8/site-packages (from torch==2.0.1->torchvision) (11.7.91)\n",
                        "Requirement already satisfied: triton==2.0.0 in /home/paperspace/devinterp/.venv/lib/python3.8/site-packages (from torch==2.0.1->torchvision) (2.0.0)\n",
                        "Requirement already satisfied: setuptools in /home/paperspace/devinterp/.venv/lib/python3.8/site-packages (from nvidia-cublas-cu11==11.10.3.66->torch==2.0.1->torchvision) (69.0.3)\n",
                        "Requirement already satisfied: wheel in /home/paperspace/devinterp/.venv/lib/python3.8/site-packages (from nvidia-cublas-cu11==11.10.3.66->torch==2.0.1->torchvision) (0.42.0)\n",
                        "Requirement already satisfied: cmake in /home/paperspace/devinterp/.venv/lib/python3.8/site-packages (from triton==2.0.0->torch==2.0.1->torchvision) (3.28.1)\n",
                        "Requirement already satisfied: lit in /home/paperspace/devinterp/.venv/lib/python3.8/site-packages (from triton==2.0.0->torch==2.0.1->torchvision) (17.0.6)\n",
                        "Requirement already satisfied: fsspec>=2023.5.0 in /home/paperspace/devinterp/.venv/lib/python3.8/site-packages (from huggingface-hub<1.0,>=0.19.3->transformers) (2023.12.2)\n",
                        "Requirement already satisfied: charset-normalizer<4,>=2 in /home/paperspace/devinterp/.venv/lib/python3.8/site-packages (from requests->transformers) (3.3.2)\n",
                        "Requirement already satisfied: idna<4,>=2.5 in /home/paperspace/devinterp/.venv/lib/python3.8/site-packages (from requests->transformers) (3.6)\n",
                        "Requirement already satisfied: urllib3<3,>=1.21.1 in /home/paperspace/devinterp/.venv/lib/python3.8/site-packages (from requests->transformers) (2.1.0)\n",
                        "Requirement already satisfied: certifi>=2017.4.17 in /home/paperspace/devinterp/.venv/lib/python3.8/site-packages (from requests->transformers) (2023.11.17)\n",
                        "Requirement already satisfied: MarkupSafe>=2.0 in /home/paperspace/devinterp/.venv/lib/python3.8/site-packages (from jinja2->torch==2.0.1->torchvision) (2.1.3)\n",
                        "Requirement already satisfied: mpmath>=0.19 in /home/paperspace/devinterp/.venv/lib/python3.8/site-packages (from sympy->torch==2.0.1->torchvision) (1.3.0)\n",
                        "\n",
                        "\u001b[1m[\u001b[0m\u001b[34;49mnotice\u001b[0m\u001b[1;39;49m]\u001b[0m\u001b[39;49m A new release of pip is available: \u001b[0m\u001b[31;49m23.3.2\u001b[0m\u001b[39;49m -> \u001b[0m\u001b[32;49m24.0\u001b[0m\n",
                        "\u001b[1m[\u001b[0m\u001b[34;49mnotice\u001b[0m\u001b[1;39;49m]\u001b[0m\u001b[39;49m To update, run: \u001b[0m\u001b[32;49mpip install --upgrade pip\u001b[0m\n",
                        "Note: you may need to restart the kernel to use updated packages.\n",
                        "/home/paperspace/devinterp\n",
                        "Obtaining file:///home/paperspace/devinterp\n",
                        "  Installing build dependencies ... \u001b[?25ldone\n",
                        "\u001b[?25h  Checking if build backend supports build_editable ... \u001b[?25ldone\n",
                        "\u001b[?25h  Getting requirements to build editable ... \u001b[?25ldone\n",
                        "\u001b[?25h  Preparing editable metadata (pyproject.toml) ... \u001b[?25ldone\n",
                        "\u001b[?25hRequirement already satisfied: einops==0.6.1 in ./.venv/lib/python3.8/site-packages (from devinterp==0.1.0) (0.6.1)\n",
                        "Requirement already satisfied: matplotlib>=3.7.4 in ./.venv/lib/python3.8/site-packages (from devinterp==0.1.0) (3.7.4)\n",
                        "Requirement already satisfied: numpy==1.23.5 in ./.venv/lib/python3.8/site-packages (from devinterp==0.1.0) (1.23.5)\n",
                        "Requirement already satisfied: torch==2.0.1 in ./.venv/lib/python3.8/site-packages (from devinterp==0.1.0) (2.0.1)\n",
                        "Requirement already satisfied: tqdm==4.65.0 in ./.venv/lib/python3.8/site-packages (from devinterp==0.1.0) (4.65.0)\n",
                        "Requirement already satisfied: filelock in ./.venv/lib/python3.8/site-packages (from torch==2.0.1->devinterp==0.1.0) (3.13.1)\n",
                        "Requirement already satisfied: typing-extensions in ./.venv/lib/python3.8/site-packages (from torch==2.0.1->devinterp==0.1.0) (4.9.0)\n",
                        "Requirement already satisfied: sympy in ./.venv/lib/python3.8/site-packages (from torch==2.0.1->devinterp==0.1.0) (1.12)\n",
                        "Requirement already satisfied: networkx in ./.venv/lib/python3.8/site-packages (from torch==2.0.1->devinterp==0.1.0) (3.1)\n",
                        "Requirement already satisfied: jinja2 in ./.venv/lib/python3.8/site-packages (from torch==2.0.1->devinterp==0.1.0) (3.1.3)\n",
                        "Requirement already satisfied: nvidia-cuda-nvrtc-cu11==11.7.99 in ./.venv/lib/python3.8/site-packages (from torch==2.0.1->devinterp==0.1.0) (11.7.99)\n",
                        "Requirement already satisfied: nvidia-cuda-runtime-cu11==11.7.99 in ./.venv/lib/python3.8/site-packages (from torch==2.0.1->devinterp==0.1.0) (11.7.99)\n",
                        "Requirement already satisfied: nvidia-cuda-cupti-cu11==11.7.101 in ./.venv/lib/python3.8/site-packages (from torch==2.0.1->devinterp==0.1.0) (11.7.101)\n",
                        "Requirement already satisfied: nvidia-cudnn-cu11==8.5.0.96 in ./.venv/lib/python3.8/site-packages (from torch==2.0.1->devinterp==0.1.0) (8.5.0.96)\n",
                        "Requirement already satisfied: nvidia-cublas-cu11==11.10.3.66 in ./.venv/lib/python3.8/site-packages (from torch==2.0.1->devinterp==0.1.0) (11.10.3.66)\n",
                        "Requirement already satisfied: nvidia-cufft-cu11==10.9.0.58 in ./.venv/lib/python3.8/site-packages (from torch==2.0.1->devinterp==0.1.0) (10.9.0.58)\n",
                        "Requirement already satisfied: nvidia-curand-cu11==10.2.10.91 in ./.venv/lib/python3.8/site-packages (from torch==2.0.1->devinterp==0.1.0) (10.2.10.91)\n",
                        "Requirement already satisfied: nvidia-cusolver-cu11==11.4.0.1 in ./.venv/lib/python3.8/site-packages (from torch==2.0.1->devinterp==0.1.0) (11.4.0.1)\n",
                        "Requirement already satisfied: nvidia-cusparse-cu11==11.7.4.91 in ./.venv/lib/python3.8/site-packages (from torch==2.0.1->devinterp==0.1.0) (11.7.4.91)\n",
                        "Requirement already satisfied: nvidia-nccl-cu11==2.14.3 in ./.venv/lib/python3.8/site-packages (from torch==2.0.1->devinterp==0.1.0) (2.14.3)\n",
                        "Requirement already satisfied: nvidia-nvtx-cu11==11.7.91 in ./.venv/lib/python3.8/site-packages (from torch==2.0.1->devinterp==0.1.0) (11.7.91)\n",
                        "Requirement already satisfied: triton==2.0.0 in ./.venv/lib/python3.8/site-packages (from torch==2.0.1->devinterp==0.1.0) (2.0.0)\n",
                        "Requirement already satisfied: setuptools in ./.venv/lib/python3.8/site-packages (from nvidia-cublas-cu11==11.10.3.66->torch==2.0.1->devinterp==0.1.0) (69.0.3)\n",
                        "Requirement already satisfied: wheel in ./.venv/lib/python3.8/site-packages (from nvidia-cublas-cu11==11.10.3.66->torch==2.0.1->devinterp==0.1.0) (0.42.0)\n",
                        "Requirement already satisfied: cmake in ./.venv/lib/python3.8/site-packages (from triton==2.0.0->torch==2.0.1->devinterp==0.1.0) (3.28.1)\n",
                        "Requirement already satisfied: lit in ./.venv/lib/python3.8/site-packages (from triton==2.0.0->torch==2.0.1->devinterp==0.1.0) (17.0.6)\n",
                        "Requirement already satisfied: contourpy>=1.0.1 in ./.venv/lib/python3.8/site-packages (from matplotlib>=3.7.4->devinterp==0.1.0) (1.1.1)\n",
                        "Requirement already satisfied: cycler>=0.10 in ./.venv/lib/python3.8/site-packages (from matplotlib>=3.7.4->devinterp==0.1.0) (0.12.1)\n",
                        "Requirement already satisfied: fonttools>=4.22.0 in ./.venv/lib/python3.8/site-packages (from matplotlib>=3.7.4->devinterp==0.1.0) (4.47.2)\n",
                        "Requirement already satisfied: kiwisolver>=1.0.1 in ./.venv/lib/python3.8/site-packages (from matplotlib>=3.7.4->devinterp==0.1.0) (1.4.5)\n",
                        "Requirement already satisfied: packaging>=20.0 in ./.venv/lib/python3.8/site-packages (from matplotlib>=3.7.4->devinterp==0.1.0) (23.2)\n",
                        "Requirement already satisfied: pillow>=6.2.0 in ./.venv/lib/python3.8/site-packages (from matplotlib>=3.7.4->devinterp==0.1.0) (10.2.0)\n",
                        "Requirement already satisfied: pyparsing>=2.3.1 in ./.venv/lib/python3.8/site-packages (from matplotlib>=3.7.4->devinterp==0.1.0) (3.1.1)\n",
                        "Requirement already satisfied: python-dateutil>=2.7 in ./.venv/lib/python3.8/site-packages (from matplotlib>=3.7.4->devinterp==0.1.0) (2.8.2)\n",
                        "Requirement already satisfied: importlib-resources>=3.2.0 in ./.venv/lib/python3.8/site-packages (from matplotlib>=3.7.4->devinterp==0.1.0) (6.1.1)\n",
                        "Requirement already satisfied: zipp>=3.1.0 in ./.venv/lib/python3.8/site-packages (from importlib-resources>=3.2.0->matplotlib>=3.7.4->devinterp==0.1.0) (3.17.0)\n",
                        "Requirement already satisfied: six>=1.5 in ./.venv/lib/python3.8/site-packages (from python-dateutil>=2.7->matplotlib>=3.7.4->devinterp==0.1.0) (1.16.0)\n",
                        "Requirement already satisfied: MarkupSafe>=2.0 in ./.venv/lib/python3.8/site-packages (from jinja2->torch==2.0.1->devinterp==0.1.0) (2.1.3)\n",
                        "Requirement already satisfied: mpmath>=0.19 in ./.venv/lib/python3.8/site-packages (from sympy->torch==2.0.1->devinterp==0.1.0) (1.3.0)\n",
                        "Building wheels for collected packages: devinterp\n",
                        "  Building editable for devinterp (pyproject.toml) ... \u001b[?25ldone\n",
                        "\u001b[?25h  Created wheel for devinterp: filename=devinterp-0.1.0-0.editable-py3-none-any.whl size=3491 sha256=a8f3498cb96a8bbcaa8c0beeab91a1107167d303ea2e594323463d87f12864d7\n",
                        "  Stored in directory: /tmp/pip-ephem-wheel-cache-r9epaibj/wheels/91/e6/e0/019210957504227ae25445ed529a61d17d33409b6696c34298\n",
                        "Successfully built devinterp\n",
                        "Installing collected packages: devinterp\n",
                        "  Attempting uninstall: devinterp\n",
                        "    Found existing installation: devinterp 0.1.0\n",
                        "    Uninstalling devinterp-0.1.0:\n",
                        "      Successfully uninstalled devinterp-0.1.0\n",
                        "Successfully installed devinterp-0.1.0\n",
                        "\n",
                        "\u001b[1m[\u001b[0m\u001b[34;49mnotice\u001b[0m\u001b[1;39;49m]\u001b[0m\u001b[39;49m A new release of pip is available: \u001b[0m\u001b[31;49m23.3.2\u001b[0m\u001b[39;49m -> \u001b[0m\u001b[32;49m24.0\u001b[0m\n",
                        "\u001b[1m[\u001b[0m\u001b[34;49mnotice\u001b[0m\u001b[1;39;49m]\u001b[0m\u001b[39;49m To update, run: \u001b[0m\u001b[32;49mpip install --upgrade pip\u001b[0m\n",
                        "Note: you may need to restart the kernel to use updated packages.\n"
                    ]
                }
            ],
            "source": [
                "%pip install transformers torchvision\n",
                "%cd ..\n",
                "%pip install -e ."
            ]
        },
        {
            "cell_type": "markdown",
            "metadata": {},
            "source": [
                "# Methods\n",
                "\n",
                "## Local Learning Coefficients\n",
                "\n",
                "The first method we have have online is local learning coefficient estimation ([Lau et al. 2023](https://arxiv.org/abs/2308.12108)). \n",
                "\n",
                "For an in-depth explaination, see [this post](https://www.lesswrong.com/posts/6g8cAftfQufLmFDYT/you-re-counting-your-parameters-wrong). The short version is that: \n",
                "- The (local) learning coefficient $\\hat\\lambda$ is the \"correct\" measure of model complexity. Besides the loss, it's the most principled high-level way to compare models.\n",
                "- We can cheaply estimate the learning coefficient associated to a choice of weights $\\hat w^*$ by using the following formula:\n",
                "\n",
                "$$\n",
                "\\hat\\lambda(\\hat w^*)=\\frac{\\mathbb{E}_{w|\\hat w^*, \\gamma}^{\\beta^*}\\left[n L_n(w)\\right] - n L_n(\\hat w^*)}{\\log n}.\n",
                "$$\n",
                "\n",
                "where, $n$ is the number of (training) samples, $L_n(w)$ is the negative log likelihood (i.e., your objective function), and $\\mathbb{E}_w^{\\beta^*}\\left[n L_n(w)\\right]$ is a \"local average\" of $nL_n(w)$ over a neighborhood of $\\hat w^*$. The parameters $\\gamma$ and $\\beta^*$ control the local averaging.\n",
                "\n",
                "The difficulty is in performing the local average: we need to sample enough points and they need to be both diverse / spread out enough and close enough to the starting weight. To make sure they're spread out enough we use an optimizer like Stochastic Gradient Langevin Dynamics (SGLD), which is SGD plus Gaussian noise.\n"
            ]
        },
        {
            "cell_type": "code",
            "execution_count": 2,
            "metadata": {},
            "outputs": [],
            "source": [
                "import yaml\n",
                "\n",
                "import torch\n",
                "import torchvision\n",
                "from transformers import AutoModelForImageClassification\n",
                "from torch.nn import functional as F\n",
                "\n",
                "from devinterp.slt import estimate_learning_coeff_with_summary\n",
                "from devinterp.optim import SGLD\n",
                "from devinterp.utils import plot_trace\n",
                "\n",
                "DEVICE = \"cuda\" if torch.cuda.is_available() else \"cpu\""
            ]
        },
        {
            "cell_type": "code",
            "execution_count": 5,
            "metadata": {},
            "outputs": [
                {
                    "name": "stderr",
                    "output_type": "stream",
                    "text": [
                        "/home/paperspace/devinterp/src/devinterp/slt/sampler.py:129: UserWarning: You are taking more draws than burn-in steps, your LLC estimates will likely be underestimates. Please check LLC chain convergence.\n",
                        "  warnings.warn(\n",
                        "/home/paperspace/devinterp/src/devinterp/slt/sampler.py:133: UserWarning: You are taking more sample batches than there are dataloader batches available, this removes some randomness from sampling but is probably fine. (All sample batches beyond the number dataloader batches are cycled from the start, f.e. 9 samples from [A, B, C] would be [B, A, C, B, A, C, B, A, C].)\n",
                        "  warnings.warn(\n"
                    ]
                },
                {
                    "name": "stdout",
                    "output_type": "stream",
                    "text": [
                        "235\n"
                    ]
                },
                {
                    "name": "stderr",
                    "output_type": "stream",
                    "text": [
                        "Chain 0:   1%|          | 2/300 [00:00<00:16, 18.17it/s]"
                    ]
                },
                {
                    "name": "stdout",
                    "output_type": "stream",
                    "text": [
                        "0.0532807819545269 4.48175048828125\n"
                    ]
                },
                {
                    "name": "stderr",
                    "output_type": "stream",
                    "text": [
                        "Chain 0: 100%|██████████| 300/300 [00:14<00:00, 21.20it/s]\n",
                        "Chain 1:   1%|▏         | 4/300 [00:00<00:16, 18.23it/s]"
                    ]
                },
                {
                    "name": "stdout",
                    "output_type": "stream",
                    "text": [
                        "0.048797737807035446 4.48175048828125\n"
                    ]
                },
                {
                    "name": "stderr",
                    "output_type": "stream",
                    "text": [
                        "Chain 1: 100%|██████████| 300/300 [00:13<00:00, 21.60it/s]\n",
                        "Chain 2:   1%|▏         | 4/300 [00:00<00:16, 17.75it/s]"
                    ]
                },
                {
                    "name": "stdout",
                    "output_type": "stream",
                    "text": [
                        "0.026111191138625145 4.48175048828125\n"
                    ]
                },
                {
                    "name": "stderr",
                    "output_type": "stream",
                    "text": [
                        "Chain 2: 100%|██████████| 300/300 [00:13<00:00, 21.64it/s]\n",
                        "Chain 3:   1%|          | 3/300 [00:00<00:28, 10.34it/s]"
                    ]
                },
                {
                    "name": "stdout",
                    "output_type": "stream",
                    "text": [
                        "0.04358084872364998 4.48175048828125\n"
                    ]
                },
                {
                    "name": "stderr",
                    "output_type": "stream",
                    "text": [
                        "Chain 3: 100%|██████████| 300/300 [00:14<00:00, 20.70it/s]\n",
                        "Chain 4:   1%|▏         | 4/300 [00:00<00:16, 18.22it/s]"
                    ]
                },
                {
                    "name": "stdout",
                    "output_type": "stream",
                    "text": [
                        "0.05440887063741684 4.48175048828125\n"
                    ]
                },
                {
                    "name": "stderr",
                    "output_type": "stream",
                    "text": [
                        "Chain 4: 100%|██████████| 300/300 [00:14<00:00, 21.41it/s]"
                    ]
                },
                {
                    "name": "stdout",
                    "output_type": "stream",
                    "text": [
                        "[[-24150.68  -24179.92  -24153.537 ... -23612.873 -23611.744 -23611.785]\n",
                        " [-24175.129 -24018.232 -23971.498 ... -23623.656 -23623.504 -23624.195]\n",
                        " [-24298.85  -24246.781 -24155.38  ... -23601.578 -23602.09  -23601.758]\n",
                        " [-24203.576 -24228.64  -24128.342 ... -23641.967 -23641.895 -23640.895]\n",
                        " [-24144.525 -24120.645 -24128.93  ... -23602.8   -23603.14  -23603.35 ]]\n",
                        "Lambda hat estimates:\n",
                        "llc/means: !!python/object/apply:numpy.core.multiarray._reconstruct\n",
                        "  args:\n",
                        "  - &id001 !!python/name:numpy.ndarray ''\n",
                        "  - !!python/tuple\n",
                        "    - 0\n",
                        "  - !!binary |\n",
                        "    Yg==\n",
                        "  state: !!python/tuple\n",
                        "  - 1\n",
                        "  - !!python/tuple\n",
                        "    - 300\n",
                        "  - &id002 !!python/object/apply:numpy.dtype\n",
                        "    args:\n",
                        "    - f4\n",
                        "    - false\n",
                        "    - true\n",
                        "    state: !!python/tuple\n",
                        "    - 3\n",
                        "    - <\n",
                        "    - null\n",
                        "    - null\n",
                        "    - null\n",
                        "    - -1\n",
                        "    - -1\n",
                        "    - 0\n",
                        "  - false\n",
                        "  - !!binary |\n",
                        "    GwW9xrC9vMYUV7zGExG8xjXku8Y4t7vGLZi7xh5vu8b4RrvG7Di7xp0fu8a/AbvGWPy6xl/vusb6\n",
                        "    4LrGa926xlLXusYHz7rGl9S6xkfPusZLyrrG1se6xh+8usayurrGJbG6xl+kusaFlbrG44+6xo+N\n",
                        "    usZLibrGSH+6xlt8usb+fLrGI3u6xoB6usYLd7rGOHG6xjJtusacaLrGJ2S6xsddusaVWrrG11i6\n",
                        "    xvRWusbyT7rGBU26xqBGusa6P7rGHjm6xpczusbuLLrGEyu6xncousYiH7rGghy6xrIXusbEFbrG\n",
                        "    RRG6xr8Nusa3CrrGqwi6xgMDusbf/7nGL/25xuv2ucbT87nGY+25xpTrucYz6rnGeuS5xgjeucZr\n",
                        "    2rnG0Ne5xoXTucYnzbnG78m5xmjIucbbxLnG4MC5xku7ucYmurnGHLS5xiKuucb6qrnGl6a5xouj\n",
                        "    ucZrn7nGAZu5xkWYucY4lbnGOJG5xqiNucaLiLnGp4a5xn6BucZRfLnGaHi5xp91ucblcbnGbm65\n",
                        "    xiNsucavZrnGbWO5xvNgucbZXLnGg1q5xlNWucbbU7nGC1G5xudPucavTbnGLEm5xnBJucbxR7nG\n",
                        "    S0e5xjxGucZDRrnG4ES5xvVBucanQLnGeD25xus7ucYfOLnGqTW5xls0ucaAMrnGAi+5xq8sucYt\n",
                        "    LrnGQy25xnYsucYDK7nGAyi5xtcmucbqJLnGoCK5xrYfucbMHrnGfxq5xmcXucZtFrnGyxO5xkAS\n",
                        "    ucYyEbnGRg+5xv8MucbGC7nG0ge5xlkHucaqA7nGPAG5xlUAucaQ/bjGIfu4xmL4uMZg97jG4va4\n",
                        "    xo/1uMap9LjGSPO4xgfyuMZd8LjGIO64xgnsuMag6rjGcui4xoznuMYn5rjGj+O4xqLhuMbv4rjG\n",
                        "    x+K4xkviuMZ/4bjGeOC4xtzfuMYN37jGy924xojbuMaM2rjGUti4xonWuMZK1bjGwtO4xnjRuMbf\n",
                        "    z7jGnM64xi/OuMZdzrjGx8y4xuPKuMZoybjGe8i4xm/IuMbDxrjGxMW4xvvDuMY/w7jGsMG4xmLA\n",
                        "    uMYzv7jGpb64xhO+uMa7vLjGqru4xvO6uMaWubjGoLe4xkO0uMZ0s7jGQLK4xhixuMaasLjGCLC4\n",
                        "    xi6wuMb7r7jGv6+4xn2vuMYPr7jGs664xiStuMZArLjG8Kq4xlaruMYbqrjGf6i4xnynuMbjprjG\n",
                        "    h6a4xrCluMYapbjG86O4xiOkuMbIorjGwKK4xi+iuMYdorjGtaC4xguguMb0nrjGPZ64xtecuMaO\n",
                        "    m7jG75m4xm6ZuMZTmLjGdJe4xnWWuMYflrjGSJW4xnuUuMYylLjGbJO4xk2TuMYFkrjGC5G4xqOQ\n",
                        "    uManj7jGWI+4xsiOuMYLjrjGsoy4xpCMuMYAjLjGV4u4xsOKuMYrirjGBYq4xk6JuMasibjGi4m4\n",
                        "    xjmJuMbXiLjGV4i4xs+HuMZwh7jGyoa4xtCGuMadhrjGHoa4xv+FuMZHhbjG2IS4xk+EuMY4hLjG\n",
                        "    aIO4xqyDuMYyhLjGS4O4xh+DuMZfgrjGIYK4xmCCuMYZgrjGY4G4xquBuMYogbjGJ4G4xvOAuMbL\n",
                        "    gLjG\n",
                        "llc/stds: !!python/object/apply:numpy.core.multiarray._reconstruct\n",
                        "  args:\n",
                        "  - *id001\n",
                        "  - !!python/tuple\n",
                        "    - 0\n",
                        "  - !!binary |\n",
                        "    Yg==\n",
                        "  state: !!python/tuple\n",
                        "  - 1\n",
                        "  - !!python/tuple\n",
                        "    - 300\n",
                        "  - *id002\n",
                        "  - false\n",
                        "  - !!binary |\n",
                        "    ehx7QpYluUKGR5pCoc2hQr4fq0KImNJC2grRQoaNpUIB74hCEMqBQgncgEIMR2dCIgFPQhmgO0LP\n",
                        "    hDhCMcc/Qn6BNEIoKCxC0vInQlehFEJ7WhtCCxEgQvBOH0IB+hZCK74MQsyeBULh5Q5CP04RQhVK\n",
                        "    FEK9sRNCp6IWQnJlCELsHwVCkqPzQV1G50H4R99BNMfZQa3r30HpIt9B7kPTQS0G3UH6atxBSyXR\n",
                        "    QZJo3EGNieNBPyrXQWJNu0FLg7JBjd+gQbLOoUGIBKdB1DWRQYaHlEHyNphBo1eTQarqi0FtZJZB\n",
                        "    1c2RQfP9l0FWY5hB/o+bQXSslkECLZNB+A2MQW7aikH6E5RBfSmiQfEQo0FoQaRBM7KsQQwIuUE2\n",
                        "    28ZBCFq+QYB7wUEkzMlBJIPIQcP1wkHWRb9B5ui9QRnBu0EE0LpBcs3CQZh+wEFRSsRBIlvBQb/3\n",
                        "    uEFaccBBlra8QbuGwEEEGrtBX3a0QaaoskFgObdBFHW2QWD7sEEMvK5BD6quQQi0v0FJCcNBvU++\n",
                        "    QSfDt0H1xalBjEqmQTs4pEGeFqZBvMqiQctrpUGqzqhBAFKsQdAupUH3TqhB4TytQafxrkE8eKdB\n",
                        "    VxqqQcPOqkEWXqlBsc2xQeKNtEEFra1BeWq5QT72v0Efbr5Bv+6zQQXzsEFXgapBwaOqQQtaqEGS\n",
                        "    1qNBk5epQdG0qEG/s65BwBqrQT3Tq0FrRahBurGsQUCDrUF7V7NB4wK1QfSNs0GmXrNB5EW0QWm6\n",
                        "    sEFMvqpBDRKpQfukrkEzTbVBOlSuQSS7q0GcMK1B4FGyQS5GtkFpGbdBCgO6QdzivUFxH8BB40G+\n",
                        "    QfaxvUHbBL1Bcfq/QSKhwEELNr1BarK/Qb9WvUHKAMBBzPW8QdyUtUEworFBCS2xQabKs0GyZbZB\n",
                        "    o5K0QY1dsUFWEbBBNXmyQazxsUHPt7BBXNKyQSiGtUEvx7hBzWy4QefItkF+mrZBRH+0QVQEtEH0\n",
                        "    4bVBEN6uQZiTr0Hx0a9BGiOvQYzOsEGNDrFBSuawQRO+sEH1ALZBaz2yQYebs0H+2bNBNGGwQXac\n",
                        "    r0GGKrJBYB+2QbM+s0Gm5bBBRC+yQbTUtUFvCrNBq1ytQUuPsUEUqrFB+3avQTwOrEEwHK5Bno2r\n",
                        "    QRmRqkHC6KlBVfquQfNwr0Ejc69BQSKuQbIirkHl4a9BHhStQX15qkH6QKhBbVmjQf8upUGmiaNB\n",
                        "    QRalQWcAo0FX9qJBf+ifQbfrn0F5oaNBSh+kQV31oEHdA6BBJ/KgQTEqn0HSbJ1B18mZQYTnlUHR\n",
                        "    qpRB9gKTQQ5/kkGvLpBBQ4+OQQPsjUFnho5BDc2RQbxNkkEaOZJBEjCMQbmsiEHKZYdBJpiFQeLO\n",
                        "    iEEVM4xBFXiKQS00jkEpPIxBFg+KQQbCikH3FYtBSMyLQaQgjUHE1YpB8FWIQcDCh0EvoopByOCI\n",
                        "    QUStiEHKUopBBaCMQYiljEEq3YtBHO6MQRZnikFAO4tBdNKLQYOBjEGLVIpB/M+LQZyCi0EtIotB\n",
                        "    lH6LQe52ikHHpItBcRCJQX6KiEHMtYdBYeCHQZdah0E+xYdBR2GIQfZxjEESJopBow6GQbvThEEK\n",
                        "    pYJB\n",
                        "loss/trace: !!python/object/apply:numpy.core.multiarray._reconstruct\n",
                        "  args:\n",
                        "  - *id001\n",
                        "  - !!python/tuple\n",
                        "    - 0\n",
                        "  - !!binary |\n",
                        "    Yg==\n",
                        "  state: !!python/tuple\n",
                        "  - 1\n",
                        "  - !!python/tuple\n",
                        "    - 5\n",
                        "    - 300\n",
                        "  - *id002\n",
                        "  - false\n",
                        "  - !!binary |\n",
                        "    8zxaPa5QLj2DuX89sdcyPT09Vj1hfRw9PhS0PYZR/D3b5AE+odXjPTjj8T3W7wY+utLJPRkKBD4J\n",
                        "    ChE+SYOvPTJU4j30CPs9fF+2PeOd+D2ui709RxeUPeA6/D3Idbo9/jXlPS038T19Mug9U3HUPQEn\n",
                        "    uj2bxuc9OuL3PS+l6j2N/9A9xBkUPmyUCD4jPes9xMbiPZvU7D3x6d49iyD4PVON9T1obgY+Aqe/\n",
                        "    PV65Az6ObBM+K4wPPofGCz5jD/c9QEEDPkU+HD6WhQg+hXEWPqt/Az7tBAU+jTzwPddCHj6JvOY9\n",
                        "    bswNPs9jzz0cKxM+PtT4PfRmHj6mXNI9Xi4lPkgHPD5H9M49SsXvPcjP9T2uSfU9nuUQPkW/GT6F\n",
                        "    sgI+mMcjPoHJKz5iNCE+1iQfPtF+4T0uuAM+gx4iPodBPD5n/fE90HMEPnKAUT5zYio+7KUhPn+x\n",
                        "    Ez6qVhc+Hz9QPvGwFz6m3Q0+8GUrPt1uRz5LOCg+bgTyPc6cQD5ps0U+mSMfPveHGD6VNT8+uo9Q\n",
                        "    PromCj5BEDI+CelJPuPLQD7lGho+O4ECPs5KLT4WyAE+MqogPqyf6D05nyk+vt4JPsdB9j0FbA8+\n",
                        "    +lgUPhWLLz52qOA9Pj7kPTzyWj50xRU+ZhwBPgWu+z0QxDk+6vU9Pq4+Lj5K0RI+Z715Pon0DD4f\n",
                        "    liE+LaT9PXJUKD6jZyI+SEctPi9kFj54RAw+JIIePhobET7gAxo+SvEdPg29PT67JBY+i2gZPl5p\n",
                        "    PT5cZhA+iBNDPr1SJT6beRQ+1mM1PgwbOD6UHD0+BiUpPovBCz4UKjw+y5tFPmP8JD4h0Bc+/x8t\n",
                        "    PrecTD58hxs+q4szPsXCLD4kGyQ+p98UPojrIj7i0Sg+1SIiPpNxQj7u1is+qlo+PrpYMT69XwE+\n",
                        "    KWIYPn2jFj6r2BA+6p5APjOCBD4zQh8+GgoPPtKfKj6MIik+QDQ3PrVjSD4jP0o+bctGPnrXWD7w\n",
                        "    wjQ+A4AZPrR0ET4CBw8+zKY9PvI9VT4WFks+Ye7qPZO7Jj5RMHQ+mu7wPQ94KT740Dg+fUhyPudR\n",
                        "    bz51ajg+M14rPqlDQj4AGDM+SPg6Pg+UST4CJBo+Qig/PsGGXj7e20c+RA4UPmzIMj6ZtTI+y40F\n",
                        "    PpTOGD5HlTA+eQEYPt51Qj5UAEQ+qzYjPvnYEj6AtSY+7LBTPr5EBT4ebws+UsVDPj9YFT4dQEw+\n",
                        "    i7wfPr9HLz4S7gc+4hpWPqgSDD7o7EQ+w3QNPtz7Ej4qkAY+qDhePvUMJT6QdiI+WAEEPv8MOz7I\n",
                        "    Bj4+boEyPgqaMT6ilik+XuY2Phb2Fj6WUBM+v9IKPjNdEz661FY+WC8KPtRYDz6tJiU+Vq4ePlM5\n",
                        "    FD4Td0A+wbcoPhqtQj5ATSg+zXgvPlzlHj7i/RM+c4gXPorqGT5MeR8+rOMuPjIOQj5q2CE++OAx\n",
                        "    Psq0Lj5B0AY+z+YgPlnQLj7FyDg+okQ3Psjb9D2zzyY+RAZDPssLKD40zSc+L8oiPr9WFz7SsRQ+\n",
                        "    7TswPh0JaD5ahyI+XGgfPh45Bz5Kg0Q+Pm0BPpA4DD4LdiA+SjpIPqnJDD6PjFE+BawRPqvtWj5+\n",
                        "    bRk+I+BHPTrH2T2qgtM9gePaPTwW4T1Erw0+6JgGPleMqz3/gtU9h0XnPXViGz5KHuw9Ov6YPVLX\n",
                        "    5D0QEgE+Rrv3PR1fqD1fjwY+SinZPW1+xD0HnxE+nqQBPkgNAz5mlK49QsaXPdmm9j2mrTs+iSr6\n",
                        "    PXtB6z2TWfk933jwPQLnnT1YLfg98lzEPTZ9wj3wz/s9JWX3PTXxBT4pd9k9V5wDPkRzAz4VC+c9\n",
                        "    E6jrPX/RDz4QWgs+YbkDPumeyj03NOU9ZvLVPW52+z2NuN89u2HYPSe++j1L7xw+8FDIPaXUGD6R\n",
                        "    vdw9BOkVPqoiFT6gSwM+iJbxPaOdDT5QWyk+/sH4PcPl2j3bmv89HTEnPkjTuz2O4+M9iZgiPkFV\n",
                        "    PD7LNO89xUQYPq00BD7/fR4+lysaPhgQCz4Lbhc+4J0QPqbAGT5YkQE+2dQiPmA8KT4HAQ8+ad84\n",
                        "    PgCCJz5ZGD0+/f4qPmydBD4nhkM+ZqA3Psfo3z0wfSo+GRkIPs6oFj4PCUg+YFIiPpe9DD5lkhw+\n",
                        "    UfkrPsTXFT5LKzw+gqctPhoRCT6T9Do+fAIoPg8iPD7EWAg+XGXVPWfWDj7vEwo+X/dBPvSd5j3g\n",
                        "    WQ8+iubXPdtj3z1AwwI+IO4WPpGBOD7f5k4+5WUcPiT8Cz5+HTw+IFZLPiTKID6EkiE+d8sSPghm\n",
                        "    LD7hR7s92gbYPZaXBj4GEx4+jQxDPmn1FD7TqiI+U5gKPmOFLT5HUtE96etaPnu3GD6MQBk+K5QE\n",
                        "    Pmm3ND63Lho+JbsJPn5sFj7mzRY+N819PvB3DT53300+xCYkPsUBBT6qJSg+qhoxPnIwLz4kmw4+\n",
                        "    kuEdPrbYET63uEY+eKUoPniMPj6rySA+qTQUPhBxMT5lGAM+lksmPvr/MT5Hb0s+dKI0PqU/UD7c\n",
                        "    dfg9YcQQPpelVT5NUiw+JCwfPpUwRz5VQBY+L0sYPjB6Sz66LiY+wawMPtbtCT6E1hs+2aZbPm7T\n",
                        "    /T1UNj4++PBFPsnpHz60dBM+Lw1LPrnBIT42M0k+OrVIPoBP6j3XnRY+lMkSPsPTQD43kkY+JDgw\n",
                        "    Pg/RJj6/TPI9P4EdPjKGBj7YmVE+H+ZMPhO3DD5Ob0g+yPcePhM4Yz4zhzk+pvJHPmNYNT4R4PU9\n",
                        "    YBY8PrIRMj5A9y0+0m0DPuxtLD76Oxg+52grPqQhUT6noUc+pWMDPkAaBz4//Do+qCdOPn7MMz7h\n",
                        "    Res9z5AsPmhgKz6jMk0+Cp9APgAqEj4Jres9q9gkPnaPFD7EsSk+gxxCPuLoOz7ILgw+R4xUPnBa\n",
                        "    Xz5RvhI+8v0iPkSQOz5vv0U+TTgsPkmqEj52QiU+PuxMPuSZbT5C0xc+KK0+PkqtMD461UA++QFf\n",
                        "    PvxzGD6x/DA+i48VPuhfAz7Sjic+rGZpPksDHT54Ny8+dtYtPq4qKz46S7w9g2YnPt7EID58LAE+\n",
                        "    ttoxPpiIMD4A5RA+pf0BPqMbNj4vuik+xewSPtaOEz5Q0h0+3fAUPoMWDj7JWPc9/1QaPtes6j0A\n",
                        "    6yE+nij9PXTg3j1Gn+09e/ImPp4jAT7NtkM+FAYPPlMuCz6UwRs+bVs7Pp394z1nKSU+8plVPpX1\n",
                        "    IT49OeU9I+fVPHwqOT0wALA908vCPSAq1D2LIM09bh7kPfhlDz4V7O49FIDpPfE/nj1U8Ac+yOMH\n",
                        "    PvOqzz0Wse09/trePXKeDj4xPaU9Nx6JPXtftT3Pr5w9O+iIPQC3GT7eFxM+J4ZJPrxpDz7bOPY9\n",
                        "    St8JPn5RBD7+mvg91CY3Pp638T3zUKk9s9nWPYfO6T05B9k9wywFPm3dBj4yBBg+jobUPbqQJz7d\n",
                        "    wgs+ZZvLPXayBD7CMig+PtnHPSFb8D0m3Rw+D3gGPukIIj4NoTY+W+m5PS+iDT60Cyc+Wi8DPvJI\n",
                        "    AD6TGCI+qH8APrVKID5mbg0+P30YPoEcED5tb9g9FqgGPvEBKT4Hxic+DolCPtXXCj743Pg9FShP\n",
                        "    PsFLVT5KwEc+I68FPtzEND6Z/kE+f94gPgUdAD6u4RA+a2QaPte/Lz7q4AI+gxJTPhuYOD6MbzM+\n",
                        "    OWkaPu0G/j2zDT8+ggkkPhr9LD5gkgY+fYkKPisnLj5uTUw+r2oYPhj7JT761C0+qeMuPmHtaD4L\n",
                        "    nzs+Dy0UPl4XDD58xwc+o3YXPh60GT7cZj4+PcoXPrz0Pz6pWzw+pXRCPoAT9z3yNzM+kwpSPvXb\n",
                        "    FD7MUPY9QmUjPoorHD7khAM+ZphJPvD+Qj5LuO49m0ptPqR4Qj5riy4+RPvnPakmET7dzAg+v0Y8\n",
                        "    PpKUED6wANk9d19GPr4rED5EO0A+itYpPvSOHT7zixQ+C0c+PtsJQT5gAC4+GKcuPusmNj5Rvx8+\n",
                        "    j+olPnLLFz7fJPQ9WcovPhzZPz7doFI+BTcqPqaFDz5ao0g+5SBVPht6Qj7rNSk+oe9EPg7tWj6z\n",
                        "    hSg+Kn4PPk/eFz4zegw+CP47PpHoJj7N2xQ+GgU1PtR+LT5BCS4+u7sqPms47z05rCc+7PEyPsLE\n",
                        "    QD4R6Bo+3PsHPqlE+T1+lyY+AyIaPqQc7z1QuSk+f6wvPk/yRD5mlkE+dD5JPg7DFD4+WR4+gQIk\n",
                        "    PpjIOz566ik+F3nrPTAp/T20/h0+VssUPg6AKD7JLCs+ZyUrPpAmIT62HSQ+XwMpPhAyUz5SNBU+\n",
                        "    zDD7Pdh99z1hH18+c/FQPtCHBz79WB4+YKU7Pq2fKj5sQiI+j6sePgbaTj7T3xU+mPEgPpmcHT5w\n",
                        "    Vio+BGoxPnPu8D3Et/E9iW5APhZ0Ij7n5As+UhwUPiYrSD5HACo+kG80Pqe7+j1wvCo+lSsjPiOx\n",
                        "    Tz7qSBQ+G1sLPjt6Pz67oSQ+qV8RPiczHD5SqT8+qWsPPnItBD6i/BY+c7NCPuTyKj6rXkM+nrAj\n",
                        "    Pi0+Qz7iyzo+YvdUPk4JKz6udBo+uSURPjIgaT4e0Rs+ZORFPsxaMj4VVxY+O7QHPvenEz429yE+\n",
                        "    5XQdPvBBCD61+EM+VII4Pm0vXz4HNEA+/J0oPlfsJj785jM+lQ4wPu75Qj4QRhw+HDIDPqNEGT4E\n",
                        "    SQY+JVMFPnT7FT5yGDk+mhEwPh82ID4U/Sg+xNdCPtS/ED7w3Do+089CPiC+Ez77gzE+Jqk8Plr1\n",
                        "    FD5+pEE+ugM5PkIZ2z3IVwk+TQJHPsH/Fz6oHBE+J3k8PkV1DT4PJyM+wI5CPrtjST7ikO49qirQ\n",
                        "    PY/4AD4caDA+1YEyPQzbDD1J18A98mC4PbhxyD1qOQQ+TWeyPWUnqz21Ntg9ZXeJPdBkwz2Y4wk+\n",
                        "    lZHMPW5Bzz03lZA9QfWqPcBmtT3INe09CIe8PQRo+j3UDug9DBuiPRyD0z0F5sM9GWf/Pd7TFT4y\n",
                        "    gSI+biEEPvpwwz3Atq09xVcFPoImFz4suP09LdvOPd5qez2iTwA+6u4FPiO43T2zwgA+C1MFPqIm\n",
                        "    CT4dl+89JT77PRQDtT1VEAM+uI7qPar/OD7ExP09PNIoPulMEj76Rh4+dav0PYGlDT6j5FU+wpYX\n",
                        "    Pjs7CT577AE+zl4aPgphxz0D5BM+zVDYPYahKz6fiyQ+vpH2PcN/Oz6lvxQ+ncErPiOYIj746ic+\n",
                        "    e0bqPYqSAj4oUhI+iNLTPYeyBD6/NkE+jvHUPT4H8j0w1RM+RtQyPtc0FD5DNCU+fNgLPg/SAj6o\n",
                        "    Fuc9zMIyPpc7HT5FnQ4+y7DjPbR/MT7Rag0+RxUwPgmwET5Vz+Y9hJ7YPRTuLz6CsDg+ZqowPv6c\n",
                        "    vj0akRI+f30YPjr5ST7cWFU+ZSUNPnU7DT7Fe0M+ficmPgh0IT6E3iE+LS45PjqLMT6D6/Y9rFol\n",
                        "    Ppm8CD7efTE+aVITPgIQAz4yNgo+20QcPrgF8z2oXes9M/QdPg3UFj67DRY+vk4ZPqrMDj4tYkE+\n",
                        "    NjcXPkgYCD6vMAc+pt45Pgy6AD5c1uo9Opg+PsVYBD4KbzE+JJwVPpl7RT5hEfI9o3ULPhPxRj5Q\n",
                        "    zxY+ExtAPlZ2DT7wcTg+evc6PoapDD6axwU+1eNGPlmcDT4tOCU+TkocPtMTIz44Qxs+KpoKPrU3\n",
                        "    MD5thxE+VT8FPp+qCT7kl949OGwBPlEU+z2M4Dk+5eI0PvBqQT7kWh4+ecFTPqtuJD6emSY+iMwy\n",
                        "    PkFv/z3k2s89xCUVPjcm+D2kmyQ+OZ7jPSUc+T3dXio+GQwjPpdUGD48XAM+TdxQPvpfNz7E4hM+\n",
                        "    E9gNPt6ySz7T7Qg+d0RHPppiCD6RPQg+POgSPiT5Gj5mrgk+hwshPuZiGT5y5+I9woBcPsbgJD7R\n",
                        "    k/M9jVAoPqq9Ez6MiSk+2qnzPSQQMT6EwSU+GFsDPtYt/D3KOTg+n3RvPtKdIz7ZHAo+nr8yPowk\n",
                        "    PT5fShU+Bq8sPtZdAz7o1Ag+9hPsPSaoAD61IhI+KS0bPu5fLT4pNgc+HthQPvbkIj6xdEE+KUlS\n",
                        "    PonNGT6wTjY+Zz0DPrZ5NT5UrxI+6882Ph9JDz4PoCM+u8gJPmEzRT6mwBg+Su4aPhz2KD7EcU0+\n",
                        "    xGo6PoOsSD4QeUc+q/tWPq+NGD4Cnjo+P5cyPvigRz5ToRQ+xB8DPvUZED47gBA+yTlgPn1nNj4z\n",
                        "    8D0+UUAyPujdAD6shwY+RpcwPqnSBD5ZF0A+w+E+PrGkED5ooiI+P98gPhvTGj6rSlM+OCkoPluJ\n",
                        "    KD4aJdc9Tg0dPvAvFj6JrBs+dvgXPvp+Gj7bhB8+BAMhPiKuOT4NbBE+J74dPrBdEj4N1VU+ZiEX\n",
                        "    PqxyQD7UdB4+xpE+PmRXEj4yOP09/xRYPj7pNT5sISE+V28tPiZ0Gz72NRw+SBkUPrnJ5j0lhjM+\n",
                        "    y1UnPjsWGj63dE4+1ttePc9dgT2mIF49l/3JPVAlnj3ptJw93M15Pe9f6D19LP89D+i3PZZI+j3G\n",
                        "    7ck9Fcm1PaG11j0nsew9ryHWPR0w2T2fWcw9U1iqPc9N1D2sRt89tb4rPoUb3T1jfsE9fWrGPQwk\n",
                        "    Aj5rZOg9qSTCPZnq6z0lewg+sTDmParX3D3SWqw98Y/YPYqfBT7WTeY9C5oHPisY5j3Iffw9w+4F\n",
                        "    PpNR3j3qKtA9ZwsSPrzxuT2PYOc9J5b/Pdk3GT4y70I+JCMvPqE11j13iQw+S8gQPj4Vxj1aOQ0+\n",
                        "    /I0QPsoZAz6jcuo9Yi8EPt0lKz6lUtM9qEQOPitDCz4JuQo+l17/PSgDBT4b8BI+F0gVPrvODj7p\n",
                        "    ju89ISAhPpJFCD6SKAg+s9cRPokgET6+mAQ+wLQYPhAZLj4HqS4+PekBPrfVJz4aevc9RGhVPo/1\n",
                        "    KD4XMRU+R7YBPj4GID6WMwQ+ykclPoqD8j35yB4+H+cRPl8wKT4QF1U+HBxYPuRuRD6bBQM+URYh\n",
                        "    PvXXJD5UuhY+pMQOPktEDT4P4FE+XeAbPrUTJD4jyhA+wpoqPjK4Jz7RMTc+6CAsPsY9Lz6RajY+\n",
                        "    jUxQPioYDj4bMC0+RLwUPiIXJD6pfCc+/KoHPq4J+z02uSM+wmE4PltrIz6BBE8+f+soPq5hDz6J\n",
                        "    YCE+YhUjPs6kbj6bedA9CZsBPmsRJz5jbxk+1DoZPvlCND5Vhz0+nuJOPkh0MD7GNk0+XyeRPsLg\n",
                        "    NT6VRho+bHhrPouEET6vmiw+7L4NPsuRVz4c+hQ+c6gzPp5oBT6sr1E+7ZU2PuxYFD4Qomg+5D81\n",
                        "    PgusNT7WITc+x8UTPv39MD4ZmDQ+8vwdPlLsHz70Dzw+JERqPpmgMD4vokg+44Y3Pk7MCz4rT/09\n",
                        "    5VpMPoVQLz5nIOA9EeQePrVJGj7hsRE+zmxBPmftSz65tBM+2V9JPsMgRT559Bo+bMg7Pl5rVz60\n",
                        "    rzA+TxwPPqP/Rj52EEY+jqEzPkQiTz7IeQk+2eM+PsYeUj4QBSA+Oa4tPq6AEj7waF0+IlowPuxK\n",
                        "    KD6N8xw+l44wPq2GPD6rGR4+rWgKPm5LHj5TxSE+7MIJPjfKMD7qjDI+AcQ+PuFqgT4STBw+My82\n",
                        "    Pj+cHz7hmjM+QDkJPuO5Gj4VoiM+LZA2Pgfw8D0v6SE+n+AXPpc4OT50Hy8+uEQfPnOtHD6K+0E+\n",
                        "    GeEVPnaULD7J2ic+FlZAPtCZ/z2xuSc+Y84TPlWZFz6ThW0+2SguPsKDRD6e6B0+M0cWPrfeDD7H\n",
                        "    NzM+VAoTPkL04j2HZTg+Pk0xPs/mAz5ZqDU+kkg5PjPQFD5XwTo+DJ0+PsHCFz4Yqgk+j8coPm/3\n",
                        "    AT7W6FE+hbwlPqK+eT7oeDo+sqr6PVYhGj6DTAo+TL8lPpr0HD5Tai0+QdA8PsodJz6nF18+fJ4S\n",
                        "    PswWOD52ej4+h0ANPulvHz56o0c+SA9YPrdQJz7eUwg+n88pPtbaJz5bfgw+I20MPkSxNz5tqDc+\n",
                        "    1qYtPifdaT7g0/Q9P5xLPsjXCT6DSh0+5fgZPuq0Rj4jCzE+EwEsPveeIz6FPjA+Vc8NPsJNIz7L\n",
                        "    bis+gLMQPm1RCj4WpxE+\n",
                        "\n"
                    ]
                },
                {
                    "name": "stderr",
                    "output_type": "stream",
                    "text": [
                        "\n"
                    ]
                }
            ],
            "source": [
                "# Load a pretrained MNIST classifier\n",
                "model = AutoModelForImageClassification.from_pretrained(\"fxmarty/resnet-tiny-mnist\")\n",
                "data = torchvision.datasets.MNIST(\n",
                "    root=\"../data\",\n",
                "    download=True,\n",
                "    transform=torchvision.transforms.Compose(\n",
                "        [\n",
                "            torchvision.transforms.ToTensor(),\n",
                "        ]\n",
                "    ),\n",
                ")\n",
                "loader = torch.utils.data.DataLoader(data, batch_size=256, shuffle=True)\n",
                "print(len(loader))\n",
                "\n",
                "def criterion(inputs, outputs):\n",
                "    return F.cross_entropy(\n",
                "        inputs.logits, outputs\n",
                "    )  # transformers doesn't output a vector\n",
                "\n",
                "\n",
                "learning_coeff_stats = estimate_learning_coeff_with_summary(\n",
                "    model,\n",
                "    loader=loader,\n",
                "    criterion=criterion,\n",
                "    sampling_method=SGLD,\n",
                "    optimizer_kwargs=dict(lr=2e-5, localization=100.0),\n",
                "    num_chains=5,  # How many independent chains to run\n",
                "    num_draws=300,  # How many samples to draw per chain\n",
                "    num_burnin_steps=0,  # How many samples to discard at the beginning of each chain\n",
                "    num_steps_bw_draws=1,  # How many steps to take between each sample\n",
                "    device=DEVICE,\n",
                "    online=True\n",
                ")\n",
                "trace = learning_coeff_stats.pop(\"llc/trace\")\n",
                "print(trace)\n",
                "\n",
                "print(\"Lambda hat estimates:\")\n",
                "print(yaml.dump(learning_coeff_stats))"
            ]
        },
        {
            "cell_type": "markdown",
            "metadata": {},
            "source": [
                "### Diagnostics\n",
                "\n",
                "Below you'll see what's actually happening when you run `local_learning_coefficients`.\n",
                "\n",
                "We sample 10 different chains, with the same starting positions but different batch schedules and noise realizations at each step. For each of these chains, we take 200 steps using SGLD. We observe the loss at each of these points. At the end, we average the loss across chains, compare it to the initial loss, and apply a correction that depends on the dataset size to get the local learning coefficient. \n",
                "\n",
                "For a healthy chain, the LLC should increase rapidly at first and then level off."
            ]
        },
        {
            "cell_type": "code",
            "execution_count": 4,
            "metadata": {},
            "outputs": [
                {
                    "data": {
                        "image/png": "[encoded data removed]",
                        "text/plain": [
                            "<Figure size 640x480 with 1 Axes>"
                        ]
                    },
                    "metadata": {},
                    "output_type": "display_data"
                },
                {
                    "data": {
                        "text/plain": [
                            "<Figure size 1200x900 with 0 Axes>"
                        ]
                    },
                    "metadata": {},
                    "output_type": "display_data"
                }
            ],
            "source": [
                "plot_trace(\n",
                "    trace,\n",
                "    \"L_n(w)\",\n",
                "    x_axis=\"Step\",\n",
                "    title=\"LLC Trace\",\n",
                "    plot_mean=False,\n",
                "    plot_std=False,\n",
                "    fig_size=(12, 9),\n",
                "    true_lc=None,\n",
                ")"
            ]
        },
        {
            "cell_type": "markdown",
            "metadata": {},
            "source": [
                "To get a better understanding of the sampling methods, check out [`normal_crossing.ipynb`](../examples/normal_crossing.ipynb) and [`mnist.ipynb`](../examples/mnist.ipynb) where we compare SGLD to a variant known as Stochastic Gradient Nose-Hoover Thermostat (SGNHT), respectively in a simple toy landscape and on MNIST. [`sgld_calibration.ipynb`](../examples/sgld_calibration.ipynb) shows how to gain confidence in using SGLD-based LLC estimation to a model with unknown LLC, and [`diagnostics.ipynb`](../examples/diagnostics.ipynb) shows how to use callbacks to diagnose if your sampling is going well."
            ]
        },
        {
            "cell_type": "markdown",
            "metadata": {},
            "source": [
                "## Project ideas\n",
                "\n",
                "What can you do with this? We wrote up [a bunch of ideas](https://devinterp.com/projects), most of which are focused on learning coefficient estimation, and we'd recommend starting there. There's a lot of low-hanging fruit. "
            ]
        },
        {
            "cell_type": "markdown",
            "metadata": {},
            "source": [
                "## Other Techniques\n",
                "\n",
                "There are plenty of other techniques that would fit naturally under the umbrella of \"developmental interpretability.\" If you're interested in looking beyond learning coefficient estimation, here are some ideas (we welcome PRs to introduce these methods to the library!):\n",
                "\n",
                "- **Dimensionality reduction techniques**: Run PCA / t-SNE / UMAP / etc. over the weights / [tokens](https://transformer-circuits.pub/2022/in-context-learning-and-induction-heads/index.html#per-token-loss-intro) / activations over time. For larger models, you'll have to restrict your attention to a subset of the weights and activations for this to be tractable\n",
                "- **Progress measures**. If you have an understanding of some structure at the end of training, you can roll that understanding backwards to track how that structure develops over time. \n",
                "- **Probes**. Similarly, you can train a linear probe from activations onto features, then roll that probe back to previous checkpoints to measure how those features are learned. \n",
                "- **Gradients**. Just look at the gradients! \n",
                "- **Evals**. You can measure performance on a targeted benchmarks to track when the model learns the associated capabilities. \n",
                "- **Covariance estimators**. That's a secret for now. More coming soon!"
            ]
        },
        {
            "cell_type": "markdown",
            "metadata": {},
            "source": [
                "# Systems\n",
                "\n",
                "## Toy Landscapes\n",
                "\n",
                "See [`normal_crossing.ipynb`](../examples/normal_crossing.ipynb) for a demo of how to use the library on a simple toy landscape.\n",
                "\n",
                "## Toy Models of Superposition\n",
                "\n",
                "See [`tms.ipynb`](../examples/tms.ipynb) for a demo of how to use the library on toy models of superposition.\n",
                "\n",
                "## Deep Linear Networks\n",
                "\n",
                "See [`dlns.ipynb`](../examples/dlns.ipynb) for a demo of how to use the library on deep linear networks.\n",
                "\n",
                "## MNIST\n",
                "\n",
                "See [`mnist.ipynb`](../examples/mnist.ipynb) for a demo of how to use the library on MNIST.\n",
                "\n",
                "## ResNets\n",
                "\n",
                "See [`resnets.ipynb`](../examples/resnets.ipynb) for a (basic) demo of how to use the library on ResNets."
            ]
        }
    ],
    "metadata": {
        "kernelspec": {
            "display_name": ".venv",
            "language": "python",
            "name": "python3"
        },
        "language_info": {
            "codemirror_mode": {
                "name": "ipython",
                "version": 3
            },
            "file_extension": ".py",
            "mimetype": "text/x-python",
            "name": "python",
            "nbconvert_exporter": "python",
            "pygments_lexer": "ipython3",
            "version": "3.8.10"
        },
        "orig_nbformat": 4
    },
    "nbformat": 4,
    "nbformat_minor": 2
}
