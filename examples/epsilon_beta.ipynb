{
 "cells": [
  {
   "cell_type": "markdown",
   "metadata": {},
   "source": [
    "## [WIP] Epsilon-Beta Visualizations\n",
    "This notebook aims to visualize $\\hat{\\lambda}_n^\\beta$ for various values of $\\beta$ (inverse temperature) and $\\epsilon$ (step size). \n",
    "\n",
    "Adrian's Thesis roughly states that:\n",
    "- $\\beta$ can be tuned via graphing $\\hat{\\lambda}_n^\\beta$ for a sweep of $\\beta$, and using $\\beta$ in a range around the critical points on the graph.\n",
    "- $\\epsilon$ should be the greatest possible value that doesn't cause excessive numerical instability or cause the SGLD chains to fail to converge. An MALA proposal acceptance rate (see `sgld_calibration.ipynb`) between 0.9 - 0.95 is roughly optimal."
   ]
  },
  {
   "cell_type": "markdown",
   "metadata": {},
   "source": [
    "## Set-up"
   ]
  },
  {
   "cell_type": "code",
   "execution_count": null,
   "metadata": {},
   "outputs": [],
   "source": [
    "%pip install devinterp transformers torchvision"
   ]
  },
  {
   "cell_type": "markdown",
   "metadata": {},
   "source": [
    "The epsilon-beta sweep analyzer is fairly flexible. To sweep, all you need is:\n",
    "- A callable function (typically a built-in DevInterp function) that returns local learning coefficient traces.\n",
    "- Epsilon and beta ranges.\n",
    "\n",
    "To start, we'll visualize an epsilon-beta LLC sweep for a pretrained MNIST classifier."
   ]
  },
  {
   "cell_type": "markdown",
   "metadata": {},
   "source": [
    "## Sweep LLC given a model"
   ]
  },
  {
   "cell_type": "code",
   "execution_count": 1,
   "metadata": {},
   "outputs": [],
   "source": [
    "import torch\n",
    "import torchvision\n",
    "from transformers import AutoModelForImageClassification\n",
    "\n",
    "from devinterp.slt import estimate_learning_coeff_with_summary\n",
    "from devinterp.optim import SGLD\n",
    "\n",
    "DEVICE = \"cuda\" if torch.cuda.is_available() else \"cpu\"\n",
    "\n",
    "# Define a loss function\n",
    "def transformers_cross_entropy(inputs, outputs):\n",
    "    return torch.nn.functional.cross_entropy(\n",
    "        inputs.logits, outputs\n",
    "    )  # transformers doesn't output a vector\n",
    "\n",
    "# Load a pretrained MNIST classifier\n",
    "model = AutoModelForImageClassification.from_pretrained(\"fxmarty/resnet-tiny-mnist\")\n",
    "data = torchvision.datasets.MNIST(\n",
    "    root=\"../data\",\n",
    "    download=True,\n",
    "    transform=torchvision.transforms.Compose(\n",
    "        [\n",
    "            torchvision.transforms.ToTensor(),\n",
    "        ]\n",
    "    ),\n",
    ")\n",
    "loader = torch.utils.data.DataLoader(data, batch_size=256, shuffle=True)"
   ]
  },
  {
   "cell_type": "code",
   "execution_count": 2,
   "metadata": {},
   "outputs": [
    {
     "data": {
      "text/plain": [
       "'\\n   def configure_sampling(self, model: torch.nn.Module, \\n                           loader: torch.utils.data.DataLoader, \\n                           criterion: typing.Callable, \\n                           sampling_method: Type[torch.optim.Optimizer] = SGLD, \\n                           min_epsilon: Optional[float] = 1e-6, \\n                           max_epsilon: Optional[float] = 1e-2, \\n                           epsilon_samples: float = 8, \\n                           epsilon_range: Optional[List[float]] = None, \\n                           min_beta: Optional[float] = None, \\n                           max_beta: Optional[float] = None, \\n                           beta_samples: float = 8, \\n                           beta_range: Optional[List[float]] = None, \\n                           localization: float = 100.0, \\n                           num_chains: int = 5, \\n                           num_draws: int = 300, \\n                           num_burnin_steps: int = 0, \\n                           num_steps_bw_draws: int = 1, \\n                           num_last_steps_to_average: int = 40, \\n                           device: torch.device = torch.device(\"cpu\"), \\n                           calculate_mala_stats: bool = False, \\n                           online: bool = True, \\n                           verbose: bool = False):\\n\\n        assert num_last_steps_to_average < num_draws, \"num_last_steps_to_average must be less than num_draws\"\\n\\n'"
      ]
     },
     "execution_count": 2,
     "metadata": {},
     "output_type": "execute_result"
    }
   ],
   "source": [
    "\"\"\"    model: torch.nn.Module\n",
    "    loader: torch.utils.data.DataLoader\n",
    "    criterion: typing.Callable\n",
    "    sampling_method: Type[torch.optim.Optimizer] = SGLD\n",
    "    localization: float = Field(gt=0)\n",
    "    num_chains: int = Field(gt=0)\n",
    "    num_draws: int = Field(gt=0)\n",
    "    num_burnin_steps: int = Field(ge=0)\n",
    "    num_steps_bw_draws: int = Field(gt=0)\n",
    "    num_last_steps_to_average: int\n",
    "    device: Union[torch.device, str]\n",
    "    calculate_mala_stats: bool\n",
    "    online: bool\n",
    "    verbose: bool\"\"\"\n",
    "\n",
    "\"\"\"\n",
    "   def configure_sampling(self, model: torch.nn.Module, \n",
    "                           loader: torch.utils.data.DataLoader, \n",
    "                           criterion: typing.Callable, \n",
    "                           sampling_method: Type[torch.optim.Optimizer] = SGLD, \n",
    "                           min_epsilon: Optional[float] = 1e-6, \n",
    "                           max_epsilon: Optional[float] = 1e-2, \n",
    "                           epsilon_samples: float = 8, \n",
    "                           epsilon_range: Optional[List[float]] = None, \n",
    "                           min_beta: Optional[float] = None, \n",
    "                           max_beta: Optional[float] = None, \n",
    "                           beta_samples: float = 8, \n",
    "                           beta_range: Optional[List[float]] = None, \n",
    "                           localization: float = 100.0, \n",
    "                           num_chains: int = 5, \n",
    "                           num_draws: int = 300, \n",
    "                           num_burnin_steps: int = 0, \n",
    "                           num_steps_bw_draws: int = 1, \n",
    "                           num_last_steps_to_average: int = 40, \n",
    "                           device: torch.device = torch.device(\"cpu\"), \n",
    "                           calculate_mala_stats: bool = False, \n",
    "                           online: bool = True, \n",
    "                           verbose: bool = False):\n",
    "\n",
    "        assert num_last_steps_to_average < num_draws, \"num_last_steps_to_average must be less than num_draws\"\n",
    "\n",
    "\"\"\""
   ]
  },
  {
   "cell_type": "code",
   "execution_count": 14,
   "metadata": {},
   "outputs": [],
   "source": [
    "from devinterp.slt.mala import MalaAcceptanceRate\n",
    "from tqdm import tqdm, trange\n",
    "import typing\n",
    "from typing import Type, Union, List, Any, Optional, Callable\n",
    "import pandas as pd\n",
    "import numpy as np\n",
    "import plotly.express as px\n",
    "import plotly.graph_objects as go\n",
    "from collections.abc import Sequence\n",
    "from devinterp.utils import optimal_temperature\n",
    "\n",
    "from pydantic import BaseModel, Field\n",
    "\n",
    "# Sampling config validates input parameters while allowing us to use **kwargs later on\n",
    "class SweepConfig(BaseModel):\n",
    "    epsilon_range: List[float]\n",
    "    beta_range: List[float]\n",
    "    llc_estimator: Callable\n",
    "    llc_estimator_kwargs: dict\n",
    "    \n",
    "    # Pydantic-recognized field for custom settings\n",
    "    class Config:\n",
    "        arbitrary_types_allowed = True # Allows Pydantic to accept pytorch models\n",
    "\n",
    "    # Build epsilon_range and beta_range given different user input formats for beta and epsilon ranges\n",
    "    @classmethod \n",
    "    def setup(cls, llc_estimator, llc_estimator_kwargs, \n",
    "              min_beta, max_beta, beta_samples, beta_range, min_epsilon, max_epsilon, epsilon_samples, epsilon_range):\n",
    "        if epsilon_range is not None:\n",
    "            assert isinstance(epsilon_range, Sequence), \"epsilon_range must be a list-like object (e.g list or numpy array)\"\n",
    "            if min_epsilon is not None or max_epsilon is not None:\n",
    "                raise Warning(\"min_epsilon and max_epsilon will be ignored as epsilon_range is provided\")\n",
    "        else:\n",
    "            epsilon_range = np.power(10, np.linspace(np.log10(min_epsilon), np.log10(max_epsilon), epsilon_samples))\n",
    "\n",
    "        if beta_range is not None:\n",
    "            assert isinstance(beta_range, Sequence), \"beta_range must be a list-like object (e.g list or numpy array)\"\n",
    "            if min_beta is not None or max_beta is not None:\n",
    "                raise Warning(\"min_beta and max_beta will be ignored as beta_range is provided\")\n",
    "        else:\n",
    "            # Calculate default beta (inverse temperature) range.\n",
    "            optimal_beta = optimal_temperature(loader)\n",
    "            if min_beta is None:\n",
    "                min_beta = 1e-2 * optimal_beta\n",
    "            if max_beta is None:\n",
    "                max_beta = 1e3 * optimal_beta\n",
    "            beta_range = np.power(10, np.linspace(np.log10(min_beta), np.log10(max_beta), beta_samples))\n",
    "        \n",
    "        assert min(beta_range) > 0, \"All beta values must be greater than 0\"\n",
    "        assert min(epsilon_range) > 0, \"All epsilon values must be greater than 0\"\n",
    "        if max(epsilon_range) > 1e-2:\n",
    "            raise Warning(\"Epsilon values greater than 1e-2 typically lead to instability in the sampling process. Consider reducing epsilon to between 1e-6 and 1e-2.\")\n",
    "        \n",
    "        return cls(epsilon_range=epsilon_range, \n",
    "                   beta_range=beta_range, \n",
    "                   llc_estimator=llc_estimator,\n",
    "                   llc_estimator_kwargs = llc_estimator_kwargs)\n",
    "\n",
    "class EpsilonBetaAnalyzer:\n",
    "    def __init__(self):\n",
    "        self.sweep_config = None\n",
    "        self.plotting_config = None\n",
    "        self.sweep_df = None\n",
    "        self.fig = None\n",
    "\n",
    "    def configure_sweep(self,\n",
    "                        llc_estimator: Callable,\n",
    "                        llc_estimator_kwargs: dict,\n",
    "                        min_epsilon: Optional[float] = 1e-6, \n",
    "                        max_epsilon: Optional[float] = 1e-2, \n",
    "                        epsilon_samples: float = 8, \n",
    "                        epsilon_range: Optional[List[float]] = None,\n",
    "                        min_beta: Optional[float] = None, \n",
    "                        max_beta: Optional[float] = None, \n",
    "                        beta_samples: float = 8,\n",
    "                        beta_range: Optional[List[float]] = None) -> None:\n",
    "        \"\"\"\n",
    "        Configure the sampling parameters for the LLC analysis.\n",
    "        \"\"\"\n",
    "\n",
    "        self.sweep_config = SweepConfig.setup(llc_estimator, llc_estimator_kwargs,\n",
    "                                              min_beta, max_beta, beta_samples, beta_range, min_epsilon, max_epsilon, epsilon_samples, epsilon_range)\n",
    "\n",
    "    def sweep(self) -> None:\n",
    "        \"\"\"\n",
    "        Sweeps the local learning coefficient using the given llc_estimator function and its associated arguments.\n",
    "        Results are stored in self.sweep_df.\n",
    "        \"\"\"\n",
    "        assert self.sweep_config is not None, \"Sweep configuration is not set. Please call configure_sweep() first.\"\n",
    "\n",
    "        epsilon_range = self.sweep_config.epsilon_range\n",
    "        beta_range = self.sweep_config.beta_range\n",
    "        llc_estimator = self.sweep_config.llc_estimator\n",
    "        llc_estimator_kwargs = self.sweep_config.llc_estimator_kwargs\n",
    "\n",
    "        if \"device\" in llc_estimator_kwargs:\n",
    "            if torch.cuda.is_available() and (llc_estimator_kwargs[\"device\"] == \"cpu\" or torch.device(llc_estimator_kwargs[\"device\"]).type == \"cpu\"):\n",
    "                raise Warning(\"CUDA is available but not being used. Consider setting device='cuda' for faster computation.\")\n",
    "\n",
    "        all_sweep_stats = []\n",
    "        with tqdm(total=len(epsilon_range) * len(beta_range)) as pbar:\n",
    "            for epsilon in epsilon_range:\n",
    "                for beta in beta_range:\n",
    "                    try:\n",
    "                        sweep_stats = llc_estimator(\n",
    "                            epsilon = epsilon,\n",
    "                            beta = beta,\n",
    "                            **llc_estimator_kwargs\n",
    "                        )\n",
    "                        sweep_stats = dict(sweep_stats, epsilon=epsilon, beta=beta)\n",
    "                        all_sweep_stats.append(sweep_stats)\n",
    "                    except Exception as e:\n",
    "                        raise Warning(f\"Error encountered for epsilon={epsilon}, beta={beta}. Skipping. Warning: {e}\")\n",
    "                    pbar.update(1)\n",
    "\n",
    "        sweep_df = pd.DataFrame(all_sweep_stats)\n",
    "        self.sweep_df = sweep_df\n",
    "\n",
    "    def plot(self, plot_config: dict = {\n",
    "        \"title\": \"Local learning coefficient vs. epsilon and beta\",\n",
    "        \"z\": \"llc/final\",\n",
    "        \"log_y\": True,\n",
    "        \"log_x\": True,\n",
    "        \"log_z\": True\n",
    "        }, \n",
    "        color: str = \"llc/std_over_mean\",\n",
    "        num_last_steps_to_average: int = 50) -> go.Figure:\n",
    "        \"\"\"\n",
    "        Plots the local learning coefficient sweep.\n",
    "        \"\"\"\n",
    "\n",
    "        assert self.sweep_df is not None, \"No data to plot. Please call sample() first.\"\n",
    "        assert color in [\"llc/std_over_mean\", \"llc/mala_acceptance_rate\"], f\"Invalid color parameter {color}. Please choose from ['llc/std_over_mean', 'llc/mala_acceptance_rate']\"\n",
    "        if color == \"llc/std_over_mean\":\n",
    "            plot_config[\"range_color\"] = [0, 0.15]\n",
    "        sweep_df = self.sweep_df.copy()\n",
    "        sweep_df[\"llc/std_over_mean\"] = sweep_df[\"llc/trace\"].apply(lambda x: x[:, -num_last_steps_to_average:].std() / x[:, -num_last_steps_to_average:].mean())\n",
    "        sweep_df[\"llc/final\"] = sweep_df[\"llc/trace\"].apply(lambda x: x[:, -num_last_steps_to_average].mean())\n",
    "        fig = px.scatter_3d(self.sweep_df, x=\"epsilon\", y=\"beta\", color=color, **plot_config)\n",
    "        self.plot = fig\n",
    "        return fig"
   ]
  },
  {
   "cell_type": "markdown",
   "metadata": {},
   "source": [
    "### Define the LLC estimator function.\n",
    "Note: The local learning coefficient estimator function expected by EpsilonBetaAnalyzer must have the following signature:\n",
    "```python\n",
    "def estimator(epsilon: float, beta: float, **kwargs) -> dict\n",
    "```\n",
    "- Where kwargs correspond to `llc_estimator_kwargs` that are passed in when EpsilonBetaVisualizer.configure_sweep() is called.\n",
    "- The return value must be a dict with a `\"llc/trace\"` key corresponding to a numpy array of shape `(num_chains, num_draws)`\n",
    "- Additional keys can represent other values of interest (e.g. acceptance rates, true LLC.)\n",
    "\n",
    "See below for an example that uses DevInterp's `estimate_learning_coeff_with_summary` to estimate the local learning coefficient for an arbitrary python model."
   ]
  },
  {
   "cell_type": "code",
   "execution_count": 15,
   "metadata": {},
   "outputs": [
    {
     "name": "stderr",
     "output_type": "stream",
     "text": [
      "  0%|          | 0/64 [00:00<?, ?it/s]/home/will/.conda/envs/devinterp/lib/python3.11/site-packages/devinterp/slt/sampler.py:166: UserWarning: You are taking more draws than burn-in steps, your LLC estimates will likely be underestimates. Please check LLC chain convergence.\n",
      "  warnings.warn(\n",
      "/home/will/.conda/envs/devinterp/lib/python3.11/site-packages/devinterp/slt/sampler.py:170: UserWarning: You are taking more sample batches than there are dataloader batches available, this removes some randomness from sampling but is probably fine. (All sample batches beyond the number dataloader batches are cycled from the start, f.e. 9 samples from [A, B, C] would be [B, A, C, B, A, C, B, A, C].)\n",
      "  warnings.warn(\n",
      "/home/will/.conda/envs/devinterp/lib/python3.11/site-packages/devinterp/slt/sampler.py:54: UserWarning: You are taking more sample batches than there are dataloader batches available, this removes some randomness from sampling but is probably fine. (All sample batches beyond the number dataloader batches are cycled from the start, f.e. 9 samples from [A, B, C] would be [B, A, C, B, A, C, B, A, C].)\n",
      "  warnings.warn(\n",
      " 53%|█████▎    | 34/64 [13:09<11:25, 22.84s/it]"
     ]
    }
   ],
   "source": [
    "# A function wrapper for estimate_learning_coeff_with_summary\n",
    "# Note: The estimator function expected by EpsilonBetaAnalyzer must have the following signature:\n",
    "# def estimator(epsilon: float, beta: float, **kwargs) -> dict\n",
    "# where kwargs are the arguments to estimate_learning_coeff_with_summary\n",
    "# The return value must be a dict with a \"llc/trace\" key corresponding to a numpy array of shape (num_chains, num_draws)\n",
    "# Additional keys can represent other values of interest (e.g. acceptance rates, true LLC.)\n",
    "\n",
    "def estimate_llc_given_model(model: torch.nn.Module, \n",
    "                            loader: torch.utils.data.DataLoader, \n",
    "                            criterion: typing.Callable, \n",
    "                            epsilon: float,\n",
    "                            beta: float,\n",
    "                            sampling_method: Type[torch.optim.Optimizer] = SGLD, \n",
    "                            localization: float = 100.0, \n",
    "                            num_chains: int = 5, \n",
    "                            num_draws: int = 300, \n",
    "                            num_burnin_steps: int = 0, \n",
    "                            num_steps_bw_draws: int = 1, \n",
    "                            device: torch.device = torch.device(\"cpu\"), \n",
    "                            online: bool = True, \n",
    "                            verbose: bool = False):\n",
    "\n",
    "    sweep_stats = estimate_learning_coeff_with_summary(\n",
    "        model,\n",
    "        loader=loader,\n",
    "        criterion=criterion,\n",
    "        sampling_method=sampling_method,\n",
    "        optimizer_kwargs=dict(lr=epsilon, localization=localization, temperature=beta),\n",
    "        num_chains=num_chains,  # How many independent chains to run\n",
    "        num_draws=num_draws,  # How many samples to draw per chain\n",
    "        num_burnin_steps=num_burnin_steps,  # How many samples to discard at the beginning of each chain\n",
    "        num_steps_bw_draws=num_steps_bw_draws,  # How many steps to take between each sample\n",
    "        device=device,\n",
    "        online=online,\n",
    "        verbose = verbose\n",
    "    )\n",
    "\n",
    "    sweep_stats[\"llc/trace\"] = np.array(sweep_stats[\"llc/trace\"])\n",
    "    return sweep_stats\n",
    "\n",
    "analyzer = EpsilonBetaAnalyzer()\n",
    "analyzer.configure_sweep(llc_estimator=estimate_llc_given_model,\n",
    "                        llc_estimator_kwargs=dict(model=model, loader=loader, criterion=transformers_cross_entropy,\n",
    "                                                    device = DEVICE),\n",
    "                        min_epsilon = 1e-6, max_epsilon = 1e-2, epsilon_samples = 8,\n",
    "                        min_beta = None, max_beta = None, beta_samples = 8)\n",
    "analyzer.sweep()"
   ]
  },
  {
   "cell_type": "markdown",
   "metadata": {},
   "source": [
    "### Visualizing an Epsilon-Beta Sweep for a Deep Linear Network (DLN)\n",
    "\n",
    "Credit for DLN code goes to Edmundlth. [Source notebook](https://colab.research.google.com/github/edmundlth/validating_lambdahat/blob/dev/DLN_lambdahat.ipynb)"
   ]
  },
  {
   "cell_type": "markdown",
   "metadata": {},
   "source": [
    "### DLN Setup:"
   ]
  },
  {
   "cell_type": "code",
   "execution_count": null,
   "metadata": {},
   "outputs": [],
   "source": [
    "import haiku as hk\n",
    "import jax\n",
    "import jax.numpy as jnp\n",
    "import jax.tree_util as jtree\n",
    "\n",
    "import numpy as np\n",
    "import optax\n",
    "from typing import Sequence, NamedTuple\n",
    "import json\n",
    "\n",
    "import matplotlib.pyplot as plt\n",
    "import plotly.graph_objects as go\n",
    "\n",
    "import itertools"
   ]
  },
  {
   "cell_type": "code",
   "execution_count": null,
   "metadata": {},
   "outputs": [],
   "source": [
    "# Define the DLN model\n",
    "class DeepLinearNetwork(hk.Module):\n",
    "    def __init__(self, layer_widths: Sequence[int], name: str = None, with_bias=False):\n",
    "        super().__init__(name=name)\n",
    "        self.layer_widths = layer_widths\n",
    "        self.with_bias = with_bias\n",
    "\n",
    "    def __call__(self, x):\n",
    "        for width in self.layer_widths:\n",
    "            x = hk.Linear(width, with_bias=self.with_bias)(x)\n",
    "        return x\n",
    "\n",
    "# Function to initialize and apply the DLN model\n",
    "def forward_fn(x, layer_widths):\n",
    "    net = DeepLinearNetwork(layer_widths)\n",
    "    return net(x)\n",
    "\n",
    "# Create a Haiku-transformed version of the model\n",
    "def create_model(layer_widths):\n",
    "    model = hk.without_apply_rng(hk.transform(lambda x: forward_fn(x, layer_widths)))\n",
    "    return model\n",
    "\n",
    "\n",
    "def generate_training_data(true_param, model, input_dim, num_samples):\n",
    "    # Generate random inputs\n",
    "    inputs = np.random.uniform(-10, 10, size=(num_samples, input_dim))\n",
    "\n",
    "    # Apply the true model to generate outputs\n",
    "    true_outputs = model.apply(true_param, inputs)\n",
    "\n",
    "    return inputs, true_outputs\n",
    "\n",
    "def mse_loss(param, model, inputs, targets):\n",
    "    predictions = model.apply(param, inputs)\n",
    "    return jnp.mean((predictions - targets) ** 2)\n",
    "\n",
    "\n",
    "def create_minibatches(inputs, targets, batch_size, shuffle=True):\n",
    "    assert len(inputs) == len(targets)\n",
    "    if shuffle:\n",
    "        indices = np.random.permutation(len(inputs))\n",
    "    else:\n",
    "        indices = np.arange(len(inputs))\n",
    "\n",
    "    for start_idx in range(0, len(inputs) - batch_size + 1, batch_size):\n",
    "        excerpt = indices[start_idx:start_idx + batch_size]\n",
    "        yield inputs[excerpt], targets[excerpt]"
   ]
  },
  {
   "cell_type": "code",
   "execution_count": null,
   "metadata": {},
   "outputs": [],
   "source": [
    "class SGLDConfig(NamedTuple):\n",
    "  epsilon: float\n",
    "  gamma: float\n",
    "  num_steps: int\n",
    "\n",
    "def generate_rngkey_tree(key_or_seed, tree_or_treedef):\n",
    "    rngseq = hk.PRNGSequence(key_or_seed)\n",
    "    return jtree.tree_map(lambda _: next(rngseq), tree_or_treedef)\n",
    "\n",
    "def optim_sgld(epsilon, rngkey_or_seed):\n",
    "    @jax.jit\n",
    "    def sgld_delta(g, rngkey):\n",
    "        eta = jax.random.normal(rngkey, shape=g.shape) * jnp.sqrt(epsilon)\n",
    "        return -epsilon * g / 2 + eta\n",
    "\n",
    "    def init_fn(_):\n",
    "        return rngkey_or_seed\n",
    "\n",
    "    @jax.jit\n",
    "    def update_fn(grads, state):\n",
    "        rngkey, new_rngkey = jax.random.split(state)\n",
    "        rngkey_tree = generate_rngkey_tree(rngkey, grads)\n",
    "        updates = jax.tree_map(sgld_delta, grads, rngkey_tree)\n",
    "        return updates, new_rngkey\n",
    "    return optax.GradientTransformation(init_fn, update_fn)\n",
    "\n",
    "\n",
    "def create_local_logposterior(avgnegloglikelihood_fn, num_training_data, w_init, gamma, itemp):\n",
    "    def helper(x, y):\n",
    "        return jnp.sum((x - y)**2)\n",
    "\n",
    "    def _logprior_fn(w):\n",
    "        sqnorm = jax.tree_util.tree_map(helper, w, w_init)\n",
    "        return jax.tree_util.tree_reduce(lambda a,b: a + b, sqnorm)\n",
    "\n",
    "    def logprob(w, x, y):\n",
    "        loglike = -num_training_data * avgnegloglikelihood_fn(w, x, y)\n",
    "        logprior = -gamma / 2 * _logprior_fn(w)\n",
    "        return itemp * loglike + logprior\n",
    "    return logprob\n"
   ]
  },
  {
   "cell_type": "code",
   "execution_count": null,
   "metadata": {},
   "outputs": [],
   "source": [
    "def true_dln_learning_coefficient(true_rank, layer_widths, input_dim, verbose=False):\n",
    "    M_list = np.array([input_dim] + list(layer_widths)) - true_rank\n",
    "    indices = brute_force_search_subset(M_list, early_return=verbose)\n",
    "    M_subset = M_list[indices]\n",
    "    if verbose:\n",
    "        print(f\"M_list: {M_list}, indices: {indices}, M_subset: {M_subset}\")\n",
    "    M_subset_sum = np.sum(M_subset)\n",
    "    ell = len(M_subset) - 1\n",
    "    M = np.ceil(M_subset_sum / ell)\n",
    "    a = M_subset_sum - (M - 1) * ell\n",
    "    output_dim = layer_widths[-1]\n",
    "\n",
    "    term1 = (-true_rank**2 + true_rank * (output_dim + input_dim)) / 2\n",
    "    term2 = a * (ell - a) / (4 * ell)\n",
    "    term3 = -ell * (ell - 1) / 4 * (M_subset_sum / ell)**2\n",
    "    term4 = 1 / 2 * np.sum([M_subset[i] * M_subset[j] for i in range(ell + 1) for j in range(i + 1, ell + 1)])\n",
    "    learning_coefficient = term1 + term2 + term3 + term4\n",
    "    return learning_coefficient\n",
    "\n",
    "def _condition(indices, intlist, verbose=False):\n",
    "    intlist = np.array(intlist)\n",
    "    ell = len(indices) - 1\n",
    "    subset = intlist[indices]\n",
    "    complement = intlist[[i for i in range(len(intlist)) if i not in indices]]\n",
    "    has_complement = len(complement) > 0\n",
    "    # print(indices, subset, complement)\n",
    "    if has_complement and not (np.max(subset) < np.min(complement)):\n",
    "        if verbose: print(f\"max(subset) = {np.max(subset)}, min(complement) = {np.min(complement)}\")\n",
    "        return False\n",
    "    if not (np.sum(subset) >= ell * np.max(subset)):\n",
    "        if verbose: print(f\"sum(subset) = {sum(subset)}, ell * max(subset) = {ell * np.max(subset)}\")\n",
    "        return False\n",
    "    if has_complement and not (np.sum(subset) < ell * np.min(complement)):\n",
    "        if verbose: print(f\"sum(subset) = {sum(subset)}, ell * min(complement) = {ell * np.min(complement)}\")\n",
    "        return False\n",
    "    return True\n",
    "\n",
    "\n",
    "def generate_indices_subsets(length):\n",
    "    indices = list(range(length))\n",
    "    for size in range(1, length + 1):\n",
    "        for subset in itertools.combinations(indices, size):\n",
    "            subset = np.array(subset)\n",
    "            yield subset\n",
    "\n",
    "\n",
    "def brute_force_search_subset(intlist, early_return=False):\n",
    "    candidates = []\n",
    "    for indices in generate_indices_subsets(len(intlist)):\n",
    "        if _condition(indices, intlist):\n",
    "            if early_return:\n",
    "                return indices\n",
    "            candidates.append(indices)\n",
    "    if len(candidates) == 0:\n",
    "        raise RuntimeError(\"No candidates\")\n",
    "    if len(candidates) > 1:\n",
    "        print(\"More than one candidate\")\n",
    "    return candidates[0]\n",
    "\n",
    "\n",
    "def to_float_or_list(x):\n",
    "    if isinstance(x, (float, int)):\n",
    "        return float(x)\n",
    "    elif isinstance(x, (list, tuple)):\n",
    "        return [float(el) for el in x]\n",
    "    elif hasattr(x, \"tolist\"):  # For JAX or numpy arrays\n",
    "        return x.tolist()\n",
    "    else:\n",
    "        raise ValueError(f\"Unsupported type {type(x)}\")\n",
    "\n",
    "def to_json_friendly_tree(tree):\n",
    "    return jtree.tree_map(to_float_or_list, tree)\n",
    "\n",
    "\n",
    "def reduce_matrix_rank(matrix, reduction):\n",
    "    \"\"\"\n",
    "    Reduce the rank of the matrix by 'reduction' amount.\n",
    "\n",
    "    :param matrix: Input matrix.\n",
    "    :param reduction: The amount by which the rank should be reduced.\n",
    "    :return: A matrix similar to the input but with reduced rank.\n",
    "    \"\"\"\n",
    "    U, S, Vh = np.linalg.svd(matrix, full_matrices=False)\n",
    "\n",
    "    # Reduce the number of non-zero singular values by 'reduction'\n",
    "    new_rank = max(len(S) - reduction, 0)\n",
    "    S[new_rank:] = 0\n",
    "\n",
    "    # Reconstruct the matrix with the reduced number of singular values\n",
    "    reduced_matrix = np.dot(U * S, Vh)\n",
    "    return reduced_matrix\n",
    "\n",
    "def rand_reduce_matrix_rank(matrix):\n",
    "    r = np.linalg.matrix_rank(matrix)\n",
    "    reduction = np.random.randint(0, max(1, r))\n",
    "    return reduce_matrix_rank(matrix, reduction)\n"
   ]
  },
  {
   "cell_type": "markdown",
   "metadata": {},
   "source": [
    "### Randomly generate a DLN, calculate its true lambda, and sweep over epsilon and beta"
   ]
  },
  {
   "cell_type": "code",
   "execution_count": null,
   "metadata": {},
   "outputs": [],
   "source": [
    "num_training_data = 10000  # Number of training samples\n",
    "\n",
    "itemp = 1 / np.log(num_training_data)\n",
    "beta_range = np.power(10, np.linspace(-4, 4, 12)) * itemp\n",
    "# betas: from beta* /10 to beta* * 10^6\n",
    "epsilon_range = np.power(10, np.linspace(-6, -1, 12)) # epsilons: from 1e-6 to 1e-2\n",
    "networks_to_generate = 10\n",
    "num_epochs = 100\n",
    "learning_rate = 1e-2\n",
    "optimizer = optax.sgd(learning_rate)\n",
    "rngkey = jax.random.PRNGKey(42)\n",
    "num_epochs = 100\n",
    "batch_size = 200\n",
    "\n",
    "# Generate a random network\n",
    "num_layer = np.random.randint(2, 8)\n",
    "layer_widths = list(np.random.randint(5, 30, size=num_layer))\n",
    "input_dim = np.random.randint(5, 20)"
   ]
  },
  {
   "cell_type": "code",
   "execution_count": null,
   "metadata": {},
   "outputs": [],
   "source": [
    "# Random true parameters\n",
    "model = create_model(layer_widths)\n",
    "dummy_input = jnp.zeros((1, input_dim))\n",
    "rngkey, subkey = jax.random.split(rngkey)\n",
    "# true_param = model.init(rngkey, dummy_input)\n",
    "# true_param = jtree.tree_map(lambda x: x * 0.0, model.init(rngkey, dummy_input)) # zero true parameter\n",
    "true_param = jtree.tree_map(lambda x: rand_reduce_matrix_rank(x) if np.random.rand() > 0.5 else x, model.init(rngkey, dummy_input)) # randomly reduce rank of random matrices\n",
    "x_train, y_train = generate_training_data(true_param, model, input_dim, num_training_data)\n",
    "loss_fn = jax.jit(lambda param, inputs, targets: mse_loss(param, model, inputs, targets))\n",
    "\n",
    "# Training the network\n",
    "rngkey, subkey = jax.random.split(rngkey)\n",
    "param = model.init(rngkey, jnp.zeros((1, input_dim)))\n",
    "opt_state = optimizer.init(param)\n",
    "grad_fn = jax.jit(jax.grad(loss_fn, argnums=0))\n",
    "sgd_step_count = 0\n",
    "\n",
    "for epoch in range(num_epochs):\n",
    "    for x_batch, y_batch in create_minibatches(x_train, y_train, batch_size=batch_size):\n",
    "        grads = grad_fn(param, x_batch, y_batch)\n",
    "        updates, opt_state = optimizer.update(grads, opt_state)\n",
    "        param = optax.apply_updates(param, updates)\n",
    "\n",
    "# Calculate true lambda for the generated network.\n",
    "true_matrix = jnp.linalg.multi_dot(\n",
    "[true_param[f'deep_linear_network/linear{loc}']['w'] for loc in [''] + [f'_{i}' for i in range(1, len(layer_widths))]]\n",
    ")\n",
    "true_rank = jnp.linalg.matrix_rank(true_matrix)\n",
    "true_lambda = true_dln_learning_coefficient(true_rank, layer_widths, input_dim, verbose=False)"
   ]
  },
  {
   "cell_type": "markdown",
   "metadata": {},
   "source": [
    "### Define the LLC estimator function:"
   ]
  },
  {
   "cell_type": "code",
   "execution_count": null,
   "metadata": {},
   "outputs": [],
   "source": [
    "def estimate_llc_given_dln(epsilon: float,\n",
    "                            beta: float,\n",
    "                            true_lambda: float,\n",
    "                            gamma: float = 10.0,\n",
    "                            num_steps: int = 1000,\n",
    "                            rngkey = jax.random.PRNGKey(42)):\n",
    "\n",
    "    sgld_config = SGLDConfig(\n",
    "        epsilon=epsilon,\n",
    "        gamma=gamma,\n",
    "        num_steps=num_steps,\n",
    "    )\n",
    "    param_init = true_param\n",
    "\n",
    "    loss_fn = jax.jit(lambda param, inputs, targets: mse_loss(param, model, inputs, targets))\n",
    "    local_logprob = create_local_logposterior(\n",
    "            avgnegloglikelihood_fn=loss_fn,\n",
    "            num_training_data=num_training_data,\n",
    "            w_init=param_init,\n",
    "            gamma=sgld_config.gamma,\n",
    "            itemp=beta,\n",
    "        )\n",
    "    sgld_grad_fn = jax.jit(jax.value_and_grad(lambda w, x, y: -local_logprob(w, x, y), argnums=0))\n",
    "\n",
    "    rngkey, subkey = jax.random.split(rngkey)\n",
    "    sgldoptim = optim_sgld(sgld_config.epsilon, rngkey)\n",
    "    samples = []\n",
    "    nlls = []\n",
    "    opt_state = sgldoptim.init(param_init)\n",
    "    param = param_init\n",
    "\n",
    "    t = 0\n",
    "    while t < sgld_config.num_steps:\n",
    "        for x_batch, y_batch in create_minibatches(x_train, y_train, batch_size=batch_size):\n",
    "            nll, grads = sgld_grad_fn(param, x_batch, y_batch)\n",
    "            nlls.append(float(nll))\n",
    "            updates, opt_state = sgldoptim.update(grads, opt_state)\n",
    "            param = optax.apply_updates(param, updates)\n",
    "            samples.append(param)\n",
    "            t += 1\n",
    "\n",
    "    init_loss = loss_fn(param_init, x_train, y_train)\n",
    "    loss_trace = [loss_fn(p, x_train, y_train) for p in samples]\n",
    "    lambdahat = (np.mean(loss_trace) - init_loss) * num_training_data * beta\n",
    "\n",
    "    sweep_stats = {\"true_rank\": true_rank, \"true_lambda\": true_lambda, \"lambdahat\": lambdahat, \"epsilon\": epsilon, \"beta\": beta,\n",
    "                    \"llc/trace\": loss_trace}\n",
    "\n",
    "    sweep_stats[\"llc/trace\"] = np.array(sweep_stats[\"llc/trace\"])\n",
    "    return sweep_stats"
   ]
  },
  {
   "cell_type": "code",
   "execution_count": null,
   "metadata": {},
   "outputs": [],
   "source": [
    "analyzer = EpsilonBetaAnalyzer()\n",
    "analyzer.configure_sweep(llc_estimator=estimate_llc_given_dln,\n",
    "                        llc_estimator_kwargs=dict(model=model, loader=loader, criterion=transformers_cross_entropy,\n",
    "                                                    device = DEVICE),\n",
    "                        min_epsilon = 1e-6, max_epsilon = 1e-2, epsilon_samples = 8,\n",
    "                        min_beta = None, max_beta = None, beta_samples = 8)\n",
    "analyzer.sweep()"
   ]
  },
  {
   "cell_type": "markdown",
   "metadata": {},
   "source": [
    "### Sweep over randomly-generated DLNs with different true lambdas:"
   ]
  },
  {
   "cell_type": "code",
   "execution_count": null,
   "metadata": {},
   "outputs": [],
   "source": [
    "sgld_config = SGLDConfig(\n",
    "    epsilon=epsilon,\n",
    "    gamma=10.0,\n",
    "    num_steps=1000,\n",
    ")\n",
    "param_init = true_param\n",
    "\n",
    "loss_fn = jax.jit(lambda param, inputs, targets: mse_loss(param, model, inputs, targets))\n",
    "local_logprob = create_local_logposterior(\n",
    "        avgnegloglikelihood_fn=loss_fn,\n",
    "        num_training_data=num_training_data,\n",
    "        w_init=param_init,\n",
    "        gamma=sgld_config.gamma,\n",
    "        itemp=beta,\n",
    "    )\n",
    "sgld_grad_fn = jax.jit(jax.value_and_grad(lambda w, x, y: -local_logprob(w, x, y), argnums=0))\n",
    "\n",
    "rngkey, subkey = jax.random.split(rngkey)\n",
    "sgldoptim = optim_sgld(sgld_config.epsilon, rngkey)\n",
    "samples = []\n",
    "nlls = []\n",
    "opt_state = sgldoptim.init(param_init)\n",
    "param = param_init\n",
    "\n",
    "t = 0\n",
    "while t < sgld_config.num_steps:\n",
    "    for x_batch, y_batch in create_minibatches(x_train, y_train, batch_size=batch_size):\n",
    "        nll, grads = sgld_grad_fn(param, x_batch, y_batch)\n",
    "        nlls.append(float(nll))\n",
    "        updates, opt_state = sgldoptim.update(grads, opt_state)\n",
    "        param = optax.apply_updates(param, updates)\n",
    "        samples.append(param)\n",
    "        t += 1\n",
    "\n",
    "init_loss = loss_fn(param_init, x_train, y_train)\n",
    "loss_trace = [loss_fn(p, x_train, y_train) for p in samples]\n",
    "lambdahat = (np.mean(loss_trace) - init_loss) * num_training_data * beta\n",
    "\n",
    "sweep_stats = dict(true_rank = true_rank, true_lambda = true_lambda, lambdahat = lambdahat, epsilon = epsilon, beta = beta,\n",
    "                loss_trace = loss_trace)"
   ]
  },
  {
   "cell_type": "code",
   "execution_count": 107,
   "metadata": {},
   "outputs": [
    {
     "data": {
      "application/vnd.plotly.v1+json": {
       "config": {
        "plotlyServerURL": "https://plot.ly"
       },
       "data": [
        {
         "hovertemplate": "epsilon=%{x}<br>beta=%{y}<br>llc/final=%{z}<br>llc/std_over_mean=%{marker.color}<extra></extra>",
         "legendgroup": "",
         "marker": {
          "color": [
           0.2887590229511261,
           0.26596832275390625,
           0.32027021050453186,
           0.27103501558303833,
           0.2665126919746399,
           0.3322119414806366,
           0.31226208806037903,
           0.32693833112716675,
           0.35401272773742676,
           0.3933604955673218,
           0.40949881076812744,
           0.6485113501548767,
           0.23627056181430817,
           0.20964960753917694,
           0.132057785987854,
           0.12874837219715118,
           0.17316147685050964,
           0.172122061252594,
           0.15740497410297394,
           0.14152149856090546,
           0.217745840549469,
           0.21988841891288757,
           0.27303677797317505,
           0.37469029426574707,
           0.15683183073997498,
           0.1145637109875679,
           0.07538578659296036,
           0.12016907334327698,
           0.14671814441680908,
           0.08165118098258972,
           0.08225561678409576,
           0.08246544748544693,
           0.12255951762199402,
           0.1430736780166626,
           0.19295023381710052,
           0.28942039608955383,
           0.08003293722867966,
           0.06993811577558517,
           0.07345565408468246,
           0.07910400629043579,
           0.06702952086925507,
           0.06855658441781998,
           0.07289842516183853,
           0.052834801375865936,
           0.0735749825835228,
           0.09943188726902008,
           0.13305385410785675,
           0.26548299193382263,
           0.044456545263528824,
           0.030846523120999336,
           0.030167583376169205,
           0.061449822038412094,
           0.03142358362674713,
           0.05491326004266739,
           0.046037979423999786,
           0.0625419095158577,
           0.05083228647708893,
           0.10206115990877151,
           0.1493237316608429,
           0.2492532879114151,
           0.07661652565002441,
           0.09060343354940414,
           0.0608472116291523,
           0.06429435312747955,
           0.03243618458509445,
           0.04377146065235138,
           0.044507987797260284,
           0.054088834673166275,
           0.07344940304756165,
           0.0879020020365715,
           0.14970597624778748,
           0.23648644983768463,
           0.04110150784254074,
           0.03507956117391586,
           0.04996528849005699,
           0.03629651665687561,
           0.03302691876888275,
           0.04333541542291641,
           0.04282152280211449,
           0.05118082836270332,
           0.06263799965381622,
           0.12104643881320953,
           0.17151209712028503,
           0.2572692334651947,
           0.06557424366474152,
           0.05050055310130119,
           0.04392162337899208,
           0.03817170113325119,
           0.040601395070552826,
           0.03759780898690224,
           0.06476319581270218,
           0.06371868401765823,
           0.06922661513090134,
           0.11885019391775131,
           0.39792054891586304,
           0.9238765835762024,
           0.056842170655727386,
           0.05609796196222305,
           0.04097448289394379,
           0.05513342097401619,
           0.03750023618340492,
           0.039891645312309265,
           0.040931448340415955,
           0.05620679259300232,
           0.09643719345331192,
           0.3809826672077179,
           0.8182660937309265,
           0.8809875845909119,
           0.05420573055744171,
           0.06255649775266647,
           0.05145830661058426,
           0.04268879443407059,
           0.04686768352985382,
           0.03869583457708359,
           0.035780370235443115,
           0.07931137084960938,
           0.19724011421203613,
           0.3195255398750305,
           0.38507524132728577,
           0.3082980811595917,
           0.08019880950450897,
           0.06816910952329636,
           0.05198151245713234,
           0.04378719627857208,
           0.05162724107503891,
           0.042657483369112015,
           0.0636756420135498,
           0.14614315330982208,
           0.14855022728443146,
           0.25529247522354126,
           0.2958797812461853,
           0.35425910353660583,
           0.05588391423225403,
           0.07082975655794144,
           0.061208490282297134,
           0.06264612078666687,
           0.07609192281961441,
           0.11757902055978775,
           0.1198050007224083,
           0.13905330002307892,
           0.2825571298599243,
           0.34824493527412415,
           3.698408365249634,
           null
          ],
          "coloraxis": "coloraxis",
          "symbol": "circle"
         },
         "mode": "markers",
         "name": "",
         "scene": "scene",
         "showlegend": false,
         "type": "scatter3d",
         "x": [
          0.000001,
          0.000001,
          0.000001,
          0.000001,
          0.000001,
          0.000001,
          0.000001,
          0.000001,
          0.000001,
          0.000001,
          0.000001,
          0.000001,
          0.000002310129700083158,
          0.000002310129700083158,
          0.000002310129700083158,
          0.000002310129700083158,
          0.000002310129700083158,
          0.000002310129700083158,
          0.000002310129700083158,
          0.000002310129700083158,
          0.000002310129700083158,
          0.000002310129700083158,
          0.000002310129700083158,
          0.000002310129700083158,
          0.000005336699231206313,
          0.000005336699231206313,
          0.000005336699231206313,
          0.000005336699231206313,
          0.000005336699231206313,
          0.000005336699231206313,
          0.000005336699231206313,
          0.000005336699231206313,
          0.000005336699231206313,
          0.000005336699231206313,
          0.000005336699231206313,
          0.000005336699231206313,
          0.000012328467394420658,
          0.000012328467394420658,
          0.000012328467394420658,
          0.000012328467394420658,
          0.000012328467394420658,
          0.000012328467394420658,
          0.000012328467394420658,
          0.000012328467394420658,
          0.000012328467394420658,
          0.000012328467394420658,
          0.000012328467394420658,
          0.000012328467394420658,
          0.000028480358684358048,
          0.000028480358684358048,
          0.000028480358684358048,
          0.000028480358684358048,
          0.000028480358684358048,
          0.000028480358684358048,
          0.000028480358684358048,
          0.000028480358684358048,
          0.000028480358684358048,
          0.000028480358684358048,
          0.000028480358684358048,
          0.000028480358684358048,
          0.00006579332246575683,
          0.00006579332246575683,
          0.00006579332246575683,
          0.00006579332246575683,
          0.00006579332246575683,
          0.00006579332246575683,
          0.00006579332246575683,
          0.00006579332246575683,
          0.00006579332246575683,
          0.00006579332246575683,
          0.00006579332246575683,
          0.00006579332246575683,
          0.0001519911082952933,
          0.0001519911082952933,
          0.0001519911082952933,
          0.0001519911082952933,
          0.0001519911082952933,
          0.0001519911082952933,
          0.0001519911082952933,
          0.0001519911082952933,
          0.0001519911082952933,
          0.0001519911082952933,
          0.0001519911082952933,
          0.0001519911082952933,
          0.0003511191734215131,
          0.0003511191734215131,
          0.0003511191734215131,
          0.0003511191734215131,
          0.0003511191734215131,
          0.0003511191734215131,
          0.0003511191734215131,
          0.0003511191734215131,
          0.0003511191734215131,
          0.0003511191734215131,
          0.0003511191734215131,
          0.0003511191734215131,
          0.0008111308307896872,
          0.0008111308307896872,
          0.0008111308307896872,
          0.0008111308307896872,
          0.0008111308307896872,
          0.0008111308307896872,
          0.0008111308307896872,
          0.0008111308307896872,
          0.0008111308307896872,
          0.0008111308307896872,
          0.0008111308307896872,
          0.0008111308307896872,
          0.001873817422860385,
          0.001873817422860385,
          0.001873817422860385,
          0.001873817422860385,
          0.001873817422860385,
          0.001873817422860385,
          0.001873817422860385,
          0.001873817422860385,
          0.001873817422860385,
          0.001873817422860385,
          0.001873817422860385,
          0.001873817422860385,
          0.004328761281083062,
          0.004328761281083062,
          0.004328761281083062,
          0.004328761281083062,
          0.004328761281083062,
          0.004328761281083062,
          0.004328761281083062,
          0.004328761281083062,
          0.004328761281083062,
          0.004328761281083062,
          0.004328761281083062,
          0.004328761281083062,
          0.01,
          0.01,
          0.01,
          0.01,
          0.01,
          0.01,
          0.01,
          0.01,
          0.01,
          0.01,
          0.01,
          0.01
         ],
         "y": [
          1.45990473543644,
          3.0374304014385842,
          6.319579092827069,
          13.148311115731916,
          27.35594928977181,
          56.915900069414285,
          118.41737409283583,
          246.37534449847303,
          512.6005439805956,
          1066.500051878491,
          2218.925387445315,
          4616.624130844682,
          1.45990473543644,
          3.0374304014385842,
          6.319579092827069,
          13.148311115731916,
          27.35594928977181,
          56.915900069414285,
          118.41737409283583,
          246.37534449847303,
          512.6005439805956,
          1066.500051878491,
          2218.925387445315,
          4616.624130844682,
          1.45990473543644,
          3.0374304014385842,
          6.319579092827069,
          13.148311115731916,
          27.35594928977181,
          56.915900069414285,
          118.41737409283583,
          246.37534449847303,
          512.6005439805956,
          1066.500051878491,
          2218.925387445315,
          4616.624130844682,
          1.45990473543644,
          3.0374304014385842,
          6.319579092827069,
          13.148311115731916,
          27.35594928977181,
          56.915900069414285,
          118.41737409283583,
          246.37534449847303,
          512.6005439805956,
          1066.500051878491,
          2218.925387445315,
          4616.624130844682,
          1.45990473543644,
          3.0374304014385842,
          6.319579092827069,
          13.148311115731916,
          27.35594928977181,
          56.915900069414285,
          118.41737409283583,
          246.37534449847303,
          512.6005439805956,
          1066.500051878491,
          2218.925387445315,
          4616.624130844682,
          1.45990473543644,
          3.0374304014385842,
          6.319579092827069,
          13.148311115731916,
          27.35594928977181,
          56.915900069414285,
          118.41737409283583,
          246.37534449847303,
          512.6005439805956,
          1066.500051878491,
          2218.925387445315,
          4616.624130844682,
          1.45990473543644,
          3.0374304014385842,
          6.319579092827069,
          13.148311115731916,
          27.35594928977181,
          56.915900069414285,
          118.41737409283583,
          246.37534449847303,
          512.6005439805956,
          1066.500051878491,
          2218.925387445315,
          4616.624130844682,
          1.45990473543644,
          3.0374304014385842,
          6.319579092827069,
          13.148311115731916,
          27.35594928977181,
          56.915900069414285,
          118.41737409283583,
          246.37534449847303,
          512.6005439805956,
          1066.500051878491,
          2218.925387445315,
          4616.624130844682,
          1.45990473543644,
          3.0374304014385842,
          6.319579092827069,
          13.148311115731916,
          27.35594928977181,
          56.915900069414285,
          118.41737409283583,
          246.37534449847303,
          512.6005439805956,
          1066.500051878491,
          2218.925387445315,
          4616.624130844682,
          1.45990473543644,
          3.0374304014385842,
          6.319579092827069,
          13.148311115731916,
          27.35594928977181,
          56.915900069414285,
          118.41737409283583,
          246.37534449847303,
          512.6005439805956,
          1066.500051878491,
          2218.925387445315,
          4616.624130844682,
          1.45990473543644,
          3.0374304014385842,
          6.319579092827069,
          13.148311115731916,
          27.35594928977181,
          56.915900069414285,
          118.41737409283583,
          246.37534449847303,
          512.6005439805956,
          1066.500051878491,
          2218.925387445315,
          4616.624130844682,
          1.45990473543644,
          3.0374304014385842,
          6.319579092827069,
          13.148311115731916,
          27.35594928977181,
          56.915900069414285,
          118.41737409283583,
          246.37534449847303,
          512.6005439805956,
          1066.500051878491,
          2218.925387445315,
          4616.624130844682
         ],
         "z": [
          0.17032548785209656,
          0.3780762553215027,
          0.8167436718940735,
          1.9385392665863037,
          2.908435583114624,
          6.257753372192383,
          14.548558235168457,
          22.438674926757812,
          57.0562629699707,
          69.16331481933594,
          157.39707946777344,
          120.18836975097656,
          0.7724602818489075,
          1.6182811260223389,
          3.2035441398620605,
          5.212250709533691,
          11.492940902709961,
          23.684877395629883,
          38.02240753173828,
          51.110374450683594,
          94.4892807006836,
          148.6500701904297,
          213.7941436767578,
          293.8170166015625,
          2.0367980003356934,
          3.9995322227478027,
          7.9854736328125,
          16.023372650146484,
          26.061941146850586,
          48.299068450927734,
          74.91355895996094,
          107.60694885253906,
          166.63856506347656,
          227.2150115966797,
          293.4100646972656,
          403.7611389160156,
          2.91348934173584,
          5.994124412536621,
          11.946194648742676,
          25.257244110107422,
          45.27037811279297,
          79.47184753417969,
          129.26412963867188,
          194.255126953125,
          262.8553161621094,
          345.46380615234375,
          460.9888610839844,
          395.8735046386719,
          3.510796308517456,
          7.402909755706787,
          14.500142097473145,
          28.907196044921875,
          56.88818359375,
          109.44132232666016,
          170.2073516845703,
          236.64450073242188,
          330.426025390625,
          403.18731689453125,
          482.0122985839844,
          380.2496032714844,
          3.662158489227295,
          7.747810363769531,
          15.604852676391602,
          31.621774673461914,
          58.885528564453125,
          115.24520111083984,
          204.9387969970703,
          287.5580749511719,
          336.54901123046875,
          411.50836181640625,
          517.4578247070312,
          570.8424072265625,
          3.7141101360321045,
          7.612386226654053,
          15.760061264038086,
          31.029800415039062,
          60.61579513549805,
          116.46638488769531,
          214.5522003173828,
          286.27996826171875,
          316.93548583984375,
          351.7712707519531,
          424.9349060058594,
          665.0825805664062,
          3.820103168487549,
          7.527207851409912,
          15.202728271484375,
          30.85991859436035,
          62.622154235839844,
          119.14619445800781,
          214.9553680419922,
          303.11065673828125,
          349.5721740722656,
          412.22430419921875,
          502.300537109375,
          1877.609619140625,
          3.827118396759033,
          7.424105167388916,
          15.47571849822998,
          31.4487247467041,
          61.728363037109375,
          120.88093566894531,
          217.56881713867188,
          302.78497314453125,
          390.61114501953125,
          637.6482543945312,
          2659.586181640625,
          5724.24658203125,
          3.585763931274414,
          7.590412139892578,
          15.193914413452148,
          30.7070369720459,
          62.51721954345703,
          129.09030151367188,
          237.950439453125,
          386.7972412109375,
          925.3478393554688,
          2209.99609375,
          5630.23974609375,
          9160.12109375,
          3.853107452392578,
          7.8021392822265625,
          15.606210708618164,
          32.33690643310547,
          66.15621185302734,
          130.0491180419922,
          281.28057861328125,
          823.0642700195312,
          2009.841064453125,
          3562.604248046875,
          6905.9619140625,
          14611.513671875,
          3.6966381072998047,
          7.687396049499512,
          16.152141571044922,
          33.58455276489258,
          70.18458557128906,
          162.7932586669922,
          566.0184936523438,
          1479.93798828125,
          3004.412109375,
          5056.75048828125,
          31588.33984375,
          null
         ]
        }
       ],
       "layout": {
        "coloraxis": {
         "cmax": 0.15,
         "cmin": 0,
         "colorbar": {
          "title": {
           "text": "llc/std_over_mean"
          }
         },
         "colorscale": [
          [
           0,
           "#0d0887"
          ],
          [
           0.1111111111111111,
           "#46039f"
          ],
          [
           0.2222222222222222,
           "#7201a8"
          ],
          [
           0.3333333333333333,
           "#9c179e"
          ],
          [
           0.4444444444444444,
           "#bd3786"
          ],
          [
           0.5555555555555556,
           "#d8576b"
          ],
          [
           0.6666666666666666,
           "#ed7953"
          ],
          [
           0.7777777777777778,
           "#fb9f3a"
          ],
          [
           0.8888888888888888,
           "#fdca26"
          ],
          [
           1,
           "#f0f921"
          ]
         ]
        },
        "legend": {
         "tracegroupgap": 0
        },
        "scene": {
         "domain": {
          "x": [
           0,
           1
          ],
          "y": [
           0,
           1
          ]
         },
         "xaxis": {
          "title": {
           "text": "epsilon"
          },
          "type": "log"
         },
         "yaxis": {
          "title": {
           "text": "beta"
          },
          "type": "log"
         },
         "zaxis": {
          "title": {
           "text": "llc/final"
          },
          "type": "log"
         }
        },
        "template": {
         "data": {
          "bar": [
           {
            "error_x": {
             "color": "#2a3f5f"
            },
            "error_y": {
             "color": "#2a3f5f"
            },
            "marker": {
             "line": {
              "color": "#E5ECF6",
              "width": 0.5
             },
             "pattern": {
              "fillmode": "overlay",
              "size": 10,
              "solidity": 0.2
             }
            },
            "type": "bar"
           }
          ],
          "barpolar": [
           {
            "marker": {
             "line": {
              "color": "#E5ECF6",
              "width": 0.5
             },
             "pattern": {
              "fillmode": "overlay",
              "size": 10,
              "solidity": 0.2
             }
            },
            "type": "barpolar"
           }
          ],
          "carpet": [
           {
            "aaxis": {
             "endlinecolor": "#2a3f5f",
             "gridcolor": "white",
             "linecolor": "white",
             "minorgridcolor": "white",
             "startlinecolor": "#2a3f5f"
            },
            "baxis": {
             "endlinecolor": "#2a3f5f",
             "gridcolor": "white",
             "linecolor": "white",
             "minorgridcolor": "white",
             "startlinecolor": "#2a3f5f"
            },
            "type": "carpet"
           }
          ],
          "choropleth": [
           {
            "colorbar": {
             "outlinewidth": 0,
             "ticks": ""
            },
            "type": "choropleth"
           }
          ],
          "contour": [
           {
            "colorbar": {
             "outlinewidth": 0,
             "ticks": ""
            },
            "colorscale": [
             [
              0,
              "#0d0887"
             ],
             [
              0.1111111111111111,
              "#46039f"
             ],
             [
              0.2222222222222222,
              "#7201a8"
             ],
             [
              0.3333333333333333,
              "#9c179e"
             ],
             [
              0.4444444444444444,
              "#bd3786"
             ],
             [
              0.5555555555555556,
              "#d8576b"
             ],
             [
              0.6666666666666666,
              "#ed7953"
             ],
             [
              0.7777777777777778,
              "#fb9f3a"
             ],
             [
              0.8888888888888888,
              "#fdca26"
             ],
             [
              1,
              "#f0f921"
             ]
            ],
            "type": "contour"
           }
          ],
          "contourcarpet": [
           {
            "colorbar": {
             "outlinewidth": 0,
             "ticks": ""
            },
            "type": "contourcarpet"
           }
          ],
          "heatmap": [
           {
            "colorbar": {
             "outlinewidth": 0,
             "ticks": ""
            },
            "colorscale": [
             [
              0,
              "#0d0887"
             ],
             [
              0.1111111111111111,
              "#46039f"
             ],
             [
              0.2222222222222222,
              "#7201a8"
             ],
             [
              0.3333333333333333,
              "#9c179e"
             ],
             [
              0.4444444444444444,
              "#bd3786"
             ],
             [
              0.5555555555555556,
              "#d8576b"
             ],
             [
              0.6666666666666666,
              "#ed7953"
             ],
             [
              0.7777777777777778,
              "#fb9f3a"
             ],
             [
              0.8888888888888888,
              "#fdca26"
             ],
             [
              1,
              "#f0f921"
             ]
            ],
            "type": "heatmap"
           }
          ],
          "heatmapgl": [
           {
            "colorbar": {
             "outlinewidth": 0,
             "ticks": ""
            },
            "colorscale": [
             [
              0,
              "#0d0887"
             ],
             [
              0.1111111111111111,
              "#46039f"
             ],
             [
              0.2222222222222222,
              "#7201a8"
             ],
             [
              0.3333333333333333,
              "#9c179e"
             ],
             [
              0.4444444444444444,
              "#bd3786"
             ],
             [
              0.5555555555555556,
              "#d8576b"
             ],
             [
              0.6666666666666666,
              "#ed7953"
             ],
             [
              0.7777777777777778,
              "#fb9f3a"
             ],
             [
              0.8888888888888888,
              "#fdca26"
             ],
             [
              1,
              "#f0f921"
             ]
            ],
            "type": "heatmapgl"
           }
          ],
          "histogram": [
           {
            "marker": {
             "pattern": {
              "fillmode": "overlay",
              "size": 10,
              "solidity": 0.2
             }
            },
            "type": "histogram"
           }
          ],
          "histogram2d": [
           {
            "colorbar": {
             "outlinewidth": 0,
             "ticks": ""
            },
            "colorscale": [
             [
              0,
              "#0d0887"
             ],
             [
              0.1111111111111111,
              "#46039f"
             ],
             [
              0.2222222222222222,
              "#7201a8"
             ],
             [
              0.3333333333333333,
              "#9c179e"
             ],
             [
              0.4444444444444444,
              "#bd3786"
             ],
             [
              0.5555555555555556,
              "#d8576b"
             ],
             [
              0.6666666666666666,
              "#ed7953"
             ],
             [
              0.7777777777777778,
              "#fb9f3a"
             ],
             [
              0.8888888888888888,
              "#fdca26"
             ],
             [
              1,
              "#f0f921"
             ]
            ],
            "type": "histogram2d"
           }
          ],
          "histogram2dcontour": [
           {
            "colorbar": {
             "outlinewidth": 0,
             "ticks": ""
            },
            "colorscale": [
             [
              0,
              "#0d0887"
             ],
             [
              0.1111111111111111,
              "#46039f"
             ],
             [
              0.2222222222222222,
              "#7201a8"
             ],
             [
              0.3333333333333333,
              "#9c179e"
             ],
             [
              0.4444444444444444,
              "#bd3786"
             ],
             [
              0.5555555555555556,
              "#d8576b"
             ],
             [
              0.6666666666666666,
              "#ed7953"
             ],
             [
              0.7777777777777778,
              "#fb9f3a"
             ],
             [
              0.8888888888888888,
              "#fdca26"
             ],
             [
              1,
              "#f0f921"
             ]
            ],
            "type": "histogram2dcontour"
           }
          ],
          "mesh3d": [
           {
            "colorbar": {
             "outlinewidth": 0,
             "ticks": ""
            },
            "type": "mesh3d"
           }
          ],
          "parcoords": [
           {
            "line": {
             "colorbar": {
              "outlinewidth": 0,
              "ticks": ""
             }
            },
            "type": "parcoords"
           }
          ],
          "pie": [
           {
            "automargin": true,
            "type": "pie"
           }
          ],
          "scatter": [
           {
            "fillpattern": {
             "fillmode": "overlay",
             "size": 10,
             "solidity": 0.2
            },
            "type": "scatter"
           }
          ],
          "scatter3d": [
           {
            "line": {
             "colorbar": {
              "outlinewidth": 0,
              "ticks": ""
             }
            },
            "marker": {
             "colorbar": {
              "outlinewidth": 0,
              "ticks": ""
             }
            },
            "type": "scatter3d"
           }
          ],
          "scattercarpet": [
           {
            "marker": {
             "colorbar": {
              "outlinewidth": 0,
              "ticks": ""
             }
            },
            "type": "scattercarpet"
           }
          ],
          "scattergeo": [
           {
            "marker": {
             "colorbar": {
              "outlinewidth": 0,
              "ticks": ""
             }
            },
            "type": "scattergeo"
           }
          ],
          "scattergl": [
           {
            "marker": {
             "colorbar": {
              "outlinewidth": 0,
              "ticks": ""
             }
            },
            "type": "scattergl"
           }
          ],
          "scattermapbox": [
           {
            "marker": {
             "colorbar": {
              "outlinewidth": 0,
              "ticks": ""
             }
            },
            "type": "scattermapbox"
           }
          ],
          "scatterpolar": [
           {
            "marker": {
             "colorbar": {
              "outlinewidth": 0,
              "ticks": ""
             }
            },
            "type": "scatterpolar"
           }
          ],
          "scatterpolargl": [
           {
            "marker": {
             "colorbar": {
              "outlinewidth": 0,
              "ticks": ""
             }
            },
            "type": "scatterpolargl"
           }
          ],
          "scatterternary": [
           {
            "marker": {
             "colorbar": {
              "outlinewidth": 0,
              "ticks": ""
             }
            },
            "type": "scatterternary"
           }
          ],
          "surface": [
           {
            "colorbar": {
             "outlinewidth": 0,
             "ticks": ""
            },
            "colorscale": [
             [
              0,
              "#0d0887"
             ],
             [
              0.1111111111111111,
              "#46039f"
             ],
             [
              0.2222222222222222,
              "#7201a8"
             ],
             [
              0.3333333333333333,
              "#9c179e"
             ],
             [
              0.4444444444444444,
              "#bd3786"
             ],
             [
              0.5555555555555556,
              "#d8576b"
             ],
             [
              0.6666666666666666,
              "#ed7953"
             ],
             [
              0.7777777777777778,
              "#fb9f3a"
             ],
             [
              0.8888888888888888,
              "#fdca26"
             ],
             [
              1,
              "#f0f921"
             ]
            ],
            "type": "surface"
           }
          ],
          "table": [
           {
            "cells": {
             "fill": {
              "color": "#EBF0F8"
             },
             "line": {
              "color": "white"
             }
            },
            "header": {
             "fill": {
              "color": "#C8D4E3"
             },
             "line": {
              "color": "white"
             }
            },
            "type": "table"
           }
          ]
         },
         "layout": {
          "annotationdefaults": {
           "arrowcolor": "#2a3f5f",
           "arrowhead": 0,
           "arrowwidth": 1
          },
          "autotypenumbers": "strict",
          "coloraxis": {
           "colorbar": {
            "outlinewidth": 0,
            "ticks": ""
           }
          },
          "colorscale": {
           "diverging": [
            [
             0,
             "#8e0152"
            ],
            [
             0.1,
             "#c51b7d"
            ],
            [
             0.2,
             "#de77ae"
            ],
            [
             0.3,
             "#f1b6da"
            ],
            [
             0.4,
             "#fde0ef"
            ],
            [
             0.5,
             "#f7f7f7"
            ],
            [
             0.6,
             "#e6f5d0"
            ],
            [
             0.7,
             "#b8e186"
            ],
            [
             0.8,
             "#7fbc41"
            ],
            [
             0.9,
             "#4d9221"
            ],
            [
             1,
             "#276419"
            ]
           ],
           "sequential": [
            [
             0,
             "#0d0887"
            ],
            [
             0.1111111111111111,
             "#46039f"
            ],
            [
             0.2222222222222222,
             "#7201a8"
            ],
            [
             0.3333333333333333,
             "#9c179e"
            ],
            [
             0.4444444444444444,
             "#bd3786"
            ],
            [
             0.5555555555555556,
             "#d8576b"
            ],
            [
             0.6666666666666666,
             "#ed7953"
            ],
            [
             0.7777777777777778,
             "#fb9f3a"
            ],
            [
             0.8888888888888888,
             "#fdca26"
            ],
            [
             1,
             "#f0f921"
            ]
           ],
           "sequentialminus": [
            [
             0,
             "#0d0887"
            ],
            [
             0.1111111111111111,
             "#46039f"
            ],
            [
             0.2222222222222222,
             "#7201a8"
            ],
            [
             0.3333333333333333,
             "#9c179e"
            ],
            [
             0.4444444444444444,
             "#bd3786"
            ],
            [
             0.5555555555555556,
             "#d8576b"
            ],
            [
             0.6666666666666666,
             "#ed7953"
            ],
            [
             0.7777777777777778,
             "#fb9f3a"
            ],
            [
             0.8888888888888888,
             "#fdca26"
            ],
            [
             1,
             "#f0f921"
            ]
           ]
          },
          "colorway": [
           "#636efa",
           "#EF553B",
           "#00cc96",
           "#ab63fa",
           "#FFA15A",
           "#19d3f3",
           "#FF6692",
           "#B6E880",
           "#FF97FF",
           "#FECB52"
          ],
          "font": {
           "color": "#2a3f5f"
          },
          "geo": {
           "bgcolor": "white",
           "lakecolor": "white",
           "landcolor": "#E5ECF6",
           "showlakes": true,
           "showland": true,
           "subunitcolor": "white"
          },
          "hoverlabel": {
           "align": "left"
          },
          "hovermode": "closest",
          "mapbox": {
           "style": "light"
          },
          "paper_bgcolor": "white",
          "plot_bgcolor": "#E5ECF6",
          "polar": {
           "angularaxis": {
            "gridcolor": "white",
            "linecolor": "white",
            "ticks": ""
           },
           "bgcolor": "#E5ECF6",
           "radialaxis": {
            "gridcolor": "white",
            "linecolor": "white",
            "ticks": ""
           }
          },
          "scene": {
           "xaxis": {
            "backgroundcolor": "#E5ECF6",
            "gridcolor": "white",
            "gridwidth": 2,
            "linecolor": "white",
            "showbackground": true,
            "ticks": "",
            "zerolinecolor": "white"
           },
           "yaxis": {
            "backgroundcolor": "#E5ECF6",
            "gridcolor": "white",
            "gridwidth": 2,
            "linecolor": "white",
            "showbackground": true,
            "ticks": "",
            "zerolinecolor": "white"
           },
           "zaxis": {
            "backgroundcolor": "#E5ECF6",
            "gridcolor": "white",
            "gridwidth": 2,
            "linecolor": "white",
            "showbackground": true,
            "ticks": "",
            "zerolinecolor": "white"
           }
          },
          "shapedefaults": {
           "line": {
            "color": "#2a3f5f"
           }
          },
          "ternary": {
           "aaxis": {
            "gridcolor": "white",
            "linecolor": "white",
            "ticks": ""
           },
           "baxis": {
            "gridcolor": "white",
            "linecolor": "white",
            "ticks": ""
           },
           "bgcolor": "#E5ECF6",
           "caxis": {
            "gridcolor": "white",
            "linecolor": "white",
            "ticks": ""
           }
          },
          "title": {
           "x": 0.05
          },
          "xaxis": {
           "automargin": true,
           "gridcolor": "white",
           "linecolor": "white",
           "ticks": "",
           "title": {
            "standoff": 15
           },
           "zerolinecolor": "white",
           "zerolinewidth": 2
          },
          "yaxis": {
           "automargin": true,
           "gridcolor": "white",
           "linecolor": "white",
           "ticks": "",
           "title": {
            "standoff": 15
           },
           "zerolinecolor": "white",
           "zerolinewidth": 2
          }
         }
        },
        "title": {
         "text": "Local learning coefficient vs. epsilon and beta"
        }
       }
      },
      "text/html": [
       "<div>                            <div id=\"78ff82e0-d2e5-47ec-bdf3-17840356d303\" class=\"plotly-graph-div\" style=\"height:525px; width:100%;\"></div>            <script type=\"text/javascript\">                require([\"plotly\"], function(Plotly) {                    window.PLOTLYENV=window.PLOTLYENV || {};                                    if (document.getElementById(\"78ff82e0-d2e5-47ec-bdf3-17840356d303\")) {                    Plotly.newPlot(                        \"78ff82e0-d2e5-47ec-bdf3-17840356d303\",                        [{\"hovertemplate\":\"epsilon=%{x}\\u003cbr\\u003ebeta=%{y}\\u003cbr\\u003ellc\\u002ffinal=%{z}\\u003cbr\\u003ellc\\u002fstd_over_mean=%{marker.color}\\u003cextra\\u003e\\u003c\\u002fextra\\u003e\",\"legendgroup\":\"\",\"marker\":{\"color\":[0.2887590229511261,0.26596832275390625,0.32027021050453186,0.27103501558303833,0.2665126919746399,0.3322119414806366,0.31226208806037903,0.32693833112716675,0.35401272773742676,0.3933604955673218,0.40949881076812744,0.6485113501548767,0.23627056181430817,0.20964960753917694,0.132057785987854,0.12874837219715118,0.17316147685050964,0.172122061252594,0.15740497410297394,0.14152149856090546,0.217745840549469,0.21988841891288757,0.27303677797317505,0.37469029426574707,0.15683183073997498,0.1145637109875679,0.07538578659296036,0.12016907334327698,0.14671814441680908,0.08165118098258972,0.08225561678409576,0.08246544748544693,0.12255951762199402,0.1430736780166626,0.19295023381710052,0.28942039608955383,0.08003293722867966,0.06993811577558517,0.07345565408468246,0.07910400629043579,0.06702952086925507,0.06855658441781998,0.07289842516183853,0.052834801375865936,0.0735749825835228,0.09943188726902008,0.13305385410785675,0.26548299193382263,0.044456545263528824,0.030846523120999336,0.030167583376169205,0.061449822038412094,0.03142358362674713,0.05491326004266739,0.046037979423999786,0.0625419095158577,0.05083228647708893,0.10206115990877151,0.1493237316608429,0.2492532879114151,0.07661652565002441,0.09060343354940414,0.0608472116291523,0.06429435312747955,0.03243618458509445,0.04377146065235138,0.044507987797260284,0.054088834673166275,0.07344940304756165,0.0879020020365715,0.14970597624778748,0.23648644983768463,0.04110150784254074,0.03507956117391586,0.04996528849005699,0.03629651665687561,0.03302691876888275,0.04333541542291641,0.04282152280211449,0.05118082836270332,0.06263799965381622,0.12104643881320953,0.17151209712028503,0.2572692334651947,0.06557424366474152,0.05050055310130119,0.04392162337899208,0.03817170113325119,0.040601395070552826,0.03759780898690224,0.06476319581270218,0.06371868401765823,0.06922661513090134,0.11885019391775131,0.39792054891586304,0.9238765835762024,0.056842170655727386,0.05609796196222305,0.04097448289394379,0.05513342097401619,0.03750023618340492,0.039891645312309265,0.040931448340415955,0.05620679259300232,0.09643719345331192,0.3809826672077179,0.8182660937309265,0.8809875845909119,0.05420573055744171,0.06255649775266647,0.05145830661058426,0.04268879443407059,0.04686768352985382,0.03869583457708359,0.035780370235443115,0.07931137084960938,0.19724011421203613,0.3195255398750305,0.38507524132728577,0.3082980811595917,0.08019880950450897,0.06816910952329636,0.05198151245713234,0.04378719627857208,0.05162724107503891,0.042657483369112015,0.0636756420135498,0.14614315330982208,0.14855022728443146,0.25529247522354126,0.2958797812461853,0.35425910353660583,0.05588391423225403,0.07082975655794144,0.061208490282297134,0.06264612078666687,0.07609192281961441,0.11757902055978775,0.1198050007224083,0.13905330002307892,0.2825571298599243,0.34824493527412415,3.698408365249634,null],\"coloraxis\":\"coloraxis\",\"symbol\":\"circle\"},\"mode\":\"markers\",\"name\":\"\",\"scene\":\"scene\",\"showlegend\":false,\"x\":[1e-06,1e-06,1e-06,1e-06,1e-06,1e-06,1e-06,1e-06,1e-06,1e-06,1e-06,1e-06,2.310129700083158e-06,2.310129700083158e-06,2.310129700083158e-06,2.310129700083158e-06,2.310129700083158e-06,2.310129700083158e-06,2.310129700083158e-06,2.310129700083158e-06,2.310129700083158e-06,2.310129700083158e-06,2.310129700083158e-06,2.310129700083158e-06,5.336699231206313e-06,5.336699231206313e-06,5.336699231206313e-06,5.336699231206313e-06,5.336699231206313e-06,5.336699231206313e-06,5.336699231206313e-06,5.336699231206313e-06,5.336699231206313e-06,5.336699231206313e-06,5.336699231206313e-06,5.336699231206313e-06,1.2328467394420658e-05,1.2328467394420658e-05,1.2328467394420658e-05,1.2328467394420658e-05,1.2328467394420658e-05,1.2328467394420658e-05,1.2328467394420658e-05,1.2328467394420658e-05,1.2328467394420658e-05,1.2328467394420658e-05,1.2328467394420658e-05,1.2328467394420658e-05,2.8480358684358048e-05,2.8480358684358048e-05,2.8480358684358048e-05,2.8480358684358048e-05,2.8480358684358048e-05,2.8480358684358048e-05,2.8480358684358048e-05,2.8480358684358048e-05,2.8480358684358048e-05,2.8480358684358048e-05,2.8480358684358048e-05,2.8480358684358048e-05,6.579332246575683e-05,6.579332246575683e-05,6.579332246575683e-05,6.579332246575683e-05,6.579332246575683e-05,6.579332246575683e-05,6.579332246575683e-05,6.579332246575683e-05,6.579332246575683e-05,6.579332246575683e-05,6.579332246575683e-05,6.579332246575683e-05,0.0001519911082952933,0.0001519911082952933,0.0001519911082952933,0.0001519911082952933,0.0001519911082952933,0.0001519911082952933,0.0001519911082952933,0.0001519911082952933,0.0001519911082952933,0.0001519911082952933,0.0001519911082952933,0.0001519911082952933,0.0003511191734215131,0.0003511191734215131,0.0003511191734215131,0.0003511191734215131,0.0003511191734215131,0.0003511191734215131,0.0003511191734215131,0.0003511191734215131,0.0003511191734215131,0.0003511191734215131,0.0003511191734215131,0.0003511191734215131,0.0008111308307896872,0.0008111308307896872,0.0008111308307896872,0.0008111308307896872,0.0008111308307896872,0.0008111308307896872,0.0008111308307896872,0.0008111308307896872,0.0008111308307896872,0.0008111308307896872,0.0008111308307896872,0.0008111308307896872,0.001873817422860385,0.001873817422860385,0.001873817422860385,0.001873817422860385,0.001873817422860385,0.001873817422860385,0.001873817422860385,0.001873817422860385,0.001873817422860385,0.001873817422860385,0.001873817422860385,0.001873817422860385,0.004328761281083062,0.004328761281083062,0.004328761281083062,0.004328761281083062,0.004328761281083062,0.004328761281083062,0.004328761281083062,0.004328761281083062,0.004328761281083062,0.004328761281083062,0.004328761281083062,0.004328761281083062,0.01,0.01,0.01,0.01,0.01,0.01,0.01,0.01,0.01,0.01,0.01,0.01],\"y\":[1.45990473543644,3.0374304014385842,6.319579092827069,13.148311115731916,27.35594928977181,56.915900069414285,118.41737409283583,246.37534449847303,512.6005439805956,1066.500051878491,2218.925387445315,4616.624130844682,1.45990473543644,3.0374304014385842,6.319579092827069,13.148311115731916,27.35594928977181,56.915900069414285,118.41737409283583,246.37534449847303,512.6005439805956,1066.500051878491,2218.925387445315,4616.624130844682,1.45990473543644,3.0374304014385842,6.319579092827069,13.148311115731916,27.35594928977181,56.915900069414285,118.41737409283583,246.37534449847303,512.6005439805956,1066.500051878491,2218.925387445315,4616.624130844682,1.45990473543644,3.0374304014385842,6.319579092827069,13.148311115731916,27.35594928977181,56.915900069414285,118.41737409283583,246.37534449847303,512.6005439805956,1066.500051878491,2218.925387445315,4616.624130844682,1.45990473543644,3.0374304014385842,6.319579092827069,13.148311115731916,27.35594928977181,56.915900069414285,118.41737409283583,246.37534449847303,512.6005439805956,1066.500051878491,2218.925387445315,4616.624130844682,1.45990473543644,3.0374304014385842,6.319579092827069,13.148311115731916,27.35594928977181,56.915900069414285,118.41737409283583,246.37534449847303,512.6005439805956,1066.500051878491,2218.925387445315,4616.624130844682,1.45990473543644,3.0374304014385842,6.319579092827069,13.148311115731916,27.35594928977181,56.915900069414285,118.41737409283583,246.37534449847303,512.6005439805956,1066.500051878491,2218.925387445315,4616.624130844682,1.45990473543644,3.0374304014385842,6.319579092827069,13.148311115731916,27.35594928977181,56.915900069414285,118.41737409283583,246.37534449847303,512.6005439805956,1066.500051878491,2218.925387445315,4616.624130844682,1.45990473543644,3.0374304014385842,6.319579092827069,13.148311115731916,27.35594928977181,56.915900069414285,118.41737409283583,246.37534449847303,512.6005439805956,1066.500051878491,2218.925387445315,4616.624130844682,1.45990473543644,3.0374304014385842,6.319579092827069,13.148311115731916,27.35594928977181,56.915900069414285,118.41737409283583,246.37534449847303,512.6005439805956,1066.500051878491,2218.925387445315,4616.624130844682,1.45990473543644,3.0374304014385842,6.319579092827069,13.148311115731916,27.35594928977181,56.915900069414285,118.41737409283583,246.37534449847303,512.6005439805956,1066.500051878491,2218.925387445315,4616.624130844682,1.45990473543644,3.0374304014385842,6.319579092827069,13.148311115731916,27.35594928977181,56.915900069414285,118.41737409283583,246.37534449847303,512.6005439805956,1066.500051878491,2218.925387445315,4616.624130844682],\"z\":[0.17032548785209656,0.3780762553215027,0.8167436718940735,1.9385392665863037,2.908435583114624,6.257753372192383,14.548558235168457,22.438674926757812,57.0562629699707,69.16331481933594,157.39707946777344,120.18836975097656,0.7724602818489075,1.6182811260223389,3.2035441398620605,5.212250709533691,11.492940902709961,23.684877395629883,38.02240753173828,51.110374450683594,94.4892807006836,148.6500701904297,213.7941436767578,293.8170166015625,2.0367980003356934,3.9995322227478027,7.9854736328125,16.023372650146484,26.061941146850586,48.299068450927734,74.91355895996094,107.60694885253906,166.63856506347656,227.2150115966797,293.4100646972656,403.7611389160156,2.91348934173584,5.994124412536621,11.946194648742676,25.257244110107422,45.27037811279297,79.47184753417969,129.26412963867188,194.255126953125,262.8553161621094,345.46380615234375,460.9888610839844,395.8735046386719,3.510796308517456,7.402909755706787,14.500142097473145,28.907196044921875,56.88818359375,109.44132232666016,170.2073516845703,236.64450073242188,330.426025390625,403.18731689453125,482.0122985839844,380.2496032714844,3.662158489227295,7.747810363769531,15.604852676391602,31.621774673461914,58.885528564453125,115.24520111083984,204.9387969970703,287.5580749511719,336.54901123046875,411.50836181640625,517.4578247070312,570.8424072265625,3.7141101360321045,7.612386226654053,15.760061264038086,31.029800415039062,60.61579513549805,116.46638488769531,214.5522003173828,286.27996826171875,316.93548583984375,351.7712707519531,424.9349060058594,665.0825805664062,3.820103168487549,7.527207851409912,15.202728271484375,30.85991859436035,62.622154235839844,119.14619445800781,214.9553680419922,303.11065673828125,349.5721740722656,412.22430419921875,502.300537109375,1877.609619140625,3.827118396759033,7.424105167388916,15.47571849822998,31.4487247467041,61.728363037109375,120.88093566894531,217.56881713867188,302.78497314453125,390.61114501953125,637.6482543945312,2659.586181640625,5724.24658203125,3.585763931274414,7.590412139892578,15.193914413452148,30.7070369720459,62.51721954345703,129.09030151367188,237.950439453125,386.7972412109375,925.3478393554688,2209.99609375,5630.23974609375,9160.12109375,3.853107452392578,7.8021392822265625,15.606210708618164,32.33690643310547,66.15621185302734,130.0491180419922,281.28057861328125,823.0642700195312,2009.841064453125,3562.604248046875,6905.9619140625,14611.513671875,3.6966381072998047,7.687396049499512,16.152141571044922,33.58455276489258,70.18458557128906,162.7932586669922,566.0184936523438,1479.93798828125,3004.412109375,5056.75048828125,31588.33984375,null],\"type\":\"scatter3d\"}],                        {\"template\":{\"data\":{\"histogram2dcontour\":[{\"type\":\"histogram2dcontour\",\"colorbar\":{\"outlinewidth\":0,\"ticks\":\"\"},\"colorscale\":[[0.0,\"#0d0887\"],[0.1111111111111111,\"#46039f\"],[0.2222222222222222,\"#7201a8\"],[0.3333333333333333,\"#9c179e\"],[0.4444444444444444,\"#bd3786\"],[0.5555555555555556,\"#d8576b\"],[0.6666666666666666,\"#ed7953\"],[0.7777777777777778,\"#fb9f3a\"],[0.8888888888888888,\"#fdca26\"],[1.0,\"#f0f921\"]]}],\"choropleth\":[{\"type\":\"choropleth\",\"colorbar\":{\"outlinewidth\":0,\"ticks\":\"\"}}],\"histogram2d\":[{\"type\":\"histogram2d\",\"colorbar\":{\"outlinewidth\":0,\"ticks\":\"\"},\"colorscale\":[[0.0,\"#0d0887\"],[0.1111111111111111,\"#46039f\"],[0.2222222222222222,\"#7201a8\"],[0.3333333333333333,\"#9c179e\"],[0.4444444444444444,\"#bd3786\"],[0.5555555555555556,\"#d8576b\"],[0.6666666666666666,\"#ed7953\"],[0.7777777777777778,\"#fb9f3a\"],[0.8888888888888888,\"#fdca26\"],[1.0,\"#f0f921\"]]}],\"heatmap\":[{\"type\":\"heatmap\",\"colorbar\":{\"outlinewidth\":0,\"ticks\":\"\"},\"colorscale\":[[0.0,\"#0d0887\"],[0.1111111111111111,\"#46039f\"],[0.2222222222222222,\"#7201a8\"],[0.3333333333333333,\"#9c179e\"],[0.4444444444444444,\"#bd3786\"],[0.5555555555555556,\"#d8576b\"],[0.6666666666666666,\"#ed7953\"],[0.7777777777777778,\"#fb9f3a\"],[0.8888888888888888,\"#fdca26\"],[1.0,\"#f0f921\"]]}],\"heatmapgl\":[{\"type\":\"heatmapgl\",\"colorbar\":{\"outlinewidth\":0,\"ticks\":\"\"},\"colorscale\":[[0.0,\"#0d0887\"],[0.1111111111111111,\"#46039f\"],[0.2222222222222222,\"#7201a8\"],[0.3333333333333333,\"#9c179e\"],[0.4444444444444444,\"#bd3786\"],[0.5555555555555556,\"#d8576b\"],[0.6666666666666666,\"#ed7953\"],[0.7777777777777778,\"#fb9f3a\"],[0.8888888888888888,\"#fdca26\"],[1.0,\"#f0f921\"]]}],\"contourcarpet\":[{\"type\":\"contourcarpet\",\"colorbar\":{\"outlinewidth\":0,\"ticks\":\"\"}}],\"contour\":[{\"type\":\"contour\",\"colorbar\":{\"outlinewidth\":0,\"ticks\":\"\"},\"colorscale\":[[0.0,\"#0d0887\"],[0.1111111111111111,\"#46039f\"],[0.2222222222222222,\"#7201a8\"],[0.3333333333333333,\"#9c179e\"],[0.4444444444444444,\"#bd3786\"],[0.5555555555555556,\"#d8576b\"],[0.6666666666666666,\"#ed7953\"],[0.7777777777777778,\"#fb9f3a\"],[0.8888888888888888,\"#fdca26\"],[1.0,\"#f0f921\"]]}],\"surface\":[{\"type\":\"surface\",\"colorbar\":{\"outlinewidth\":0,\"ticks\":\"\"},\"colorscale\":[[0.0,\"#0d0887\"],[0.1111111111111111,\"#46039f\"],[0.2222222222222222,\"#7201a8\"],[0.3333333333333333,\"#9c179e\"],[0.4444444444444444,\"#bd3786\"],[0.5555555555555556,\"#d8576b\"],[0.6666666666666666,\"#ed7953\"],[0.7777777777777778,\"#fb9f3a\"],[0.8888888888888888,\"#fdca26\"],[1.0,\"#f0f921\"]]}],\"mesh3d\":[{\"type\":\"mesh3d\",\"colorbar\":{\"outlinewidth\":0,\"ticks\":\"\"}}],\"scatter\":[{\"fillpattern\":{\"fillmode\":\"overlay\",\"size\":10,\"solidity\":0.2},\"type\":\"scatter\"}],\"parcoords\":[{\"type\":\"parcoords\",\"line\":{\"colorbar\":{\"outlinewidth\":0,\"ticks\":\"\"}}}],\"scatterpolargl\":[{\"type\":\"scatterpolargl\",\"marker\":{\"colorbar\":{\"outlinewidth\":0,\"ticks\":\"\"}}}],\"bar\":[{\"error_x\":{\"color\":\"#2a3f5f\"},\"error_y\":{\"color\":\"#2a3f5f\"},\"marker\":{\"line\":{\"color\":\"#E5ECF6\",\"width\":0.5},\"pattern\":{\"fillmode\":\"overlay\",\"size\":10,\"solidity\":0.2}},\"type\":\"bar\"}],\"scattergeo\":[{\"type\":\"scattergeo\",\"marker\":{\"colorbar\":{\"outlinewidth\":0,\"ticks\":\"\"}}}],\"scatterpolar\":[{\"type\":\"scatterpolar\",\"marker\":{\"colorbar\":{\"outlinewidth\":0,\"ticks\":\"\"}}}],\"histogram\":[{\"marker\":{\"pattern\":{\"fillmode\":\"overlay\",\"size\":10,\"solidity\":0.2}},\"type\":\"histogram\"}],\"scattergl\":[{\"type\":\"scattergl\",\"marker\":{\"colorbar\":{\"outlinewidth\":0,\"ticks\":\"\"}}}],\"scatter3d\":[{\"type\":\"scatter3d\",\"line\":{\"colorbar\":{\"outlinewidth\":0,\"ticks\":\"\"}},\"marker\":{\"colorbar\":{\"outlinewidth\":0,\"ticks\":\"\"}}}],\"scattermapbox\":[{\"type\":\"scattermapbox\",\"marker\":{\"colorbar\":{\"outlinewidth\":0,\"ticks\":\"\"}}}],\"scatterternary\":[{\"type\":\"scatterternary\",\"marker\":{\"colorbar\":{\"outlinewidth\":0,\"ticks\":\"\"}}}],\"scattercarpet\":[{\"type\":\"scattercarpet\",\"marker\":{\"colorbar\":{\"outlinewidth\":0,\"ticks\":\"\"}}}],\"carpet\":[{\"aaxis\":{\"endlinecolor\":\"#2a3f5f\",\"gridcolor\":\"white\",\"linecolor\":\"white\",\"minorgridcolor\":\"white\",\"startlinecolor\":\"#2a3f5f\"},\"baxis\":{\"endlinecolor\":\"#2a3f5f\",\"gridcolor\":\"white\",\"linecolor\":\"white\",\"minorgridcolor\":\"white\",\"startlinecolor\":\"#2a3f5f\"},\"type\":\"carpet\"}],\"table\":[{\"cells\":{\"fill\":{\"color\":\"#EBF0F8\"},\"line\":{\"color\":\"white\"}},\"header\":{\"fill\":{\"color\":\"#C8D4E3\"},\"line\":{\"color\":\"white\"}},\"type\":\"table\"}],\"barpolar\":[{\"marker\":{\"line\":{\"color\":\"#E5ECF6\",\"width\":0.5},\"pattern\":{\"fillmode\":\"overlay\",\"size\":10,\"solidity\":0.2}},\"type\":\"barpolar\"}],\"pie\":[{\"automargin\":true,\"type\":\"pie\"}]},\"layout\":{\"autotypenumbers\":\"strict\",\"colorway\":[\"#636efa\",\"#EF553B\",\"#00cc96\",\"#ab63fa\",\"#FFA15A\",\"#19d3f3\",\"#FF6692\",\"#B6E880\",\"#FF97FF\",\"#FECB52\"],\"font\":{\"color\":\"#2a3f5f\"},\"hovermode\":\"closest\",\"hoverlabel\":{\"align\":\"left\"},\"paper_bgcolor\":\"white\",\"plot_bgcolor\":\"#E5ECF6\",\"polar\":{\"bgcolor\":\"#E5ECF6\",\"angularaxis\":{\"gridcolor\":\"white\",\"linecolor\":\"white\",\"ticks\":\"\"},\"radialaxis\":{\"gridcolor\":\"white\",\"linecolor\":\"white\",\"ticks\":\"\"}},\"ternary\":{\"bgcolor\":\"#E5ECF6\",\"aaxis\":{\"gridcolor\":\"white\",\"linecolor\":\"white\",\"ticks\":\"\"},\"baxis\":{\"gridcolor\":\"white\",\"linecolor\":\"white\",\"ticks\":\"\"},\"caxis\":{\"gridcolor\":\"white\",\"linecolor\":\"white\",\"ticks\":\"\"}},\"coloraxis\":{\"colorbar\":{\"outlinewidth\":0,\"ticks\":\"\"}},\"colorscale\":{\"sequential\":[[0.0,\"#0d0887\"],[0.1111111111111111,\"#46039f\"],[0.2222222222222222,\"#7201a8\"],[0.3333333333333333,\"#9c179e\"],[0.4444444444444444,\"#bd3786\"],[0.5555555555555556,\"#d8576b\"],[0.6666666666666666,\"#ed7953\"],[0.7777777777777778,\"#fb9f3a\"],[0.8888888888888888,\"#fdca26\"],[1.0,\"#f0f921\"]],\"sequentialminus\":[[0.0,\"#0d0887\"],[0.1111111111111111,\"#46039f\"],[0.2222222222222222,\"#7201a8\"],[0.3333333333333333,\"#9c179e\"],[0.4444444444444444,\"#bd3786\"],[0.5555555555555556,\"#d8576b\"],[0.6666666666666666,\"#ed7953\"],[0.7777777777777778,\"#fb9f3a\"],[0.8888888888888888,\"#fdca26\"],[1.0,\"#f0f921\"]],\"diverging\":[[0,\"#8e0152\"],[0.1,\"#c51b7d\"],[0.2,\"#de77ae\"],[0.3,\"#f1b6da\"],[0.4,\"#fde0ef\"],[0.5,\"#f7f7f7\"],[0.6,\"#e6f5d0\"],[0.7,\"#b8e186\"],[0.8,\"#7fbc41\"],[0.9,\"#4d9221\"],[1,\"#276419\"]]},\"xaxis\":{\"gridcolor\":\"white\",\"linecolor\":\"white\",\"ticks\":\"\",\"title\":{\"standoff\":15},\"zerolinecolor\":\"white\",\"automargin\":true,\"zerolinewidth\":2},\"yaxis\":{\"gridcolor\":\"white\",\"linecolor\":\"white\",\"ticks\":\"\",\"title\":{\"standoff\":15},\"zerolinecolor\":\"white\",\"automargin\":true,\"zerolinewidth\":2},\"scene\":{\"xaxis\":{\"backgroundcolor\":\"#E5ECF6\",\"gridcolor\":\"white\",\"linecolor\":\"white\",\"showbackground\":true,\"ticks\":\"\",\"zerolinecolor\":\"white\",\"gridwidth\":2},\"yaxis\":{\"backgroundcolor\":\"#E5ECF6\",\"gridcolor\":\"white\",\"linecolor\":\"white\",\"showbackground\":true,\"ticks\":\"\",\"zerolinecolor\":\"white\",\"gridwidth\":2},\"zaxis\":{\"backgroundcolor\":\"#E5ECF6\",\"gridcolor\":\"white\",\"linecolor\":\"white\",\"showbackground\":true,\"ticks\":\"\",\"zerolinecolor\":\"white\",\"gridwidth\":2}},\"shapedefaults\":{\"line\":{\"color\":\"#2a3f5f\"}},\"annotationdefaults\":{\"arrowcolor\":\"#2a3f5f\",\"arrowhead\":0,\"arrowwidth\":1},\"geo\":{\"bgcolor\":\"white\",\"landcolor\":\"#E5ECF6\",\"subunitcolor\":\"white\",\"showland\":true,\"showlakes\":true,\"lakecolor\":\"white\"},\"title\":{\"x\":0.05},\"mapbox\":{\"style\":\"light\"}}},\"scene\":{\"domain\":{\"x\":[0.0,1.0],\"y\":[0.0,1.0]},\"xaxis\":{\"title\":{\"text\":\"epsilon\"},\"type\":\"log\"},\"yaxis\":{\"title\":{\"text\":\"beta\"},\"type\":\"log\"},\"zaxis\":{\"title\":{\"text\":\"llc\\u002ffinal\"},\"type\":\"log\"}},\"coloraxis\":{\"colorbar\":{\"title\":{\"text\":\"llc\\u002fstd_over_mean\"}},\"colorscale\":[[0.0,\"#0d0887\"],[0.1111111111111111,\"#46039f\"],[0.2222222222222222,\"#7201a8\"],[0.3333333333333333,\"#9c179e\"],[0.4444444444444444,\"#bd3786\"],[0.5555555555555556,\"#d8576b\"],[0.6666666666666666,\"#ed7953\"],[0.7777777777777778,\"#fb9f3a\"],[0.8888888888888888,\"#fdca26\"],[1.0,\"#f0f921\"]],\"cmin\":0,\"cmax\":0.15},\"legend\":{\"tracegroupgap\":0},\"title\":{\"text\":\"Local learning coefficient vs. epsilon and beta\"}},                        {\"responsive\": true}                    ).then(function(){\n",
       "                            \n",
       "var gd = document.getElementById('78ff82e0-d2e5-47ec-bdf3-17840356d303');\n",
       "var x = new MutationObserver(function (mutations, observer) {{\n",
       "        var display = window.getComputedStyle(gd).display;\n",
       "        if (!display || display === 'none') {{\n",
       "            console.log([gd, 'removed!']);\n",
       "            Plotly.purge(gd);\n",
       "            observer.disconnect();\n",
       "        }}\n",
       "}});\n",
       "\n",
       "// Listen for the removal of the full notebook cells\n",
       "var notebookContainer = gd.closest('#notebook-container');\n",
       "if (notebookContainer) {{\n",
       "    x.observe(notebookContainer, {childList: true});\n",
       "}}\n",
       "\n",
       "// Listen for the clearing of the current output cell\n",
       "var outputEl = gd.closest('.output');\n",
       "if (outputEl) {{\n",
       "    x.observe(outputEl, {childList: true});\n",
       "}}\n",
       "\n",
       "                        })                };                });            </script>        </div>"
      ]
     },
     "metadata": {},
     "output_type": "display_data"
    }
   ],
   "source": [
    "import pandas as pd\n",
    "import plotly.express as px\n",
    "df = pd.DataFrame(all_sweep_stats)\n",
    "df[\"llc/std_over_mean\"] = df[\"llc/trace\"].apply(lambda x: x[:, -20:].std() / x[:, -20:].mean())\n",
    "df[\"llc/final\"] = df[\"llc/trace\"].apply(lambda x: x[:, -10].mean())\n",
    "px.scatter_3d(df, x=\"epsilon\", y=\"beta\", z=\"llc/final\", color=\"llc/std_over_mean\", log_y=True, log_x=True, log_z=True, \n",
    "              title=\"Local learning coefficient vs. epsilon and beta\",\n",
    "              # Set max for color\n",
    "              range_color=[0, 0.15])"
   ]
  },
  {
   "cell_type": "code",
   "execution_count": 108,
   "metadata": {},
   "outputs": [],
   "source": [
    "fig.write_html(\"epsilon_beta_sweep.html\")"
   ]
  },
  {
   "cell_type": "code",
   "execution_count": null,
   "metadata": {},
   "outputs": [],
   "source": [
    "import seaborn as sns\n",
    "for chain in df.iloc[-4][\"llc/trace\"]:\n",
    "    sns.lineplot(data=chain)\n",
    "print(df.iloc[-4][\"llc/std_over_mean\"])"
   ]
  },
  {
   "cell_type": "code",
   "execution_count": 103,
   "metadata": {},
   "outputs": [
    {
     "data": {
      "application/vnd.plotly.v1+json": {
       "config": {
        "plotlyServerURL": "https://plot.ly"
       },
       "data": [
        {
         "hovertemplate": "epsilon=%{x}<br>beta=%{y}<br>llc/final=%{z}<br>llc/std_over_mean=%{marker.color}<extra></extra>",
         "legendgroup": "",
         "marker": {
          "color": [
           0.054881688207387924,
           0.050179678946733475,
           0.07091831415891647,
           0.0776880756020546,
           0.07190818339586258,
           0.09749459475278854,
           0.08571673184633255,
           0.1277306079864502,
           0.14112934470176697,
           0.2548750340938568,
           0.04608745500445366,
           0.04963638260960579,
           0.07982590049505234,
           0.044867612421512604,
           0.05671454593539238,
           0.048656899482011795,
           0.06575687229633331,
           0.08235814422369003,
           0.14211341738700867,
           0.21739733219146729,
           0.03433435782790184,
           0.04071060195565224,
           0.05091514438390732,
           0.03847510740160942,
           0.06803948432207108,
           0.04435490816831589,
           0.07046177238225937,
           0.11108148097991943,
           0.1299704611301422,
           0.2240104079246521,
           0.04712636023759842,
           0.05875706672668457,
           0.03975320979952812,
           0.03650178760290146,
           0.03736091032624245,
           0.05092896521091461,
           0.06609319895505905,
           0.10707905143499374,
           0.16313281655311584,
           0.2638486623764038,
           0.051077160984277725,
           0.04737159609794617,
           0.028858104720711708,
           0.03277937322854996,
           0.037122942507267,
           0.072364442050457,
           0.06617745012044907,
           0.10268721729516983,
           0.1829918771982193,
           0.3361748456954956,
           0.04846847802400589,
           0.04359178617596626,
           0.035463228821754456,
           0.04155997559428215,
           0.03640277311205864,
           0.04935554787516594,
           0.06957530975341797,
           0.11781236529350281,
           0.6242592930793762,
           1.3134673833847046,
           0.04501356929540634,
           0.04573692008852959,
           0.04187577962875366,
           0.033554807305336,
           0.04083694890141487,
           0.0592823326587677,
           0.11108050495386124,
           0.27721384167671204,
           0.4452156722545624,
           0.5108568072319031,
           0.04354579746723175,
           0.04718359187245369,
           0.04402308538556099,
           0.04142817482352257,
           0.047513123601675034,
           0.06654846668243408,
           0.22119571268558502,
           0.27485501766204834,
           0.43266868591308594,
           0.31761524081230164,
           0.06266162544488907,
           0.0486740916967392,
           0.04642532393336296,
           0.044484566897153854,
           0.06635534018278122,
           0.13162264227867126,
           0.1948520541191101,
           0.2929825782775879,
           0.2728346288204193,
           0.4356570541858673,
           0.08224457502365112,
           0.066043421626091,
           0.07616487890481949,
           0.07180812209844589,
           0.12034211307764053,
           0.1258266568183899,
           0.1975657045841217,
           0.3796183168888092,
           6.51001501083374,
           null
          ],
          "coloraxis": "coloraxis",
          "symbol": "circle"
         },
         "mode": "markers",
         "name": "",
         "scene": "scene",
         "showlegend": false,
         "type": "scatter3d",
         "x": [
          0.00001,
          0.00001,
          0.00001,
          0.00001,
          0.00001,
          0.00001,
          0.00001,
          0.00001,
          0.00001,
          0.00001,
          0.000021544346900318823,
          0.000021544346900318823,
          0.000021544346900318823,
          0.000021544346900318823,
          0.000021544346900318823,
          0.000021544346900318823,
          0.000021544346900318823,
          0.000021544346900318823,
          0.000021544346900318823,
          0.000021544346900318823,
          0.00004641588833612782,
          0.00004641588833612782,
          0.00004641588833612782,
          0.00004641588833612782,
          0.00004641588833612782,
          0.00004641588833612782,
          0.00004641588833612782,
          0.00004641588833612782,
          0.00004641588833612782,
          0.00004641588833612782,
          0.0001,
          0.0001,
          0.0001,
          0.0001,
          0.0001,
          0.0001,
          0.0001,
          0.0001,
          0.0001,
          0.0001,
          0.00021544346900318823,
          0.00021544346900318823,
          0.00021544346900318823,
          0.00021544346900318823,
          0.00021544346900318823,
          0.00021544346900318823,
          0.00021544346900318823,
          0.00021544346900318823,
          0.00021544346900318823,
          0.00021544346900318823,
          0.00046415888336127773,
          0.00046415888336127773,
          0.00046415888336127773,
          0.00046415888336127773,
          0.00046415888336127773,
          0.00046415888336127773,
          0.00046415888336127773,
          0.00046415888336127773,
          0.00046415888336127773,
          0.00046415888336127773,
          0.001,
          0.001,
          0.001,
          0.001,
          0.001,
          0.001,
          0.001,
          0.001,
          0.001,
          0.001,
          0.002154434690031882,
          0.002154434690031882,
          0.002154434690031882,
          0.002154434690031882,
          0.002154434690031882,
          0.002154434690031882,
          0.002154434690031882,
          0.002154434690031882,
          0.002154434690031882,
          0.002154434690031882,
          0.004641588833612777,
          0.004641588833612777,
          0.004641588833612777,
          0.004641588833612777,
          0.004641588833612777,
          0.004641588833612777,
          0.004641588833612777,
          0.004641588833612777,
          0.004641588833612777,
          0.004641588833612777,
          0.01,
          0.01,
          0.01,
          0.01,
          0.01,
          0.01,
          0.01,
          0.01,
          0.01,
          0.01
         ],
         "y": [
          4.616624130844683,
          9.946215178330077,
          21.428471014715978,
          46.16624130844683,
          99.46215178330077,
          214.28471014715973,
          461.6624130844683,
          994.6215178330071,
          2142.8471014715974,
          4616.624130844682,
          4.616624130844683,
          9.946215178330077,
          21.428471014715978,
          46.16624130844683,
          99.46215178330077,
          214.28471014715973,
          461.6624130844683,
          994.6215178330071,
          2142.8471014715974,
          4616.624130844682,
          4.616624130844683,
          9.946215178330077,
          21.428471014715978,
          46.16624130844683,
          99.46215178330077,
          214.28471014715973,
          461.6624130844683,
          994.6215178330071,
          2142.8471014715974,
          4616.624130844682,
          4.616624130844683,
          9.946215178330077,
          21.428471014715978,
          46.16624130844683,
          99.46215178330077,
          214.28471014715973,
          461.6624130844683,
          994.6215178330071,
          2142.8471014715974,
          4616.624130844682,
          4.616624130844683,
          9.946215178330077,
          21.428471014715978,
          46.16624130844683,
          99.46215178330077,
          214.28471014715973,
          461.6624130844683,
          994.6215178330071,
          2142.8471014715974,
          4616.624130844682,
          4.616624130844683,
          9.946215178330077,
          21.428471014715978,
          46.16624130844683,
          99.46215178330077,
          214.28471014715973,
          461.6624130844683,
          994.6215178330071,
          2142.8471014715974,
          4616.624130844682,
          4.616624130844683,
          9.946215178330077,
          21.428471014715978,
          46.16624130844683,
          99.46215178330077,
          214.28471014715973,
          461.6624130844683,
          994.6215178330071,
          2142.8471014715974,
          4616.624130844682,
          4.616624130844683,
          9.946215178330077,
          21.428471014715978,
          46.16624130844683,
          99.46215178330077,
          214.28471014715973,
          461.6624130844683,
          994.6215178330071,
          2142.8471014715974,
          4616.624130844682,
          4.616624130844683,
          9.946215178330077,
          21.428471014715978,
          46.16624130844683,
          99.46215178330077,
          214.28471014715973,
          461.6624130844683,
          994.6215178330071,
          2142.8471014715974,
          4616.624130844682,
          4.616624130844683,
          9.946215178330077,
          21.428471014715978,
          46.16624130844683,
          99.46215178330077,
          214.28471014715973,
          461.6624130844683,
          994.6215178330071,
          2142.8471014715974,
          4616.624130844682
         ],
         "z": [
          8.55313777923584,
          17.447303771972656,
          33.384178161621094,
          65.2378921508789,
          100.37677001953125,
          149.1809844970703,
          230.2733154296875,
          291.5971984863281,
          511.7359924316406,
          463.63641357421875,
          10.05355453491211,
          21.773075103759766,
          44.19401168823242,
          83.85618591308594,
          147.14013671875,
          218.53042602539062,
          291.3390197753906,
          362.30291748046875,
          466.4078063964844,
          570.6929931640625,
          10.46407699584961,
          22.8216552734375,
          49.39672088623047,
          92.20359802246094,
          171.88058471679688,
          257.8091735839844,
          331.236328125,
          377.0098571777344,
          577.2578125,
          579.517578125,
          12.02102279663086,
          25.212970733642578,
          49.84630584716797,
          97.06907653808594,
          185.51876831054688,
          282.54803466796875,
          314.981201171875,
          373.88446044921875,
          437.165283203125,
          611.4690551757812,
          11.878833770751953,
          24.543813705444336,
          48.588558197021484,
          101.9100570678711,
          189.11398315429688,
          269.47119140625,
          316.11468505859375,
          382.3121643066406,
          491.71112060546875,
          754.35888671875,
          11.392659187316895,
          24.60519790649414,
          50.16405487060547,
          99.86771392822266,
          189.93362426757812,
          282.1159973144531,
          339.41510009765625,
          427.74542236328125,
          617.5933837890625,
          3035.67138671875,
          11.245369911193848,
          24.219654083251953,
          50.550750732421875,
          98.49534606933594,
          191.4981231689453,
          324.3989562988281,
          398.76568603515625,
          945.3076171875,
          2362.273193359375,
          5782.87109375,
          11.734639167785645,
          25.086030960083008,
          52.023529052734375,
          106.80570983886719,
          201.91732788085938,
          365.8605651855469,
          945.8264770507812,
          1909.4417724609375,
          4932.0537109375,
          12425.103515625,
          11.59655475616455,
          25.002761840820312,
          53.9260368347168,
          110.1257553100586,
          241.0710906982422,
          749.9067993164062,
          2064.68505859375,
          3121.7578125,
          5911.44677734375,
          17064.775390625,
          11.649160385131836,
          25.551137924194336,
          55.5552864074707,
          127.0714340209961,
          423.45849609375,
          1217.348876953125,
          2703.933837890625,
          5609.75390625,
          34671844,
          null
         ]
        }
       ],
       "layout": {
        "coloraxis": {
         "cmax": 0.15,
         "cmin": 0,
         "colorbar": {
          "title": {
           "text": "llc/std_over_mean"
          }
         },
         "colorscale": [
          [
           0,
           "#0d0887"
          ],
          [
           0.1111111111111111,
           "#46039f"
          ],
          [
           0.2222222222222222,
           "#7201a8"
          ],
          [
           0.3333333333333333,
           "#9c179e"
          ],
          [
           0.4444444444444444,
           "#bd3786"
          ],
          [
           0.5555555555555556,
           "#d8576b"
          ],
          [
           0.6666666666666666,
           "#ed7953"
          ],
          [
           0.7777777777777778,
           "#fb9f3a"
          ],
          [
           0.8888888888888888,
           "#fdca26"
          ],
          [
           1,
           "#f0f921"
          ]
         ]
        },
        "legend": {
         "tracegroupgap": 0
        },
        "scene": {
         "domain": {
          "x": [
           0,
           1
          ],
          "y": [
           0,
           1
          ]
         },
         "xaxis": {
          "title": {
           "text": "epsilon"
          },
          "type": "log"
         },
         "yaxis": {
          "title": {
           "text": "beta"
          },
          "type": "log"
         },
         "zaxis": {
          "title": {
           "text": "llc/final"
          },
          "type": "log"
         }
        },
        "template": {
         "data": {
          "bar": [
           {
            "error_x": {
             "color": "#2a3f5f"
            },
            "error_y": {
             "color": "#2a3f5f"
            },
            "marker": {
             "line": {
              "color": "#E5ECF6",
              "width": 0.5
             },
             "pattern": {
              "fillmode": "overlay",
              "size": 10,
              "solidity": 0.2
             }
            },
            "type": "bar"
           }
          ],
          "barpolar": [
           {
            "marker": {
             "line": {
              "color": "#E5ECF6",
              "width": 0.5
             },
             "pattern": {
              "fillmode": "overlay",
              "size": 10,
              "solidity": 0.2
             }
            },
            "type": "barpolar"
           }
          ],
          "carpet": [
           {
            "aaxis": {
             "endlinecolor": "#2a3f5f",
             "gridcolor": "white",
             "linecolor": "white",
             "minorgridcolor": "white",
             "startlinecolor": "#2a3f5f"
            },
            "baxis": {
             "endlinecolor": "#2a3f5f",
             "gridcolor": "white",
             "linecolor": "white",
             "minorgridcolor": "white",
             "startlinecolor": "#2a3f5f"
            },
            "type": "carpet"
           }
          ],
          "choropleth": [
           {
            "colorbar": {
             "outlinewidth": 0,
             "ticks": ""
            },
            "type": "choropleth"
           }
          ],
          "contour": [
           {
            "colorbar": {
             "outlinewidth": 0,
             "ticks": ""
            },
            "colorscale": [
             [
              0,
              "#0d0887"
             ],
             [
              0.1111111111111111,
              "#46039f"
             ],
             [
              0.2222222222222222,
              "#7201a8"
             ],
             [
              0.3333333333333333,
              "#9c179e"
             ],
             [
              0.4444444444444444,
              "#bd3786"
             ],
             [
              0.5555555555555556,
              "#d8576b"
             ],
             [
              0.6666666666666666,
              "#ed7953"
             ],
             [
              0.7777777777777778,
              "#fb9f3a"
             ],
             [
              0.8888888888888888,
              "#fdca26"
             ],
             [
              1,
              "#f0f921"
             ]
            ],
            "type": "contour"
           }
          ],
          "contourcarpet": [
           {
            "colorbar": {
             "outlinewidth": 0,
             "ticks": ""
            },
            "type": "contourcarpet"
           }
          ],
          "heatmap": [
           {
            "colorbar": {
             "outlinewidth": 0,
             "ticks": ""
            },
            "colorscale": [
             [
              0,
              "#0d0887"
             ],
             [
              0.1111111111111111,
              "#46039f"
             ],
             [
              0.2222222222222222,
              "#7201a8"
             ],
             [
              0.3333333333333333,
              "#9c179e"
             ],
             [
              0.4444444444444444,
              "#bd3786"
             ],
             [
              0.5555555555555556,
              "#d8576b"
             ],
             [
              0.6666666666666666,
              "#ed7953"
             ],
             [
              0.7777777777777778,
              "#fb9f3a"
             ],
             [
              0.8888888888888888,
              "#fdca26"
             ],
             [
              1,
              "#f0f921"
             ]
            ],
            "type": "heatmap"
           }
          ],
          "heatmapgl": [
           {
            "colorbar": {
             "outlinewidth": 0,
             "ticks": ""
            },
            "colorscale": [
             [
              0,
              "#0d0887"
             ],
             [
              0.1111111111111111,
              "#46039f"
             ],
             [
              0.2222222222222222,
              "#7201a8"
             ],
             [
              0.3333333333333333,
              "#9c179e"
             ],
             [
              0.4444444444444444,
              "#bd3786"
             ],
             [
              0.5555555555555556,
              "#d8576b"
             ],
             [
              0.6666666666666666,
              "#ed7953"
             ],
             [
              0.7777777777777778,
              "#fb9f3a"
             ],
             [
              0.8888888888888888,
              "#fdca26"
             ],
             [
              1,
              "#f0f921"
             ]
            ],
            "type": "heatmapgl"
           }
          ],
          "histogram": [
           {
            "marker": {
             "pattern": {
              "fillmode": "overlay",
              "size": 10,
              "solidity": 0.2
             }
            },
            "type": "histogram"
           }
          ],
          "histogram2d": [
           {
            "colorbar": {
             "outlinewidth": 0,
             "ticks": ""
            },
            "colorscale": [
             [
              0,
              "#0d0887"
             ],
             [
              0.1111111111111111,
              "#46039f"
             ],
             [
              0.2222222222222222,
              "#7201a8"
             ],
             [
              0.3333333333333333,
              "#9c179e"
             ],
             [
              0.4444444444444444,
              "#bd3786"
             ],
             [
              0.5555555555555556,
              "#d8576b"
             ],
             [
              0.6666666666666666,
              "#ed7953"
             ],
             [
              0.7777777777777778,
              "#fb9f3a"
             ],
             [
              0.8888888888888888,
              "#fdca26"
             ],
             [
              1,
              "#f0f921"
             ]
            ],
            "type": "histogram2d"
           }
          ],
          "histogram2dcontour": [
           {
            "colorbar": {
             "outlinewidth": 0,
             "ticks": ""
            },
            "colorscale": [
             [
              0,
              "#0d0887"
             ],
             [
              0.1111111111111111,
              "#46039f"
             ],
             [
              0.2222222222222222,
              "#7201a8"
             ],
             [
              0.3333333333333333,
              "#9c179e"
             ],
             [
              0.4444444444444444,
              "#bd3786"
             ],
             [
              0.5555555555555556,
              "#d8576b"
             ],
             [
              0.6666666666666666,
              "#ed7953"
             ],
             [
              0.7777777777777778,
              "#fb9f3a"
             ],
             [
              0.8888888888888888,
              "#fdca26"
             ],
             [
              1,
              "#f0f921"
             ]
            ],
            "type": "histogram2dcontour"
           }
          ],
          "mesh3d": [
           {
            "colorbar": {
             "outlinewidth": 0,
             "ticks": ""
            },
            "type": "mesh3d"
           }
          ],
          "parcoords": [
           {
            "line": {
             "colorbar": {
              "outlinewidth": 0,
              "ticks": ""
             }
            },
            "type": "parcoords"
           }
          ],
          "pie": [
           {
            "automargin": true,
            "type": "pie"
           }
          ],
          "scatter": [
           {
            "fillpattern": {
             "fillmode": "overlay",
             "size": 10,
             "solidity": 0.2
            },
            "type": "scatter"
           }
          ],
          "scatter3d": [
           {
            "line": {
             "colorbar": {
              "outlinewidth": 0,
              "ticks": ""
             }
            },
            "marker": {
             "colorbar": {
              "outlinewidth": 0,
              "ticks": ""
             }
            },
            "type": "scatter3d"
           }
          ],
          "scattercarpet": [
           {
            "marker": {
             "colorbar": {
              "outlinewidth": 0,
              "ticks": ""
             }
            },
            "type": "scattercarpet"
           }
          ],
          "scattergeo": [
           {
            "marker": {
             "colorbar": {
              "outlinewidth": 0,
              "ticks": ""
             }
            },
            "type": "scattergeo"
           }
          ],
          "scattergl": [
           {
            "marker": {
             "colorbar": {
              "outlinewidth": 0,
              "ticks": ""
             }
            },
            "type": "scattergl"
           }
          ],
          "scattermapbox": [
           {
            "marker": {
             "colorbar": {
              "outlinewidth": 0,
              "ticks": ""
             }
            },
            "type": "scattermapbox"
           }
          ],
          "scatterpolar": [
           {
            "marker": {
             "colorbar": {
              "outlinewidth": 0,
              "ticks": ""
             }
            },
            "type": "scatterpolar"
           }
          ],
          "scatterpolargl": [
           {
            "marker": {
             "colorbar": {
              "outlinewidth": 0,
              "ticks": ""
             }
            },
            "type": "scatterpolargl"
           }
          ],
          "scatterternary": [
           {
            "marker": {
             "colorbar": {
              "outlinewidth": 0,
              "ticks": ""
             }
            },
            "type": "scatterternary"
           }
          ],
          "surface": [
           {
            "colorbar": {
             "outlinewidth": 0,
             "ticks": ""
            },
            "colorscale": [
             [
              0,
              "#0d0887"
             ],
             [
              0.1111111111111111,
              "#46039f"
             ],
             [
              0.2222222222222222,
              "#7201a8"
             ],
             [
              0.3333333333333333,
              "#9c179e"
             ],
             [
              0.4444444444444444,
              "#bd3786"
             ],
             [
              0.5555555555555556,
              "#d8576b"
             ],
             [
              0.6666666666666666,
              "#ed7953"
             ],
             [
              0.7777777777777778,
              "#fb9f3a"
             ],
             [
              0.8888888888888888,
              "#fdca26"
             ],
             [
              1,
              "#f0f921"
             ]
            ],
            "type": "surface"
           }
          ],
          "table": [
           {
            "cells": {
             "fill": {
              "color": "#EBF0F8"
             },
             "line": {
              "color": "white"
             }
            },
            "header": {
             "fill": {
              "color": "#C8D4E3"
             },
             "line": {
              "color": "white"
             }
            },
            "type": "table"
           }
          ]
         },
         "layout": {
          "annotationdefaults": {
           "arrowcolor": "#2a3f5f",
           "arrowhead": 0,
           "arrowwidth": 1
          },
          "autotypenumbers": "strict",
          "coloraxis": {
           "colorbar": {
            "outlinewidth": 0,
            "ticks": ""
           }
          },
          "colorscale": {
           "diverging": [
            [
             0,
             "#8e0152"
            ],
            [
             0.1,
             "#c51b7d"
            ],
            [
             0.2,
             "#de77ae"
            ],
            [
             0.3,
             "#f1b6da"
            ],
            [
             0.4,
             "#fde0ef"
            ],
            [
             0.5,
             "#f7f7f7"
            ],
            [
             0.6,
             "#e6f5d0"
            ],
            [
             0.7,
             "#b8e186"
            ],
            [
             0.8,
             "#7fbc41"
            ],
            [
             0.9,
             "#4d9221"
            ],
            [
             1,
             "#276419"
            ]
           ],
           "sequential": [
            [
             0,
             "#0d0887"
            ],
            [
             0.1111111111111111,
             "#46039f"
            ],
            [
             0.2222222222222222,
             "#7201a8"
            ],
            [
             0.3333333333333333,
             "#9c179e"
            ],
            [
             0.4444444444444444,
             "#bd3786"
            ],
            [
             0.5555555555555556,
             "#d8576b"
            ],
            [
             0.6666666666666666,
             "#ed7953"
            ],
            [
             0.7777777777777778,
             "#fb9f3a"
            ],
            [
             0.8888888888888888,
             "#fdca26"
            ],
            [
             1,
             "#f0f921"
            ]
           ],
           "sequentialminus": [
            [
             0,
             "#0d0887"
            ],
            [
             0.1111111111111111,
             "#46039f"
            ],
            [
             0.2222222222222222,
             "#7201a8"
            ],
            [
             0.3333333333333333,
             "#9c179e"
            ],
            [
             0.4444444444444444,
             "#bd3786"
            ],
            [
             0.5555555555555556,
             "#d8576b"
            ],
            [
             0.6666666666666666,
             "#ed7953"
            ],
            [
             0.7777777777777778,
             "#fb9f3a"
            ],
            [
             0.8888888888888888,
             "#fdca26"
            ],
            [
             1,
             "#f0f921"
            ]
           ]
          },
          "colorway": [
           "#636efa",
           "#EF553B",
           "#00cc96",
           "#ab63fa",
           "#FFA15A",
           "#19d3f3",
           "#FF6692",
           "#B6E880",
           "#FF97FF",
           "#FECB52"
          ],
          "font": {
           "color": "#2a3f5f"
          },
          "geo": {
           "bgcolor": "white",
           "lakecolor": "white",
           "landcolor": "#E5ECF6",
           "showlakes": true,
           "showland": true,
           "subunitcolor": "white"
          },
          "hoverlabel": {
           "align": "left"
          },
          "hovermode": "closest",
          "mapbox": {
           "style": "light"
          },
          "paper_bgcolor": "white",
          "plot_bgcolor": "#E5ECF6",
          "polar": {
           "angularaxis": {
            "gridcolor": "white",
            "linecolor": "white",
            "ticks": ""
           },
           "bgcolor": "#E5ECF6",
           "radialaxis": {
            "gridcolor": "white",
            "linecolor": "white",
            "ticks": ""
           }
          },
          "scene": {
           "xaxis": {
            "backgroundcolor": "#E5ECF6",
            "gridcolor": "white",
            "gridwidth": 2,
            "linecolor": "white",
            "showbackground": true,
            "ticks": "",
            "zerolinecolor": "white"
           },
           "yaxis": {
            "backgroundcolor": "#E5ECF6",
            "gridcolor": "white",
            "gridwidth": 2,
            "linecolor": "white",
            "showbackground": true,
            "ticks": "",
            "zerolinecolor": "white"
           },
           "zaxis": {
            "backgroundcolor": "#E5ECF6",
            "gridcolor": "white",
            "gridwidth": 2,
            "linecolor": "white",
            "showbackground": true,
            "ticks": "",
            "zerolinecolor": "white"
           }
          },
          "shapedefaults": {
           "line": {
            "color": "#2a3f5f"
           }
          },
          "ternary": {
           "aaxis": {
            "gridcolor": "white",
            "linecolor": "white",
            "ticks": ""
           },
           "baxis": {
            "gridcolor": "white",
            "linecolor": "white",
            "ticks": ""
           },
           "bgcolor": "#E5ECF6",
           "caxis": {
            "gridcolor": "white",
            "linecolor": "white",
            "ticks": ""
           }
          },
          "title": {
           "x": 0.05
          },
          "xaxis": {
           "automargin": true,
           "gridcolor": "white",
           "linecolor": "white",
           "ticks": "",
           "title": {
            "standoff": 15
           },
           "zerolinecolor": "white",
           "zerolinewidth": 2
          },
          "yaxis": {
           "automargin": true,
           "gridcolor": "white",
           "linecolor": "white",
           "ticks": "",
           "title": {
            "standoff": 15
           },
           "zerolinecolor": "white",
           "zerolinewidth": 2
          }
         }
        },
        "title": {
         "text": "Local learning coefficient vs. epsilon and beta"
        }
       }
      },
      "text/html": [
       "<div>                            <div id=\"daed9f68-7f82-4d03-8e3c-8fbbd35260c6\" class=\"plotly-graph-div\" style=\"height:525px; width:100%;\"></div>            <script type=\"text/javascript\">                require([\"plotly\"], function(Plotly) {                    window.PLOTLYENV=window.PLOTLYENV || {};                                    if (document.getElementById(\"daed9f68-7f82-4d03-8e3c-8fbbd35260c6\")) {                    Plotly.newPlot(                        \"daed9f68-7f82-4d03-8e3c-8fbbd35260c6\",                        [{\"hovertemplate\":\"epsilon=%{x}\\u003cbr\\u003ebeta=%{y}\\u003cbr\\u003ellc\\u002ffinal=%{z}\\u003cbr\\u003ellc\\u002fstd_over_mean=%{marker.color}\\u003cextra\\u003e\\u003c\\u002fextra\\u003e\",\"legendgroup\":\"\",\"marker\":{\"color\":[0.054881688207387924,0.050179678946733475,0.07091831415891647,0.0776880756020546,0.07190818339586258,0.09749459475278854,0.08571673184633255,0.1277306079864502,0.14112934470176697,0.2548750340938568,0.04608745500445366,0.04963638260960579,0.07982590049505234,0.044867612421512604,0.05671454593539238,0.048656899482011795,0.06575687229633331,0.08235814422369003,0.14211341738700867,0.21739733219146729,0.03433435782790184,0.04071060195565224,0.05091514438390732,0.03847510740160942,0.06803948432207108,0.04435490816831589,0.07046177238225937,0.11108148097991943,0.1299704611301422,0.2240104079246521,0.04712636023759842,0.05875706672668457,0.03975320979952812,0.03650178760290146,0.03736091032624245,0.05092896521091461,0.06609319895505905,0.10707905143499374,0.16313281655311584,0.2638486623764038,0.051077160984277725,0.04737159609794617,0.028858104720711708,0.03277937322854996,0.037122942507267,0.072364442050457,0.06617745012044907,0.10268721729516983,0.1829918771982193,0.3361748456954956,0.04846847802400589,0.04359178617596626,0.035463228821754456,0.04155997559428215,0.03640277311205864,0.04935554787516594,0.06957530975341797,0.11781236529350281,0.6242592930793762,1.3134673833847046,0.04501356929540634,0.04573692008852959,0.04187577962875366,0.033554807305336,0.04083694890141487,0.0592823326587677,0.11108050495386124,0.27721384167671204,0.4452156722545624,0.5108568072319031,0.04354579746723175,0.04718359187245369,0.04402308538556099,0.04142817482352257,0.047513123601675034,0.06654846668243408,0.22119571268558502,0.27485501766204834,0.43266868591308594,0.31761524081230164,0.06266162544488907,0.0486740916967392,0.04642532393336296,0.044484566897153854,0.06635534018278122,0.13162264227867126,0.1948520541191101,0.2929825782775879,0.2728346288204193,0.4356570541858673,0.08224457502365112,0.066043421626091,0.07616487890481949,0.07180812209844589,0.12034211307764053,0.1258266568183899,0.1975657045841217,0.3796183168888092,6.51001501083374,null],\"coloraxis\":\"coloraxis\",\"symbol\":\"circle\"},\"mode\":\"markers\",\"name\":\"\",\"scene\":\"scene\",\"showlegend\":false,\"x\":[1e-05,1e-05,1e-05,1e-05,1e-05,1e-05,1e-05,1e-05,1e-05,1e-05,2.1544346900318823e-05,2.1544346900318823e-05,2.1544346900318823e-05,2.1544346900318823e-05,2.1544346900318823e-05,2.1544346900318823e-05,2.1544346900318823e-05,2.1544346900318823e-05,2.1544346900318823e-05,2.1544346900318823e-05,4.641588833612782e-05,4.641588833612782e-05,4.641588833612782e-05,4.641588833612782e-05,4.641588833612782e-05,4.641588833612782e-05,4.641588833612782e-05,4.641588833612782e-05,4.641588833612782e-05,4.641588833612782e-05,0.0001,0.0001,0.0001,0.0001,0.0001,0.0001,0.0001,0.0001,0.0001,0.0001,0.00021544346900318823,0.00021544346900318823,0.00021544346900318823,0.00021544346900318823,0.00021544346900318823,0.00021544346900318823,0.00021544346900318823,0.00021544346900318823,0.00021544346900318823,0.00021544346900318823,0.00046415888336127773,0.00046415888336127773,0.00046415888336127773,0.00046415888336127773,0.00046415888336127773,0.00046415888336127773,0.00046415888336127773,0.00046415888336127773,0.00046415888336127773,0.00046415888336127773,0.001,0.001,0.001,0.001,0.001,0.001,0.001,0.001,0.001,0.001,0.002154434690031882,0.002154434690031882,0.002154434690031882,0.002154434690031882,0.002154434690031882,0.002154434690031882,0.002154434690031882,0.002154434690031882,0.002154434690031882,0.002154434690031882,0.004641588833612777,0.004641588833612777,0.004641588833612777,0.004641588833612777,0.004641588833612777,0.004641588833612777,0.004641588833612777,0.004641588833612777,0.004641588833612777,0.004641588833612777,0.01,0.01,0.01,0.01,0.01,0.01,0.01,0.01,0.01,0.01],\"y\":[4.616624130844683,9.946215178330077,21.428471014715978,46.16624130844683,99.46215178330077,214.28471014715973,461.6624130844683,994.6215178330071,2142.8471014715974,4616.624130844682,4.616624130844683,9.946215178330077,21.428471014715978,46.16624130844683,99.46215178330077,214.28471014715973,461.6624130844683,994.6215178330071,2142.8471014715974,4616.624130844682,4.616624130844683,9.946215178330077,21.428471014715978,46.16624130844683,99.46215178330077,214.28471014715973,461.6624130844683,994.6215178330071,2142.8471014715974,4616.624130844682,4.616624130844683,9.946215178330077,21.428471014715978,46.16624130844683,99.46215178330077,214.28471014715973,461.6624130844683,994.6215178330071,2142.8471014715974,4616.624130844682,4.616624130844683,9.946215178330077,21.428471014715978,46.16624130844683,99.46215178330077,214.28471014715973,461.6624130844683,994.6215178330071,2142.8471014715974,4616.624130844682,4.616624130844683,9.946215178330077,21.428471014715978,46.16624130844683,99.46215178330077,214.28471014715973,461.6624130844683,994.6215178330071,2142.8471014715974,4616.624130844682,4.616624130844683,9.946215178330077,21.428471014715978,46.16624130844683,99.46215178330077,214.28471014715973,461.6624130844683,994.6215178330071,2142.8471014715974,4616.624130844682,4.616624130844683,9.946215178330077,21.428471014715978,46.16624130844683,99.46215178330077,214.28471014715973,461.6624130844683,994.6215178330071,2142.8471014715974,4616.624130844682,4.616624130844683,9.946215178330077,21.428471014715978,46.16624130844683,99.46215178330077,214.28471014715973,461.6624130844683,994.6215178330071,2142.8471014715974,4616.624130844682,4.616624130844683,9.946215178330077,21.428471014715978,46.16624130844683,99.46215178330077,214.28471014715973,461.6624130844683,994.6215178330071,2142.8471014715974,4616.624130844682],\"z\":[8.55313777923584,17.447303771972656,33.384178161621094,65.2378921508789,100.37677001953125,149.1809844970703,230.2733154296875,291.5971984863281,511.7359924316406,463.63641357421875,10.05355453491211,21.773075103759766,44.19401168823242,83.85618591308594,147.14013671875,218.53042602539062,291.3390197753906,362.30291748046875,466.4078063964844,570.6929931640625,10.46407699584961,22.8216552734375,49.39672088623047,92.20359802246094,171.88058471679688,257.8091735839844,331.236328125,377.0098571777344,577.2578125,579.517578125,12.02102279663086,25.212970733642578,49.84630584716797,97.06907653808594,185.51876831054688,282.54803466796875,314.981201171875,373.88446044921875,437.165283203125,611.4690551757812,11.878833770751953,24.543813705444336,48.588558197021484,101.9100570678711,189.11398315429688,269.47119140625,316.11468505859375,382.3121643066406,491.71112060546875,754.35888671875,11.392659187316895,24.60519790649414,50.16405487060547,99.86771392822266,189.93362426757812,282.1159973144531,339.41510009765625,427.74542236328125,617.5933837890625,3035.67138671875,11.245369911193848,24.219654083251953,50.550750732421875,98.49534606933594,191.4981231689453,324.3989562988281,398.76568603515625,945.3076171875,2362.273193359375,5782.87109375,11.734639167785645,25.086030960083008,52.023529052734375,106.80570983886719,201.91732788085938,365.8605651855469,945.8264770507812,1909.4417724609375,4932.0537109375,12425.103515625,11.59655475616455,25.002761840820312,53.9260368347168,110.1257553100586,241.0710906982422,749.9067993164062,2064.68505859375,3121.7578125,5911.44677734375,17064.775390625,11.649160385131836,25.551137924194336,55.5552864074707,127.0714340209961,423.45849609375,1217.348876953125,2703.933837890625,5609.75390625,34671844.0,null],\"type\":\"scatter3d\"}],                        {\"template\":{\"data\":{\"histogram2dcontour\":[{\"type\":\"histogram2dcontour\",\"colorbar\":{\"outlinewidth\":0,\"ticks\":\"\"},\"colorscale\":[[0.0,\"#0d0887\"],[0.1111111111111111,\"#46039f\"],[0.2222222222222222,\"#7201a8\"],[0.3333333333333333,\"#9c179e\"],[0.4444444444444444,\"#bd3786\"],[0.5555555555555556,\"#d8576b\"],[0.6666666666666666,\"#ed7953\"],[0.7777777777777778,\"#fb9f3a\"],[0.8888888888888888,\"#fdca26\"],[1.0,\"#f0f921\"]]}],\"choropleth\":[{\"type\":\"choropleth\",\"colorbar\":{\"outlinewidth\":0,\"ticks\":\"\"}}],\"histogram2d\":[{\"type\":\"histogram2d\",\"colorbar\":{\"outlinewidth\":0,\"ticks\":\"\"},\"colorscale\":[[0.0,\"#0d0887\"],[0.1111111111111111,\"#46039f\"],[0.2222222222222222,\"#7201a8\"],[0.3333333333333333,\"#9c179e\"],[0.4444444444444444,\"#bd3786\"],[0.5555555555555556,\"#d8576b\"],[0.6666666666666666,\"#ed7953\"],[0.7777777777777778,\"#fb9f3a\"],[0.8888888888888888,\"#fdca26\"],[1.0,\"#f0f921\"]]}],\"heatmap\":[{\"type\":\"heatmap\",\"colorbar\":{\"outlinewidth\":0,\"ticks\":\"\"},\"colorscale\":[[0.0,\"#0d0887\"],[0.1111111111111111,\"#46039f\"],[0.2222222222222222,\"#7201a8\"],[0.3333333333333333,\"#9c179e\"],[0.4444444444444444,\"#bd3786\"],[0.5555555555555556,\"#d8576b\"],[0.6666666666666666,\"#ed7953\"],[0.7777777777777778,\"#fb9f3a\"],[0.8888888888888888,\"#fdca26\"],[1.0,\"#f0f921\"]]}],\"heatmapgl\":[{\"type\":\"heatmapgl\",\"colorbar\":{\"outlinewidth\":0,\"ticks\":\"\"},\"colorscale\":[[0.0,\"#0d0887\"],[0.1111111111111111,\"#46039f\"],[0.2222222222222222,\"#7201a8\"],[0.3333333333333333,\"#9c179e\"],[0.4444444444444444,\"#bd3786\"],[0.5555555555555556,\"#d8576b\"],[0.6666666666666666,\"#ed7953\"],[0.7777777777777778,\"#fb9f3a\"],[0.8888888888888888,\"#fdca26\"],[1.0,\"#f0f921\"]]}],\"contourcarpet\":[{\"type\":\"contourcarpet\",\"colorbar\":{\"outlinewidth\":0,\"ticks\":\"\"}}],\"contour\":[{\"type\":\"contour\",\"colorbar\":{\"outlinewidth\":0,\"ticks\":\"\"},\"colorscale\":[[0.0,\"#0d0887\"],[0.1111111111111111,\"#46039f\"],[0.2222222222222222,\"#7201a8\"],[0.3333333333333333,\"#9c179e\"],[0.4444444444444444,\"#bd3786\"],[0.5555555555555556,\"#d8576b\"],[0.6666666666666666,\"#ed7953\"],[0.7777777777777778,\"#fb9f3a\"],[0.8888888888888888,\"#fdca26\"],[1.0,\"#f0f921\"]]}],\"surface\":[{\"type\":\"surface\",\"colorbar\":{\"outlinewidth\":0,\"ticks\":\"\"},\"colorscale\":[[0.0,\"#0d0887\"],[0.1111111111111111,\"#46039f\"],[0.2222222222222222,\"#7201a8\"],[0.3333333333333333,\"#9c179e\"],[0.4444444444444444,\"#bd3786\"],[0.5555555555555556,\"#d8576b\"],[0.6666666666666666,\"#ed7953\"],[0.7777777777777778,\"#fb9f3a\"],[0.8888888888888888,\"#fdca26\"],[1.0,\"#f0f921\"]]}],\"mesh3d\":[{\"type\":\"mesh3d\",\"colorbar\":{\"outlinewidth\":0,\"ticks\":\"\"}}],\"scatter\":[{\"fillpattern\":{\"fillmode\":\"overlay\",\"size\":10,\"solidity\":0.2},\"type\":\"scatter\"}],\"parcoords\":[{\"type\":\"parcoords\",\"line\":{\"colorbar\":{\"outlinewidth\":0,\"ticks\":\"\"}}}],\"scatterpolargl\":[{\"type\":\"scatterpolargl\",\"marker\":{\"colorbar\":{\"outlinewidth\":0,\"ticks\":\"\"}}}],\"bar\":[{\"error_x\":{\"color\":\"#2a3f5f\"},\"error_y\":{\"color\":\"#2a3f5f\"},\"marker\":{\"line\":{\"color\":\"#E5ECF6\",\"width\":0.5},\"pattern\":{\"fillmode\":\"overlay\",\"size\":10,\"solidity\":0.2}},\"type\":\"bar\"}],\"scattergeo\":[{\"type\":\"scattergeo\",\"marker\":{\"colorbar\":{\"outlinewidth\":0,\"ticks\":\"\"}}}],\"scatterpolar\":[{\"type\":\"scatterpolar\",\"marker\":{\"colorbar\":{\"outlinewidth\":0,\"ticks\":\"\"}}}],\"histogram\":[{\"marker\":{\"pattern\":{\"fillmode\":\"overlay\",\"size\":10,\"solidity\":0.2}},\"type\":\"histogram\"}],\"scattergl\":[{\"type\":\"scattergl\",\"marker\":{\"colorbar\":{\"outlinewidth\":0,\"ticks\":\"\"}}}],\"scatter3d\":[{\"type\":\"scatter3d\",\"line\":{\"colorbar\":{\"outlinewidth\":0,\"ticks\":\"\"}},\"marker\":{\"colorbar\":{\"outlinewidth\":0,\"ticks\":\"\"}}}],\"scattermapbox\":[{\"type\":\"scattermapbox\",\"marker\":{\"colorbar\":{\"outlinewidth\":0,\"ticks\":\"\"}}}],\"scatterternary\":[{\"type\":\"scatterternary\",\"marker\":{\"colorbar\":{\"outlinewidth\":0,\"ticks\":\"\"}}}],\"scattercarpet\":[{\"type\":\"scattercarpet\",\"marker\":{\"colorbar\":{\"outlinewidth\":0,\"ticks\":\"\"}}}],\"carpet\":[{\"aaxis\":{\"endlinecolor\":\"#2a3f5f\",\"gridcolor\":\"white\",\"linecolor\":\"white\",\"minorgridcolor\":\"white\",\"startlinecolor\":\"#2a3f5f\"},\"baxis\":{\"endlinecolor\":\"#2a3f5f\",\"gridcolor\":\"white\",\"linecolor\":\"white\",\"minorgridcolor\":\"white\",\"startlinecolor\":\"#2a3f5f\"},\"type\":\"carpet\"}],\"table\":[{\"cells\":{\"fill\":{\"color\":\"#EBF0F8\"},\"line\":{\"color\":\"white\"}},\"header\":{\"fill\":{\"color\":\"#C8D4E3\"},\"line\":{\"color\":\"white\"}},\"type\":\"table\"}],\"barpolar\":[{\"marker\":{\"line\":{\"color\":\"#E5ECF6\",\"width\":0.5},\"pattern\":{\"fillmode\":\"overlay\",\"size\":10,\"solidity\":0.2}},\"type\":\"barpolar\"}],\"pie\":[{\"automargin\":true,\"type\":\"pie\"}]},\"layout\":{\"autotypenumbers\":\"strict\",\"colorway\":[\"#636efa\",\"#EF553B\",\"#00cc96\",\"#ab63fa\",\"#FFA15A\",\"#19d3f3\",\"#FF6692\",\"#B6E880\",\"#FF97FF\",\"#FECB52\"],\"font\":{\"color\":\"#2a3f5f\"},\"hovermode\":\"closest\",\"hoverlabel\":{\"align\":\"left\"},\"paper_bgcolor\":\"white\",\"plot_bgcolor\":\"#E5ECF6\",\"polar\":{\"bgcolor\":\"#E5ECF6\",\"angularaxis\":{\"gridcolor\":\"white\",\"linecolor\":\"white\",\"ticks\":\"\"},\"radialaxis\":{\"gridcolor\":\"white\",\"linecolor\":\"white\",\"ticks\":\"\"}},\"ternary\":{\"bgcolor\":\"#E5ECF6\",\"aaxis\":{\"gridcolor\":\"white\",\"linecolor\":\"white\",\"ticks\":\"\"},\"baxis\":{\"gridcolor\":\"white\",\"linecolor\":\"white\",\"ticks\":\"\"},\"caxis\":{\"gridcolor\":\"white\",\"linecolor\":\"white\",\"ticks\":\"\"}},\"coloraxis\":{\"colorbar\":{\"outlinewidth\":0,\"ticks\":\"\"}},\"colorscale\":{\"sequential\":[[0.0,\"#0d0887\"],[0.1111111111111111,\"#46039f\"],[0.2222222222222222,\"#7201a8\"],[0.3333333333333333,\"#9c179e\"],[0.4444444444444444,\"#bd3786\"],[0.5555555555555556,\"#d8576b\"],[0.6666666666666666,\"#ed7953\"],[0.7777777777777778,\"#fb9f3a\"],[0.8888888888888888,\"#fdca26\"],[1.0,\"#f0f921\"]],\"sequentialminus\":[[0.0,\"#0d0887\"],[0.1111111111111111,\"#46039f\"],[0.2222222222222222,\"#7201a8\"],[0.3333333333333333,\"#9c179e\"],[0.4444444444444444,\"#bd3786\"],[0.5555555555555556,\"#d8576b\"],[0.6666666666666666,\"#ed7953\"],[0.7777777777777778,\"#fb9f3a\"],[0.8888888888888888,\"#fdca26\"],[1.0,\"#f0f921\"]],\"diverging\":[[0,\"#8e0152\"],[0.1,\"#c51b7d\"],[0.2,\"#de77ae\"],[0.3,\"#f1b6da\"],[0.4,\"#fde0ef\"],[0.5,\"#f7f7f7\"],[0.6,\"#e6f5d0\"],[0.7,\"#b8e186\"],[0.8,\"#7fbc41\"],[0.9,\"#4d9221\"],[1,\"#276419\"]]},\"xaxis\":{\"gridcolor\":\"white\",\"linecolor\":\"white\",\"ticks\":\"\",\"title\":{\"standoff\":15},\"zerolinecolor\":\"white\",\"automargin\":true,\"zerolinewidth\":2},\"yaxis\":{\"gridcolor\":\"white\",\"linecolor\":\"white\",\"ticks\":\"\",\"title\":{\"standoff\":15},\"zerolinecolor\":\"white\",\"automargin\":true,\"zerolinewidth\":2},\"scene\":{\"xaxis\":{\"backgroundcolor\":\"#E5ECF6\",\"gridcolor\":\"white\",\"linecolor\":\"white\",\"showbackground\":true,\"ticks\":\"\",\"zerolinecolor\":\"white\",\"gridwidth\":2},\"yaxis\":{\"backgroundcolor\":\"#E5ECF6\",\"gridcolor\":\"white\",\"linecolor\":\"white\",\"showbackground\":true,\"ticks\":\"\",\"zerolinecolor\":\"white\",\"gridwidth\":2},\"zaxis\":{\"backgroundcolor\":\"#E5ECF6\",\"gridcolor\":\"white\",\"linecolor\":\"white\",\"showbackground\":true,\"ticks\":\"\",\"zerolinecolor\":\"white\",\"gridwidth\":2}},\"shapedefaults\":{\"line\":{\"color\":\"#2a3f5f\"}},\"annotationdefaults\":{\"arrowcolor\":\"#2a3f5f\",\"arrowhead\":0,\"arrowwidth\":1},\"geo\":{\"bgcolor\":\"white\",\"landcolor\":\"#E5ECF6\",\"subunitcolor\":\"white\",\"showland\":true,\"showlakes\":true,\"lakecolor\":\"white\"},\"title\":{\"x\":0.05},\"mapbox\":{\"style\":\"light\"}}},\"scene\":{\"domain\":{\"x\":[0.0,1.0],\"y\":[0.0,1.0]},\"xaxis\":{\"title\":{\"text\":\"epsilon\"},\"type\":\"log\"},\"yaxis\":{\"title\":{\"text\":\"beta\"},\"type\":\"log\"},\"zaxis\":{\"title\":{\"text\":\"llc\\u002ffinal\"},\"type\":\"log\"}},\"coloraxis\":{\"colorbar\":{\"title\":{\"text\":\"llc\\u002fstd_over_mean\"}},\"colorscale\":[[0.0,\"#0d0887\"],[0.1111111111111111,\"#46039f\"],[0.2222222222222222,\"#7201a8\"],[0.3333333333333333,\"#9c179e\"],[0.4444444444444444,\"#bd3786\"],[0.5555555555555556,\"#d8576b\"],[0.6666666666666666,\"#ed7953\"],[0.7777777777777778,\"#fb9f3a\"],[0.8888888888888888,\"#fdca26\"],[1.0,\"#f0f921\"]],\"cmin\":0,\"cmax\":0.15},\"legend\":{\"tracegroupgap\":0},\"title\":{\"text\":\"Local learning coefficient vs. epsilon and beta\"}},                        {\"responsive\": true}                    ).then(function(){\n",
       "                            \n",
       "var gd = document.getElementById('daed9f68-7f82-4d03-8e3c-8fbbd35260c6');\n",
       "var x = new MutationObserver(function (mutations, observer) {{\n",
       "        var display = window.getComputedStyle(gd).display;\n",
       "        if (!display || display === 'none') {{\n",
       "            console.log([gd, 'removed!']);\n",
       "            Plotly.purge(gd);\n",
       "            observer.disconnect();\n",
       "        }}\n",
       "}});\n",
       "\n",
       "// Listen for the removal of the full notebook cells\n",
       "var notebookContainer = gd.closest('#notebook-container');\n",
       "if (notebookContainer) {{\n",
       "    x.observe(notebookContainer, {childList: true});\n",
       "}}\n",
       "\n",
       "// Listen for the clearing of the current output cell\n",
       "var outputEl = gd.closest('.output');\n",
       "if (outputEl) {{\n",
       "    x.observe(outputEl, {childList: true});\n",
       "}}\n",
       "\n",
       "                        })                };                });            </script>        </div>"
      ]
     },
     "metadata": {},
     "output_type": "display_data"
    }
   ],
   "source": [
    "import pandas as pd\n",
    "import plotly.express as px\n",
    "df = pd.DataFrame(all_sweep_stats)\n",
    "df[\"llc/std_over_mean\"] = df[\"llc/trace\"].apply(lambda x: x[:, -20:].std() / x[:, -20:].mean())\n",
    "df[\"llc/final\"] = df[\"llc/trace\"].apply(lambda x: x[:, -10].mean())\n",
    "px.scatter_3d(df, x=\"epsilon\", y=\"beta\", z=\"llc/final\", color=\"llc/std_over_mean\", log_y=True, log_x=True, log_z=True, \n",
    "              title=\"Local learning coefficient vs. epsilon and beta\",\n",
    "              # Set max for color\n",
    "              range_color=[0, 0.15])"
   ]
  },
  {
   "cell_type": "code",
   "execution_count": 106,
   "metadata": {},
   "outputs": [],
   "source": [
    "fig.write_html(\"epsilon_beta_sweep.html\")"
   ]
  },
  {
   "cell_type": "code",
   "execution_count": 76,
   "metadata": {},
   "outputs": [
    {
     "data": {
      "application/vnd.plotly.v1+json": {
       "config": {
        "plotlyServerURL": "https://plot.ly"
       },
       "data": [
        {
         "colorscale": [
          [
           0,
           "#440154"
          ],
          [
           0.1111111111111111,
           "#482878"
          ],
          [
           0.2222222222222222,
           "#3e4989"
          ],
          [
           0.3333333333333333,
           "#31688e"
          ],
          [
           0.4444444444444444,
           "#26828e"
          ],
          [
           0.5555555555555556,
           "#1f9e89"
          ],
          [
           0.6666666666666666,
           "#35b779"
          ],
          [
           0.7777777777777778,
           "#6ece58"
          ],
          [
           0.8888888888888888,
           "#b5de2b"
          ],
          [
           1,
           "#fde725"
          ]
         ],
         "contours": {
          "z": {
           "highlightcolor": "limegreen",
           "project": {
            "z": true
           },
           "show": true,
           "usecolormap": true
          }
         },
         "opacity": 0.6,
         "type": "surface",
         "x": [
          -5,
          -5,
          -5,
          -4,
          -4,
          -4,
          -3,
          -3,
          -3
         ],
         "y": [
          0.6643245172747676,
          1.6643245172747676,
          2.6643245172747676,
          0.6643245172747676,
          1.6643245172747676,
          2.6643245172747676,
          0.6643245172747676,
          1.6643245172747676,
          2.6643245172747676
         ],
         "z": [
          [
           0.9079082878982978,
           1.066753137169422,
           1.0567562895185676
          ],
          [
           1.7619581567280949,
           1.9869978749765251,
           2.00012410237858
          ],
          [
           2.3604139442538847,
           2.489474302532886,
           2.612172370095851
          ]
         ]
        }
       ],
       "layout": {
        "scene": {
         "xaxis": {
          "nticks": 8,
          "range": [
           -6,
           0
          ],
          "title": {
           "text": "epsilon"
          }
         },
         "yaxis": {
          "nticks": 8,
          "range": [
           0,
           4
          ],
          "title": {
           "text": "beta"
          }
         },
         "zaxis": {
          "nticks": 4,
          "range": [
           0,
           4
          ],
          "title": {
           "text": "llc/final"
          }
         }
        },
        "template": {
         "data": {
          "bar": [
           {
            "error_x": {
             "color": "#2a3f5f"
            },
            "error_y": {
             "color": "#2a3f5f"
            },
            "marker": {
             "line": {
              "color": "#E5ECF6",
              "width": 0.5
             },
             "pattern": {
              "fillmode": "overlay",
              "size": 10,
              "solidity": 0.2
             }
            },
            "type": "bar"
           }
          ],
          "barpolar": [
           {
            "marker": {
             "line": {
              "color": "#E5ECF6",
              "width": 0.5
             },
             "pattern": {
              "fillmode": "overlay",
              "size": 10,
              "solidity": 0.2
             }
            },
            "type": "barpolar"
           }
          ],
          "carpet": [
           {
            "aaxis": {
             "endlinecolor": "#2a3f5f",
             "gridcolor": "white",
             "linecolor": "white",
             "minorgridcolor": "white",
             "startlinecolor": "#2a3f5f"
            },
            "baxis": {
             "endlinecolor": "#2a3f5f",
             "gridcolor": "white",
             "linecolor": "white",
             "minorgridcolor": "white",
             "startlinecolor": "#2a3f5f"
            },
            "type": "carpet"
           }
          ],
          "choropleth": [
           {
            "colorbar": {
             "outlinewidth": 0,
             "ticks": ""
            },
            "type": "choropleth"
           }
          ],
          "contour": [
           {
            "colorbar": {
             "outlinewidth": 0,
             "ticks": ""
            },
            "colorscale": [
             [
              0,
              "#0d0887"
             ],
             [
              0.1111111111111111,
              "#46039f"
             ],
             [
              0.2222222222222222,
              "#7201a8"
             ],
             [
              0.3333333333333333,
              "#9c179e"
             ],
             [
              0.4444444444444444,
              "#bd3786"
             ],
             [
              0.5555555555555556,
              "#d8576b"
             ],
             [
              0.6666666666666666,
              "#ed7953"
             ],
             [
              0.7777777777777778,
              "#fb9f3a"
             ],
             [
              0.8888888888888888,
              "#fdca26"
             ],
             [
              1,
              "#f0f921"
             ]
            ],
            "type": "contour"
           }
          ],
          "contourcarpet": [
           {
            "colorbar": {
             "outlinewidth": 0,
             "ticks": ""
            },
            "type": "contourcarpet"
           }
          ],
          "heatmap": [
           {
            "colorbar": {
             "outlinewidth": 0,
             "ticks": ""
            },
            "colorscale": [
             [
              0,
              "#0d0887"
             ],
             [
              0.1111111111111111,
              "#46039f"
             ],
             [
              0.2222222222222222,
              "#7201a8"
             ],
             [
              0.3333333333333333,
              "#9c179e"
             ],
             [
              0.4444444444444444,
              "#bd3786"
             ],
             [
              0.5555555555555556,
              "#d8576b"
             ],
             [
              0.6666666666666666,
              "#ed7953"
             ],
             [
              0.7777777777777778,
              "#fb9f3a"
             ],
             [
              0.8888888888888888,
              "#fdca26"
             ],
             [
              1,
              "#f0f921"
             ]
            ],
            "type": "heatmap"
           }
          ],
          "heatmapgl": [
           {
            "colorbar": {
             "outlinewidth": 0,
             "ticks": ""
            },
            "colorscale": [
             [
              0,
              "#0d0887"
             ],
             [
              0.1111111111111111,
              "#46039f"
             ],
             [
              0.2222222222222222,
              "#7201a8"
             ],
             [
              0.3333333333333333,
              "#9c179e"
             ],
             [
              0.4444444444444444,
              "#bd3786"
             ],
             [
              0.5555555555555556,
              "#d8576b"
             ],
             [
              0.6666666666666666,
              "#ed7953"
             ],
             [
              0.7777777777777778,
              "#fb9f3a"
             ],
             [
              0.8888888888888888,
              "#fdca26"
             ],
             [
              1,
              "#f0f921"
             ]
            ],
            "type": "heatmapgl"
           }
          ],
          "histogram": [
           {
            "marker": {
             "pattern": {
              "fillmode": "overlay",
              "size": 10,
              "solidity": 0.2
             }
            },
            "type": "histogram"
           }
          ],
          "histogram2d": [
           {
            "colorbar": {
             "outlinewidth": 0,
             "ticks": ""
            },
            "colorscale": [
             [
              0,
              "#0d0887"
             ],
             [
              0.1111111111111111,
              "#46039f"
             ],
             [
              0.2222222222222222,
              "#7201a8"
             ],
             [
              0.3333333333333333,
              "#9c179e"
             ],
             [
              0.4444444444444444,
              "#bd3786"
             ],
             [
              0.5555555555555556,
              "#d8576b"
             ],
             [
              0.6666666666666666,
              "#ed7953"
             ],
             [
              0.7777777777777778,
              "#fb9f3a"
             ],
             [
              0.8888888888888888,
              "#fdca26"
             ],
             [
              1,
              "#f0f921"
             ]
            ],
            "type": "histogram2d"
           }
          ],
          "histogram2dcontour": [
           {
            "colorbar": {
             "outlinewidth": 0,
             "ticks": ""
            },
            "colorscale": [
             [
              0,
              "#0d0887"
             ],
             [
              0.1111111111111111,
              "#46039f"
             ],
             [
              0.2222222222222222,
              "#7201a8"
             ],
             [
              0.3333333333333333,
              "#9c179e"
             ],
             [
              0.4444444444444444,
              "#bd3786"
             ],
             [
              0.5555555555555556,
              "#d8576b"
             ],
             [
              0.6666666666666666,
              "#ed7953"
             ],
             [
              0.7777777777777778,
              "#fb9f3a"
             ],
             [
              0.8888888888888888,
              "#fdca26"
             ],
             [
              1,
              "#f0f921"
             ]
            ],
            "type": "histogram2dcontour"
           }
          ],
          "mesh3d": [
           {
            "colorbar": {
             "outlinewidth": 0,
             "ticks": ""
            },
            "type": "mesh3d"
           }
          ],
          "parcoords": [
           {
            "line": {
             "colorbar": {
              "outlinewidth": 0,
              "ticks": ""
             }
            },
            "type": "parcoords"
           }
          ],
          "pie": [
           {
            "automargin": true,
            "type": "pie"
           }
          ],
          "scatter": [
           {
            "fillpattern": {
             "fillmode": "overlay",
             "size": 10,
             "solidity": 0.2
            },
            "type": "scatter"
           }
          ],
          "scatter3d": [
           {
            "line": {
             "colorbar": {
              "outlinewidth": 0,
              "ticks": ""
             }
            },
            "marker": {
             "colorbar": {
              "outlinewidth": 0,
              "ticks": ""
             }
            },
            "type": "scatter3d"
           }
          ],
          "scattercarpet": [
           {
            "marker": {
             "colorbar": {
              "outlinewidth": 0,
              "ticks": ""
             }
            },
            "type": "scattercarpet"
           }
          ],
          "scattergeo": [
           {
            "marker": {
             "colorbar": {
              "outlinewidth": 0,
              "ticks": ""
             }
            },
            "type": "scattergeo"
           }
          ],
          "scattergl": [
           {
            "marker": {
             "colorbar": {
              "outlinewidth": 0,
              "ticks": ""
             }
            },
            "type": "scattergl"
           }
          ],
          "scattermapbox": [
           {
            "marker": {
             "colorbar": {
              "outlinewidth": 0,
              "ticks": ""
             }
            },
            "type": "scattermapbox"
           }
          ],
          "scatterpolar": [
           {
            "marker": {
             "colorbar": {
              "outlinewidth": 0,
              "ticks": ""
             }
            },
            "type": "scatterpolar"
           }
          ],
          "scatterpolargl": [
           {
            "marker": {
             "colorbar": {
              "outlinewidth": 0,
              "ticks": ""
             }
            },
            "type": "scatterpolargl"
           }
          ],
          "scatterternary": [
           {
            "marker": {
             "colorbar": {
              "outlinewidth": 0,
              "ticks": ""
             }
            },
            "type": "scatterternary"
           }
          ],
          "surface": [
           {
            "colorbar": {
             "outlinewidth": 0,
             "ticks": ""
            },
            "colorscale": [
             [
              0,
              "#0d0887"
             ],
             [
              0.1111111111111111,
              "#46039f"
             ],
             [
              0.2222222222222222,
              "#7201a8"
             ],
             [
              0.3333333333333333,
              "#9c179e"
             ],
             [
              0.4444444444444444,
              "#bd3786"
             ],
             [
              0.5555555555555556,
              "#d8576b"
             ],
             [
              0.6666666666666666,
              "#ed7953"
             ],
             [
              0.7777777777777778,
              "#fb9f3a"
             ],
             [
              0.8888888888888888,
              "#fdca26"
             ],
             [
              1,
              "#f0f921"
             ]
            ],
            "type": "surface"
           }
          ],
          "table": [
           {
            "cells": {
             "fill": {
              "color": "#EBF0F8"
             },
             "line": {
              "color": "white"
             }
            },
            "header": {
             "fill": {
              "color": "#C8D4E3"
             },
             "line": {
              "color": "white"
             }
            },
            "type": "table"
           }
          ]
         },
         "layout": {
          "annotationdefaults": {
           "arrowcolor": "#2a3f5f",
           "arrowhead": 0,
           "arrowwidth": 1
          },
          "autotypenumbers": "strict",
          "coloraxis": {
           "colorbar": {
            "outlinewidth": 0,
            "ticks": ""
           }
          },
          "colorscale": {
           "diverging": [
            [
             0,
             "#8e0152"
            ],
            [
             0.1,
             "#c51b7d"
            ],
            [
             0.2,
             "#de77ae"
            ],
            [
             0.3,
             "#f1b6da"
            ],
            [
             0.4,
             "#fde0ef"
            ],
            [
             0.5,
             "#f7f7f7"
            ],
            [
             0.6,
             "#e6f5d0"
            ],
            [
             0.7,
             "#b8e186"
            ],
            [
             0.8,
             "#7fbc41"
            ],
            [
             0.9,
             "#4d9221"
            ],
            [
             1,
             "#276419"
            ]
           ],
           "sequential": [
            [
             0,
             "#0d0887"
            ],
            [
             0.1111111111111111,
             "#46039f"
            ],
            [
             0.2222222222222222,
             "#7201a8"
            ],
            [
             0.3333333333333333,
             "#9c179e"
            ],
            [
             0.4444444444444444,
             "#bd3786"
            ],
            [
             0.5555555555555556,
             "#d8576b"
            ],
            [
             0.6666666666666666,
             "#ed7953"
            ],
            [
             0.7777777777777778,
             "#fb9f3a"
            ],
            [
             0.8888888888888888,
             "#fdca26"
            ],
            [
             1,
             "#f0f921"
            ]
           ],
           "sequentialminus": [
            [
             0,
             "#0d0887"
            ],
            [
             0.1111111111111111,
             "#46039f"
            ],
            [
             0.2222222222222222,
             "#7201a8"
            ],
            [
             0.3333333333333333,
             "#9c179e"
            ],
            [
             0.4444444444444444,
             "#bd3786"
            ],
            [
             0.5555555555555556,
             "#d8576b"
            ],
            [
             0.6666666666666666,
             "#ed7953"
            ],
            [
             0.7777777777777778,
             "#fb9f3a"
            ],
            [
             0.8888888888888888,
             "#fdca26"
            ],
            [
             1,
             "#f0f921"
            ]
           ]
          },
          "colorway": [
           "#636efa",
           "#EF553B",
           "#00cc96",
           "#ab63fa",
           "#FFA15A",
           "#19d3f3",
           "#FF6692",
           "#B6E880",
           "#FF97FF",
           "#FECB52"
          ],
          "font": {
           "color": "#2a3f5f"
          },
          "geo": {
           "bgcolor": "white",
           "lakecolor": "white",
           "landcolor": "#E5ECF6",
           "showlakes": true,
           "showland": true,
           "subunitcolor": "white"
          },
          "hoverlabel": {
           "align": "left"
          },
          "hovermode": "closest",
          "mapbox": {
           "style": "light"
          },
          "paper_bgcolor": "white",
          "plot_bgcolor": "#E5ECF6",
          "polar": {
           "angularaxis": {
            "gridcolor": "white",
            "linecolor": "white",
            "ticks": ""
           },
           "bgcolor": "#E5ECF6",
           "radialaxis": {
            "gridcolor": "white",
            "linecolor": "white",
            "ticks": ""
           }
          },
          "scene": {
           "xaxis": {
            "backgroundcolor": "#E5ECF6",
            "gridcolor": "white",
            "gridwidth": 2,
            "linecolor": "white",
            "showbackground": true,
            "ticks": "",
            "zerolinecolor": "white"
           },
           "yaxis": {
            "backgroundcolor": "#E5ECF6",
            "gridcolor": "white",
            "gridwidth": 2,
            "linecolor": "white",
            "showbackground": true,
            "ticks": "",
            "zerolinecolor": "white"
           },
           "zaxis": {
            "backgroundcolor": "#E5ECF6",
            "gridcolor": "white",
            "gridwidth": 2,
            "linecolor": "white",
            "showbackground": true,
            "ticks": "",
            "zerolinecolor": "white"
           }
          },
          "shapedefaults": {
           "line": {
            "color": "#2a3f5f"
           }
          },
          "ternary": {
           "aaxis": {
            "gridcolor": "white",
            "linecolor": "white",
            "ticks": ""
           },
           "baxis": {
            "gridcolor": "white",
            "linecolor": "white",
            "ticks": ""
           },
           "bgcolor": "#E5ECF6",
           "caxis": {
            "gridcolor": "white",
            "linecolor": "white",
            "ticks": ""
           }
          },
          "title": {
           "x": 0.05
          },
          "xaxis": {
           "automargin": true,
           "gridcolor": "white",
           "linecolor": "white",
           "ticks": "",
           "title": {
            "standoff": 15
           },
           "zerolinecolor": "white",
           "zerolinewidth": 2
          },
          "yaxis": {
           "automargin": true,
           "gridcolor": "white",
           "linecolor": "white",
           "ticks": "",
           "title": {
            "standoff": 15
           },
           "zerolinecolor": "white",
           "zerolinewidth": 2
          }
         }
        }
       }
      },
      "text/html": [
       "<div>                            <div id=\"aeb75d4b-e2ec-4ca0-a1c1-23f81197cf7c\" class=\"plotly-graph-div\" style=\"height:525px; width:100%;\"></div>            <script type=\"text/javascript\">                require([\"plotly\"], function(Plotly) {                    window.PLOTLYENV=window.PLOTLYENV || {};                                    if (document.getElementById(\"aeb75d4b-e2ec-4ca0-a1c1-23f81197cf7c\")) {                    Plotly.newPlot(                        \"aeb75d4b-e2ec-4ca0-a1c1-23f81197cf7c\",                        [{\"colorscale\":[[0.0,\"#440154\"],[0.1111111111111111,\"#482878\"],[0.2222222222222222,\"#3e4989\"],[0.3333333333333333,\"#31688e\"],[0.4444444444444444,\"#26828e\"],[0.5555555555555556,\"#1f9e89\"],[0.6666666666666666,\"#35b779\"],[0.7777777777777778,\"#6ece58\"],[0.8888888888888888,\"#b5de2b\"],[1.0,\"#fde725\"]],\"contours\":{\"z\":{\"highlightcolor\":\"limegreen\",\"project\":{\"z\":true},\"show\":true,\"usecolormap\":true}},\"opacity\":0.6,\"x\":[-5.0,-5.0,-5.0,-4.0,-4.0,-4.0,-3.0,-3.0,-3.0],\"y\":[0.6643245172747676,1.6643245172747676,2.6643245172747676,0.6643245172747676,1.6643245172747676,2.6643245172747676,0.6643245172747676,1.6643245172747676,2.6643245172747676],\"z\":[[0.9079082878982978,1.066753137169422,1.0567562895185676],[1.7619581567280949,1.9869978749765251,2.00012410237858],[2.3604139442538847,2.489474302532886,2.612172370095851]],\"type\":\"surface\"}],                        {\"template\":{\"data\":{\"histogram2dcontour\":[{\"type\":\"histogram2dcontour\",\"colorbar\":{\"outlinewidth\":0,\"ticks\":\"\"},\"colorscale\":[[0.0,\"#0d0887\"],[0.1111111111111111,\"#46039f\"],[0.2222222222222222,\"#7201a8\"],[0.3333333333333333,\"#9c179e\"],[0.4444444444444444,\"#bd3786\"],[0.5555555555555556,\"#d8576b\"],[0.6666666666666666,\"#ed7953\"],[0.7777777777777778,\"#fb9f3a\"],[0.8888888888888888,\"#fdca26\"],[1.0,\"#f0f921\"]]}],\"choropleth\":[{\"type\":\"choropleth\",\"colorbar\":{\"outlinewidth\":0,\"ticks\":\"\"}}],\"histogram2d\":[{\"type\":\"histogram2d\",\"colorbar\":{\"outlinewidth\":0,\"ticks\":\"\"},\"colorscale\":[[0.0,\"#0d0887\"],[0.1111111111111111,\"#46039f\"],[0.2222222222222222,\"#7201a8\"],[0.3333333333333333,\"#9c179e\"],[0.4444444444444444,\"#bd3786\"],[0.5555555555555556,\"#d8576b\"],[0.6666666666666666,\"#ed7953\"],[0.7777777777777778,\"#fb9f3a\"],[0.8888888888888888,\"#fdca26\"],[1.0,\"#f0f921\"]]}],\"heatmap\":[{\"type\":\"heatmap\",\"colorbar\":{\"outlinewidth\":0,\"ticks\":\"\"},\"colorscale\":[[0.0,\"#0d0887\"],[0.1111111111111111,\"#46039f\"],[0.2222222222222222,\"#7201a8\"],[0.3333333333333333,\"#9c179e\"],[0.4444444444444444,\"#bd3786\"],[0.5555555555555556,\"#d8576b\"],[0.6666666666666666,\"#ed7953\"],[0.7777777777777778,\"#fb9f3a\"],[0.8888888888888888,\"#fdca26\"],[1.0,\"#f0f921\"]]}],\"heatmapgl\":[{\"type\":\"heatmapgl\",\"colorbar\":{\"outlinewidth\":0,\"ticks\":\"\"},\"colorscale\":[[0.0,\"#0d0887\"],[0.1111111111111111,\"#46039f\"],[0.2222222222222222,\"#7201a8\"],[0.3333333333333333,\"#9c179e\"],[0.4444444444444444,\"#bd3786\"],[0.5555555555555556,\"#d8576b\"],[0.6666666666666666,\"#ed7953\"],[0.7777777777777778,\"#fb9f3a\"],[0.8888888888888888,\"#fdca26\"],[1.0,\"#f0f921\"]]}],\"contourcarpet\":[{\"type\":\"contourcarpet\",\"colorbar\":{\"outlinewidth\":0,\"ticks\":\"\"}}],\"contour\":[{\"type\":\"contour\",\"colorbar\":{\"outlinewidth\":0,\"ticks\":\"\"},\"colorscale\":[[0.0,\"#0d0887\"],[0.1111111111111111,\"#46039f\"],[0.2222222222222222,\"#7201a8\"],[0.3333333333333333,\"#9c179e\"],[0.4444444444444444,\"#bd3786\"],[0.5555555555555556,\"#d8576b\"],[0.6666666666666666,\"#ed7953\"],[0.7777777777777778,\"#fb9f3a\"],[0.8888888888888888,\"#fdca26\"],[1.0,\"#f0f921\"]]}],\"surface\":[{\"type\":\"surface\",\"colorbar\":{\"outlinewidth\":0,\"ticks\":\"\"},\"colorscale\":[[0.0,\"#0d0887\"],[0.1111111111111111,\"#46039f\"],[0.2222222222222222,\"#7201a8\"],[0.3333333333333333,\"#9c179e\"],[0.4444444444444444,\"#bd3786\"],[0.5555555555555556,\"#d8576b\"],[0.6666666666666666,\"#ed7953\"],[0.7777777777777778,\"#fb9f3a\"],[0.8888888888888888,\"#fdca26\"],[1.0,\"#f0f921\"]]}],\"mesh3d\":[{\"type\":\"mesh3d\",\"colorbar\":{\"outlinewidth\":0,\"ticks\":\"\"}}],\"scatter\":[{\"fillpattern\":{\"fillmode\":\"overlay\",\"size\":10,\"solidity\":0.2},\"type\":\"scatter\"}],\"parcoords\":[{\"type\":\"parcoords\",\"line\":{\"colorbar\":{\"outlinewidth\":0,\"ticks\":\"\"}}}],\"scatterpolargl\":[{\"type\":\"scatterpolargl\",\"marker\":{\"colorbar\":{\"outlinewidth\":0,\"ticks\":\"\"}}}],\"bar\":[{\"error_x\":{\"color\":\"#2a3f5f\"},\"error_y\":{\"color\":\"#2a3f5f\"},\"marker\":{\"line\":{\"color\":\"#E5ECF6\",\"width\":0.5},\"pattern\":{\"fillmode\":\"overlay\",\"size\":10,\"solidity\":0.2}},\"type\":\"bar\"}],\"scattergeo\":[{\"type\":\"scattergeo\",\"marker\":{\"colorbar\":{\"outlinewidth\":0,\"ticks\":\"\"}}}],\"scatterpolar\":[{\"type\":\"scatterpolar\",\"marker\":{\"colorbar\":{\"outlinewidth\":0,\"ticks\":\"\"}}}],\"histogram\":[{\"marker\":{\"pattern\":{\"fillmode\":\"overlay\",\"size\":10,\"solidity\":0.2}},\"type\":\"histogram\"}],\"scattergl\":[{\"type\":\"scattergl\",\"marker\":{\"colorbar\":{\"outlinewidth\":0,\"ticks\":\"\"}}}],\"scatter3d\":[{\"type\":\"scatter3d\",\"line\":{\"colorbar\":{\"outlinewidth\":0,\"ticks\":\"\"}},\"marker\":{\"colorbar\":{\"outlinewidth\":0,\"ticks\":\"\"}}}],\"scattermapbox\":[{\"type\":\"scattermapbox\",\"marker\":{\"colorbar\":{\"outlinewidth\":0,\"ticks\":\"\"}}}],\"scatterternary\":[{\"type\":\"scatterternary\",\"marker\":{\"colorbar\":{\"outlinewidth\":0,\"ticks\":\"\"}}}],\"scattercarpet\":[{\"type\":\"scattercarpet\",\"marker\":{\"colorbar\":{\"outlinewidth\":0,\"ticks\":\"\"}}}],\"carpet\":[{\"aaxis\":{\"endlinecolor\":\"#2a3f5f\",\"gridcolor\":\"white\",\"linecolor\":\"white\",\"minorgridcolor\":\"white\",\"startlinecolor\":\"#2a3f5f\"},\"baxis\":{\"endlinecolor\":\"#2a3f5f\",\"gridcolor\":\"white\",\"linecolor\":\"white\",\"minorgridcolor\":\"white\",\"startlinecolor\":\"#2a3f5f\"},\"type\":\"carpet\"}],\"table\":[{\"cells\":{\"fill\":{\"color\":\"#EBF0F8\"},\"line\":{\"color\":\"white\"}},\"header\":{\"fill\":{\"color\":\"#C8D4E3\"},\"line\":{\"color\":\"white\"}},\"type\":\"table\"}],\"barpolar\":[{\"marker\":{\"line\":{\"color\":\"#E5ECF6\",\"width\":0.5},\"pattern\":{\"fillmode\":\"overlay\",\"size\":10,\"solidity\":0.2}},\"type\":\"barpolar\"}],\"pie\":[{\"automargin\":true,\"type\":\"pie\"}]},\"layout\":{\"autotypenumbers\":\"strict\",\"colorway\":[\"#636efa\",\"#EF553B\",\"#00cc96\",\"#ab63fa\",\"#FFA15A\",\"#19d3f3\",\"#FF6692\",\"#B6E880\",\"#FF97FF\",\"#FECB52\"],\"font\":{\"color\":\"#2a3f5f\"},\"hovermode\":\"closest\",\"hoverlabel\":{\"align\":\"left\"},\"paper_bgcolor\":\"white\",\"plot_bgcolor\":\"#E5ECF6\",\"polar\":{\"bgcolor\":\"#E5ECF6\",\"angularaxis\":{\"gridcolor\":\"white\",\"linecolor\":\"white\",\"ticks\":\"\"},\"radialaxis\":{\"gridcolor\":\"white\",\"linecolor\":\"white\",\"ticks\":\"\"}},\"ternary\":{\"bgcolor\":\"#E5ECF6\",\"aaxis\":{\"gridcolor\":\"white\",\"linecolor\":\"white\",\"ticks\":\"\"},\"baxis\":{\"gridcolor\":\"white\",\"linecolor\":\"white\",\"ticks\":\"\"},\"caxis\":{\"gridcolor\":\"white\",\"linecolor\":\"white\",\"ticks\":\"\"}},\"coloraxis\":{\"colorbar\":{\"outlinewidth\":0,\"ticks\":\"\"}},\"colorscale\":{\"sequential\":[[0.0,\"#0d0887\"],[0.1111111111111111,\"#46039f\"],[0.2222222222222222,\"#7201a8\"],[0.3333333333333333,\"#9c179e\"],[0.4444444444444444,\"#bd3786\"],[0.5555555555555556,\"#d8576b\"],[0.6666666666666666,\"#ed7953\"],[0.7777777777777778,\"#fb9f3a\"],[0.8888888888888888,\"#fdca26\"],[1.0,\"#f0f921\"]],\"sequentialminus\":[[0.0,\"#0d0887\"],[0.1111111111111111,\"#46039f\"],[0.2222222222222222,\"#7201a8\"],[0.3333333333333333,\"#9c179e\"],[0.4444444444444444,\"#bd3786\"],[0.5555555555555556,\"#d8576b\"],[0.6666666666666666,\"#ed7953\"],[0.7777777777777778,\"#fb9f3a\"],[0.8888888888888888,\"#fdca26\"],[1.0,\"#f0f921\"]],\"diverging\":[[0,\"#8e0152\"],[0.1,\"#c51b7d\"],[0.2,\"#de77ae\"],[0.3,\"#f1b6da\"],[0.4,\"#fde0ef\"],[0.5,\"#f7f7f7\"],[0.6,\"#e6f5d0\"],[0.7,\"#b8e186\"],[0.8,\"#7fbc41\"],[0.9,\"#4d9221\"],[1,\"#276419\"]]},\"xaxis\":{\"gridcolor\":\"white\",\"linecolor\":\"white\",\"ticks\":\"\",\"title\":{\"standoff\":15},\"zerolinecolor\":\"white\",\"automargin\":true,\"zerolinewidth\":2},\"yaxis\":{\"gridcolor\":\"white\",\"linecolor\":\"white\",\"ticks\":\"\",\"title\":{\"standoff\":15},\"zerolinecolor\":\"white\",\"automargin\":true,\"zerolinewidth\":2},\"scene\":{\"xaxis\":{\"backgroundcolor\":\"#E5ECF6\",\"gridcolor\":\"white\",\"linecolor\":\"white\",\"showbackground\":true,\"ticks\":\"\",\"zerolinecolor\":\"white\",\"gridwidth\":2},\"yaxis\":{\"backgroundcolor\":\"#E5ECF6\",\"gridcolor\":\"white\",\"linecolor\":\"white\",\"showbackground\":true,\"ticks\":\"\",\"zerolinecolor\":\"white\",\"gridwidth\":2},\"zaxis\":{\"backgroundcolor\":\"#E5ECF6\",\"gridcolor\":\"white\",\"linecolor\":\"white\",\"showbackground\":true,\"ticks\":\"\",\"zerolinecolor\":\"white\",\"gridwidth\":2}},\"shapedefaults\":{\"line\":{\"color\":\"#2a3f5f\"}},\"annotationdefaults\":{\"arrowcolor\":\"#2a3f5f\",\"arrowhead\":0,\"arrowwidth\":1},\"geo\":{\"bgcolor\":\"white\",\"landcolor\":\"#E5ECF6\",\"subunitcolor\":\"white\",\"showland\":true,\"showlakes\":true,\"lakecolor\":\"white\"},\"title\":{\"x\":0.05},\"mapbox\":{\"style\":\"light\"}}},\"scene\":{\"xaxis\":{\"title\":{\"text\":\"epsilon\"},\"nticks\":8,\"range\":[-6,0]},\"yaxis\":{\"title\":{\"text\":\"beta\"},\"nticks\":8,\"range\":[0,4]},\"zaxis\":{\"title\":{\"text\":\"llc\\u002ffinal\"},\"nticks\":4,\"range\":[0,4]}}},                        {\"responsive\": true}                    ).then(function(){\n",
       "                            \n",
       "var gd = document.getElementById('aeb75d4b-e2ec-4ca0-a1c1-23f81197cf7c');\n",
       "var x = new MutationObserver(function (mutations, observer) {{\n",
       "        var display = window.getComputedStyle(gd).display;\n",
       "        if (!display || display === 'none') {{\n",
       "            console.log([gd, 'removed!']);\n",
       "            Plotly.purge(gd);\n",
       "            observer.disconnect();\n",
       "        }}\n",
       "}});\n",
       "\n",
       "// Listen for the removal of the full notebook cells\n",
       "var notebookContainer = gd.closest('#notebook-container');\n",
       "if (notebookContainer) {{\n",
       "    x.observe(notebookContainer, {childList: true});\n",
       "}}\n",
       "\n",
       "// Listen for the clearing of the current output cell\n",
       "var outputEl = gd.closest('.output');\n",
       "if (outputEl) {{\n",
       "    x.observe(outputEl, {childList: true});\n",
       "}}\n",
       "\n",
       "                        })                };                });            </script>        </div>"
      ]
     },
     "metadata": {},
     "output_type": "display_data"
    }
   ],
   "source": [
    "import plotly.graph_objects as go\n",
    "import pandas as pd\n",
    "df = pd.DataFrame(all_sweep_stats)\n",
    "# 3d contour plot\n",
    "df[\"llc/final\"] = df[\"llc/trace\"].apply(lambda x: x[:, -10].mean())\n",
    "# Log scale\n",
    "df[\"llc/log_final\"] = df[\"llc/final\"].apply(lambda x: np.log10(x))\n",
    "df[\"log_epsilon\"] = df[\"epsilon\"].apply(lambda x: np.log10(x))\n",
    "df[\"log_beta\"] = df[\"beta\"].apply(lambda x: np.log10(x))\n",
    "\n",
    "fig = go.Figure(data=[go.Surface(\n",
    "    x=df[\"log_epsilon\"],\n",
    "    y=df[\"log_beta\"],\n",
    "    z=df[\"llc/log_final\"].values.reshape(len(beta_range), len(epsilon_range)).T,\n",
    "    colorscale='Viridis',\n",
    "    opacity=0.6,\n",
    "    contours=dict(z=dict(show=True, usecolormap=True, highlightcolor=\"limegreen\", project=dict(z=True)))\n",
    ")])\n",
    "fig.update_layout(scene = dict(\n",
    "                    xaxis_title='epsilon',\n",
    "                    yaxis_title='beta',\n",
    "                    zaxis_title='llc/final',    \n",
    "                    xaxis = dict(nticks=8, range=[-6,0],),\n",
    "                    yaxis = dict(nticks=8, range=[0,4],),\n",
    "                    zaxis = dict(nticks=4, range=[0,4],),\n",
    "                    ))\n",
    "\n",
    "fig.show()"
   ]
  },
  {
   "cell_type": "code",
   "execution_count": 33,
   "metadata": {},
   "outputs": [
    {
     "data": {
      "text/plain": [
       "8.317402"
      ]
     },
     "execution_count": 33,
     "metadata": {},
     "output_type": "execute_result"
    }
   ],
   "source": [
    "list(sweep_stats.values())[0][\"llc/trace\"][:, -5:].mean()"
   ]
  }
 ],
 "metadata": {
  "kernelspec": {
   "display_name": "devinterp",
   "language": "python",
   "name": "python3"
  },
  "language_info": {
   "codemirror_mode": {
    "name": "ipython",
    "version": 3
   },
   "file_extension": ".py",
   "mimetype": "text/x-python",
   "name": "python",
   "nbconvert_exporter": "python",
   "pygments_lexer": "ipython3",
   "version": "3.11.9"
  }
 },
 "nbformat": 4,
 "nbformat_minor": 2
}
