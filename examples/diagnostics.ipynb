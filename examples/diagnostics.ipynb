{
 "cells": [
  {
   "cell_type": "markdown",
   "id": "48d0ad1e-0e17-4727-9205-90ef694636b0",
   "metadata": {},
   "source": [
    "# Sampler Diagnostics Demo (Normal Crossing)"
   ]
  },
  {
   "cell_type": "markdown",
   "id": "a7ff06fe-37ca-41cf-845e-ca9f886d8720",
   "metadata": {},
   "source": [
    "[![Open In Colab](https://colab.research.google.com/assets/colab-badge.svg)](https://colab.research.google.com/github/timaeus-research/devinterp/blob/main/examples/diagnostics.ipynb)\n",
    "\n",
    "This notebook demonstrates the usage of various diagnostic tools for the sampling and RLCT estimation process. As an example, we'll use normal crossings for each diagnostic. This is a polynomial model characterized by $f(x) = w_1^a w_2^b x$ for some $(a, b)$, where $w_1$ and $w_2$ are weights to be learned. The data is generated with gaussian noise around the origin, so the model achieves its lowest loss when $w_1=0$ or $w_2 =0$.\n",
    "\n",
    "We'll also be using the SGLD optimizer."
   ]
  },
  {
   "cell_type": "code",
   "execution_count": 1,
   "id": "5a648589-14f4-4b4a-b73f-7203318f2d58",
   "metadata": {},
   "outputs": [
    {
     "name": "stdout",
     "output_type": "stream",
     "text": [
      "Requirement already satisfied: matplotlib in /home/paperspace/devinterp/.venv/lib/python3.8/site-packages (3.7.4)\n",
      "Requirement already satisfied: seaborn in /home/paperspace/devinterp/.venv/lib/python3.8/site-packages (0.13.1)\n",
      "Requirement already satisfied: contourpy>=1.0.1 in /home/paperspace/devinterp/.venv/lib/python3.8/site-packages (from matplotlib) (1.1.1)\n",
      "Requirement already satisfied: cycler>=0.10 in /home/paperspace/devinterp/.venv/lib/python3.8/site-packages (from matplotlib) (0.12.1)\n",
      "Requirement already satisfied: fonttools>=4.22.0 in /home/paperspace/devinterp/.venv/lib/python3.8/site-packages (from matplotlib) (4.47.2)\n",
      "Requirement already satisfied: kiwisolver>=1.0.1 in /home/paperspace/devinterp/.venv/lib/python3.8/site-packages (from matplotlib) (1.4.5)\n",
      "Requirement already satisfied: numpy<2,>=1.20 in /home/paperspace/devinterp/.venv/lib/python3.8/site-packages (from matplotlib) (1.23.5)\n",
      "Requirement already satisfied: packaging>=20.0 in /home/paperspace/devinterp/.venv/lib/python3.8/site-packages (from matplotlib) (23.2)\n",
      "Requirement already satisfied: pillow>=6.2.0 in /home/paperspace/devinterp/.venv/lib/python3.8/site-packages (from matplotlib) (10.2.0)\n",
      "Requirement already satisfied: pyparsing>=2.3.1 in /home/paperspace/devinterp/.venv/lib/python3.8/site-packages (from matplotlib) (3.1.1)\n",
      "Requirement already satisfied: python-dateutil>=2.7 in /home/paperspace/devinterp/.venv/lib/python3.8/site-packages (from matplotlib) (2.8.2)\n",
      "Requirement already satisfied: importlib-resources>=3.2.0 in /home/paperspace/devinterp/.venv/lib/python3.8/site-packages (from matplotlib) (6.1.1)\n",
      "Requirement already satisfied: pandas>=1.2 in /home/paperspace/devinterp/.venv/lib/python3.8/site-packages (from seaborn) (2.0.3)\n",
      "Requirement already satisfied: zipp>=3.1.0 in /home/paperspace/devinterp/.venv/lib/python3.8/site-packages (from importlib-resources>=3.2.0->matplotlib) (3.17.0)\n",
      "Requirement already satisfied: pytz>=2020.1 in /home/paperspace/devinterp/.venv/lib/python3.8/site-packages (from pandas>=1.2->seaborn) (2023.3.post1)\n",
      "Requirement already satisfied: tzdata>=2022.1 in /home/paperspace/devinterp/.venv/lib/python3.8/site-packages (from pandas>=1.2->seaborn) (2023.4)\n",
      "Requirement already satisfied: six>=1.5 in /home/paperspace/devinterp/.venv/lib/python3.8/site-packages (from python-dateutil>=2.7->matplotlib) (1.16.0)\n",
      "Note: you may need to restart the kernel to use updated packages.\n",
      "/home/paperspace/devinterp\n",
      "Obtaining file:///home/paperspace/devinterp\n",
      "\u001b[31mERROR: Exception:\n",
      "Traceback (most recent call last):\n",
      "  File \"/home/paperspace/devinterp/.venv/lib/python3.8/site-packages/pip/_internal/cli/base_command.py\", line 180, in exc_logging_wrapper\n",
      "    status = run_func(*args)\n",
      "  File \"/home/paperspace/devinterp/.venv/lib/python3.8/site-packages/pip/_internal/cli/req_command.py\", line 245, in wrapper\n",
      "    return func(self, options, args)\n",
      "  File \"/home/paperspace/devinterp/.venv/lib/python3.8/site-packages/pip/_internal/commands/install.py\", line 377, in run\n",
      "    requirement_set = resolver.resolve(\n",
      "  File \"/home/paperspace/devinterp/.venv/lib/python3.8/site-packages/pip/_internal/resolution/resolvelib/resolver.py\", line 76, in resolve\n",
      "    collected = self.factory.collect_root_requirements(root_reqs)\n",
      "  File \"/home/paperspace/devinterp/.venv/lib/python3.8/site-packages/pip/_internal/resolution/resolvelib/factory.py\", line 534, in collect_root_requirements\n",
      "    reqs = list(\n",
      "  File \"/home/paperspace/devinterp/.venv/lib/python3.8/site-packages/pip/_internal/resolution/resolvelib/factory.py\", line 490, in _make_requirements_from_install_req\n",
      "    cand = self._make_base_candidate_from_link(\n",
      "  File \"/home/paperspace/devinterp/.venv/lib/python3.8/site-packages/pip/_internal/resolution/resolvelib/factory.py\", line 207, in _make_base_candidate_from_link\n",
      "    self._editable_candidate_cache[link] = EditableCandidate(\n",
      "  File \"/home/paperspace/devinterp/.venv/lib/python3.8/site-packages/pip/_internal/resolution/resolvelib/candidates.py\", line 318, in __init__\n",
      "    super().__init__(\n",
      "  File \"/home/paperspace/devinterp/.venv/lib/python3.8/site-packages/pip/_internal/resolution/resolvelib/candidates.py\", line 156, in __init__\n",
      "    self.dist = self._prepare()\n",
      "  File \"/home/paperspace/devinterp/.venv/lib/python3.8/site-packages/pip/_internal/resolution/resolvelib/candidates.py\", line 225, in _prepare\n",
      "    dist = self._prepare_distribution()\n",
      "  File \"/home/paperspace/devinterp/.venv/lib/python3.8/site-packages/pip/_internal/resolution/resolvelib/candidates.py\", line 328, in _prepare_distribution\n",
      "    return self._factory.preparer.prepare_editable_requirement(self._ireq)\n",
      "  File \"/home/paperspace/devinterp/.venv/lib/python3.8/site-packages/pip/_internal/operations/prepare.py\", line 696, in prepare_editable_requirement\n",
      "    dist = _get_prepared_distribution(\n",
      "  File \"/home/paperspace/devinterp/.venv/lib/python3.8/site-packages/pip/_internal/operations/prepare.py\", line 71, in _get_prepared_distribution\n",
      "    abstract_dist.prepare_distribution_metadata(\n",
      "  File \"/home/paperspace/devinterp/.venv/lib/python3.8/site-packages/pip/_internal/distributions/sdist.py\", line 37, in prepare_distribution_metadata\n",
      "    self.req.load_pyproject_toml()\n",
      "  File \"/home/paperspace/devinterp/.venv/lib/python3.8/site-packages/pip/_internal/req/req_install.py\", line 506, in load_pyproject_toml\n",
      "    pyproject_toml_data = load_pyproject_toml(\n",
      "  File \"/home/paperspace/devinterp/.venv/lib/python3.8/site-packages/pip/_internal/pyproject.py\", line 64, in load_pyproject_toml\n",
      "    pp_toml = tomli.loads(f.read())\n",
      "  File \"/home/paperspace/devinterp/.venv/lib/python3.8/site-packages/pip/_vendor/tomli/_parser.py\", line 102, in loads\n",
      "    pos = key_value_rule(src, pos, out, header, parse_float)\n",
      "  File \"/home/paperspace/devinterp/.venv/lib/python3.8/site-packages/pip/_vendor/tomli/_parser.py\", line 326, in key_value_rule\n",
      "    pos, key, value = parse_key_value_pair(src, pos, parse_float)\n",
      "  File \"/home/paperspace/devinterp/.venv/lib/python3.8/site-packages/pip/_vendor/tomli/_parser.py\", line 369, in parse_key_value_pair\n",
      "    pos, value = parse_value(src, pos, parse_float)\n",
      "  File \"/home/paperspace/devinterp/.venv/lib/python3.8/site-packages/pip/_vendor/tomli/_parser.py\", line 616, in parse_value\n",
      "    return parse_array(src, pos, parse_float)\n",
      "  File \"/home/paperspace/devinterp/.venv/lib/python3.8/site-packages/pip/_vendor/tomli/_parser.py\", line 428, in parse_array\n",
      "    raise suffixed_err(src, pos, \"Unclosed array\")\n",
      "pip._vendor.tomli.TOMLDecodeError: Unclosed array (at line 25, column 16)\u001b[0m\u001b[31m\n",
      "\u001b[0mNote: you may need to restart the kernel to use updated packages.\n",
      "/home/paperspace/devinterp/examples\n"
     ]
    }
   ],
   "source": [
    "%pip install matplotlib seaborn\n",
    "%cd .. \n",
    "%pip install -e .\n",
    "%cd examples"
   ]
  },
  {
   "cell_type": "code",
   "execution_count": 2,
   "id": "e75ab1df-f3e5-4552-b7ba-acbe3ffe0a1a",
   "metadata": {},
   "outputs": [
    {
     "ename": "ModuleNotFoundError",
     "evalue": "No module named 'torch'",
     "output_type": "error",
     "traceback": [
      "\u001b[0;31m---------------------------------------------------------------------------\u001b[0m",
      "\u001b[0;31mModuleNotFoundError\u001b[0m                       Traceback (most recent call last)",
      "\u001b[1;32m/home/paperspace/devinterp/examples/diagnostics.ipynb Cell 4\u001b[0m line \u001b[0;36m3\n\u001b[1;32m      <a href='vscode-notebook-cell://ssh-remote%2Bpaperspace2/home/paperspace/devinterp/examples/diagnostics.ipynb#W3sdnNjb2RlLXJlbW90ZQ%3D%3D?line=0'>1</a>\u001b[0m \u001b[39mimport\u001b[39;00m \u001b[39mmatplotlib\u001b[39;00m\u001b[39m.\u001b[39;00m\u001b[39mpyplot\u001b[39;00m \u001b[39mas\u001b[39;00m \u001b[39mplt\u001b[39;00m\n\u001b[1;32m      <a href='vscode-notebook-cell://ssh-remote%2Bpaperspace2/home/paperspace/devinterp/examples/diagnostics.ipynb#W3sdnNjb2RlLXJlbW90ZQ%3D%3D?line=1'>2</a>\u001b[0m \u001b[39mimport\u001b[39;00m \u001b[39mseaborn\u001b[39;00m \u001b[39mas\u001b[39;00m \u001b[39msns\u001b[39;00m\n\u001b[0;32m----> <a href='vscode-notebook-cell://ssh-remote%2Bpaperspace2/home/paperspace/devinterp/examples/diagnostics.ipynb#W3sdnNjb2RlLXJlbW90ZQ%3D%3D?line=2'>3</a>\u001b[0m \u001b[39mimport\u001b[39;00m \u001b[39mtorch\u001b[39;00m\n\u001b[1;32m      <a href='vscode-notebook-cell://ssh-remote%2Bpaperspace2/home/paperspace/devinterp/examples/diagnostics.ipynb#W3sdnNjb2RlLXJlbW90ZQ%3D%3D?line=3'>4</a>\u001b[0m \u001b[39mimport\u001b[39;00m \u001b[39mtorch\u001b[39;00m\u001b[39m.\u001b[39;00m\u001b[39mnn\u001b[39;00m \u001b[39mas\u001b[39;00m \u001b[39mnn\u001b[39;00m\n\u001b[1;32m      <a href='vscode-notebook-cell://ssh-remote%2Bpaperspace2/home/paperspace/devinterp/examples/diagnostics.ipynb#W3sdnNjb2RlLXJlbW90ZQ%3D%3D?line=4'>5</a>\u001b[0m \u001b[39mimport\u001b[39;00m \u001b[39mtorch\u001b[39;00m\u001b[39m.\u001b[39;00m\u001b[39mnn\u001b[39;00m\u001b[39m.\u001b[39;00m\u001b[39mfunctional\u001b[39;00m \u001b[39mas\u001b[39;00m \u001b[39mF\u001b[39;00m\n",
      "\u001b[0;31mModuleNotFoundError\u001b[0m: No module named 'torch'"
     ]
    }
   ],
   "source": [
    "import matplotlib.pyplot as plt\n",
    "import seaborn as sns\n",
    "import torch\n",
    "import torch.nn as nn\n",
    "import torch.nn.functional as F\n",
    "from torch.utils.data import DataLoader, TensorDataset\n",
    "\n",
    "from devinterp.optim.sgld import SGLD\n",
    "from devinterp.utils import plot_trace\n",
    "from devinterp.slt import sample\n",
    "from devinterp.slt import OnlineLLCEstimator"
   ]
  },
  {
   "cell_type": "code",
   "execution_count": null,
   "id": "78dddc4d-367e-44d1-97fc-03beb642e3a1",
   "metadata": {},
   "outputs": [
    {
     "name": "stdout",
     "output_type": "stream",
     "text": [
      "Unexpected exception formatting exception. Falling back to standard exception\n"
     ]
    },
    {
     "name": "stderr",
     "output_type": "stream",
     "text": [
      "Traceback (most recent call last):\n",
      "  File \"/home/paperspace/devinterp/.venv/lib/python3.8/site-packages/IPython/core/interactiveshell.py\", line 3508, in run_code\n",
      "  File \"/tmp/ipykernel_3494/4258283777.py\", line 1, in <module>\n",
      "    DEVICE = \"cuda\" if torch.cuda.is_available() else \"cpu\"\n",
      "NameError: name 'torch' is not defined\n",
      "\n",
      "During handling of the above exception, another exception occurred:\n",
      "\n",
      "Traceback (most recent call last):\n",
      "  File \"/home/paperspace/devinterp/.venv/lib/python3.8/site-packages/pygments/styles/__init__.py\", line 45, in get_style_by_name\n",
      "ModuleNotFoundError: No module named 'pygments.styles.default'\n",
      "\n",
      "During handling of the above exception, another exception occurred:\n",
      "\n",
      "Traceback (most recent call last):\n",
      "  File \"/home/paperspace/devinterp/.venv/lib/python3.8/site-packages/IPython/core/interactiveshell.py\", line 2105, in showtraceback\n",
      "  File \"/home/paperspace/devinterp/.venv/lib/python3.8/site-packages/IPython/core/ultratb.py\", line 1396, in structured_traceback\n",
      "  File \"/home/paperspace/devinterp/.venv/lib/python3.8/site-packages/IPython/core/ultratb.py\", line 1287, in structured_traceback\n",
      "  File \"/home/paperspace/devinterp/.venv/lib/python3.8/site-packages/IPython/core/ultratb.py\", line 1140, in structured_traceback\n",
      "  File \"/home/paperspace/devinterp/.venv/lib/python3.8/site-packages/IPython/core/ultratb.py\", line 1030, in format_exception_as_a_whole\n",
      "  File \"/home/paperspace/devinterp/.venv/lib/python3.8/site-packages/IPython/core/ultratb.py\", line 1081, in get_records\n",
      "  File \"/home/paperspace/devinterp/.venv/lib/python3.8/site-packages/pygments/styles/__init__.py\", line 47, in get_style_by_name\n",
      "pygments.util.ClassNotFound: Could not find style module 'pygments.styles.default', though it should be builtin.\n"
     ]
    }
   ],
   "source": [
    "DEVICE = \"cuda\" if torch.cuda.is_available() else \"cpu\"\n",
    "\n",
    "# plotting\n",
    "sns.set_style(\"whitegrid\")\n",
    "CMAP = sns.color_palette(\"muted\", as_cmap=True)\n",
    "PRIMARY, SECONDARY, TERTIARY = CMAP[:3]\n",
    "plt.rcParams[\"figure.figsize\"]=12,9  # note: this cell may need to be re-run after creating a plot to take effect\n",
    "\n",
    "# constants\n",
    "SIGMA = 0.25\n",
    "NUM_TRAIN_SAMPLES = 1000\n",
    "BATCH_SIZE = NUM_TRAIN_SAMPLES\n",
    "CRITERION = F.mse_loss\n",
    "\n",
    "NUM_CHAINS = 20\n",
    "NUM_DRAWS = 2000"
   ]
  },
  {
   "cell_type": "code",
   "execution_count": null,
   "id": "830c3348-6dd7-4c20-b217-6b1d16ae83d7",
   "metadata": {},
   "outputs": [
    {
     "name": "stdout",
     "output_type": "stream",
     "text": [
      "Unexpected exception formatting exception. Falling back to standard exception\n"
     ]
    },
    {
     "name": "stderr",
     "output_type": "stream",
     "text": [
      "Traceback (most recent call last):\n",
      "  File \"/home/paperspace/devinterp/.venv/lib/python3.8/site-packages/IPython/core/interactiveshell.py\", line 3508, in run_code\n",
      "  File \"/tmp/ipykernel_3494/1609270389.py\", line 2, in <module>\n",
      "    class PolyModel(nn.Module):\n",
      "NameError: name 'nn' is not defined\n",
      "\n",
      "During handling of the above exception, another exception occurred:\n",
      "\n",
      "Traceback (most recent call last):\n",
      "  File \"/home/paperspace/devinterp/.venv/lib/python3.8/site-packages/pygments/styles/__init__.py\", line 45, in get_style_by_name\n",
      "ModuleNotFoundError: No module named 'pygments.styles.default'\n",
      "\n",
      "During handling of the above exception, another exception occurred:\n",
      "\n",
      "Traceback (most recent call last):\n",
      "  File \"/home/paperspace/devinterp/.venv/lib/python3.8/site-packages/IPython/core/interactiveshell.py\", line 2105, in showtraceback\n",
      "  File \"/home/paperspace/devinterp/.venv/lib/python3.8/site-packages/IPython/core/ultratb.py\", line 1396, in structured_traceback\n",
      "  File \"/home/paperspace/devinterp/.venv/lib/python3.8/site-packages/IPython/core/ultratb.py\", line 1287, in structured_traceback\n",
      "  File \"/home/paperspace/devinterp/.venv/lib/python3.8/site-packages/IPython/core/ultratb.py\", line 1140, in structured_traceback\n",
      "  File \"/home/paperspace/devinterp/.venv/lib/python3.8/site-packages/IPython/core/ultratb.py\", line 1030, in format_exception_as_a_whole\n",
      "  File \"/home/paperspace/devinterp/.venv/lib/python3.8/site-packages/IPython/core/ultratb.py\", line 1081, in get_records\n",
      "  File \"/home/paperspace/devinterp/.venv/lib/python3.8/site-packages/pygments/styles/__init__.py\", line 47, in get_style_by_name\n",
      "pygments.util.ClassNotFound: Could not find style module 'pygments.styles.default', though it should be builtin.\n"
     ]
    }
   ],
   "source": [
    "# Set up RLCT estimation\n",
    "class PolyModel(nn.Module):\n",
    "    def __init__(self, powers):\n",
    "        super(PolyModel, self).__init__()\n",
    "        self.weights = nn.Parameter(\n",
    "            torch.tensor([1.0, 0.3], dtype=torch.float32, requires_grad=True, device=DEVICE)\n",
    "        )\n",
    "        self.powers = powers\n",
    "\n",
    "    def forward(self, x):\n",
    "        multiplied = torch.prod(self.weights**self.powers)\n",
    "        x = x * multiplied\n",
    "        return x\n",
    "\n",
    "\n",
    "def generate_dataset_for_seed(seed=0):\n",
    "    x = torch.normal(0, 2, size=(NUM_TRAIN_SAMPLES,))\n",
    "    y = torch.normal(0, SIGMA, size=(NUM_TRAIN_SAMPLES,))\n",
    "    train_data = TensorDataset(x, y)\n",
    "    train_loader = DataLoader(train_data, batch_size=BATCH_SIZE, shuffle=True)\n",
    "    return train_loader, train_data\n",
    "\n",
    "\n",
    "def run_callbacks(\n",
    "    train_loader,\n",
    "    train_data,\n",
    "    weights=[0.0, 0.0],\n",
    "    powers=torch.tensor([1, 2]).to(DEVICE),\n",
    "    callbacks=None,\n",
    "    device=DEVICE\n",
    "):\n",
    "    model = PolyModel(powers).to(DEVICE)\n",
    "    model.weights = nn.Parameter(torch.tensor(weights, dtype=torch.float32, requires_grad=True, device=DEVICE))\n",
    "\n",
    "    optim_kwargs = {\n",
    "        \"lr\": 0.0005,\n",
    "        \"elasticity\": 1.0,\n",
    "        \"temperature\": \"adaptive\",\n",
    "        \"num_samples\": len(train_data),\n",
    "        \"save_noise\": True,\n",
    "    }\n",
    "    \n",
    "    if callbacks is None:\n",
    "        llc_estimator = OnlineLLCEstimator(NUM_CHAINS, NUM_DRAWS, len(train_loader.dataset), device=DEVICE)\n",
    "        callbacks = [llc_estimator]\n",
    "        \n",
    "    sample(\n",
    "        model=model,\n",
    "        loader=train_loader,\n",
    "        criterion=CRITERION,\n",
    "        optimizer_kwargs=optim_kwargs,\n",
    "        sampling_method=SGLD,\n",
    "        num_chains=NUM_CHAINS,\n",
    "        num_draws=NUM_DRAWS,\n",
    "        callbacks=callbacks,\n",
    "        device=device\n",
    "    )\n",
    "\n",
    "    results = {}\n",
    "\n",
    "    for callback in callbacks:\n",
    "        if hasattr(callback, \"sample\"):\n",
    "            results.update(callback.sample())\n",
    "\n",
    "    return results\n",
    "\n",
    "\n",
    "def get_rlct(\n",
    "    train_loader,\n",
    "    train_data,\n",
    "    weights=[0.0, 0.0],\n",
    "    lr=0.0005,\n",
    "    powers=torch.tensor([1, 2]).to(DEVICE),\n",
    "    device=DEVICE\n",
    "):\n",
    "    llc_estimator = OnlineLLCEstimator(NUM_CHAINS, NUM_DRAWS, len(train_loader.dataset), device=DEVICE)\n",
    "    callbacks = [llc_estimator]\n",
    "    return run_callbacks(\n",
    "        train_loader=train_loader,\n",
    "        train_data=train_data,\n",
    "        weights=weights,\n",
    "        powers=torch.tensor([1, 2]).to(DEVICE),\n",
    "        callbacks=callbacks,\n",
    "        device=DEVICE\n",
    "    )[\"llc/means\"][-1].item()"
   ]
  },
  {
   "cell_type": "markdown",
   "id": "c0809e61-0a07-46e2-a89a-bf3ed9c76577",
   "metadata": {},
   "source": [
    "## Testing RLCT estimation\n",
    "\n",
    "Let's start with estimating some RLCTs at known values for a simple normal crossing with $(a, b) = (1, 2)$."
   ]
  },
  {
   "cell_type": "code",
   "execution_count": null,
   "id": "00f8f5f1-4699-47b4-9a5e-8dba737de9e6",
   "metadata": {},
   "outputs": [
    {
     "name": "stdout",
     "output_type": "stream",
     "text": [
      "Unexpected exception formatting exception. Falling back to standard exception\n"
     ]
    },
    {
     "name": "stderr",
     "output_type": "stream",
     "text": [
      "Traceback (most recent call last):\n",
      "  File \"/home/paperspace/devinterp/.venv/lib/python3.8/site-packages/IPython/core/interactiveshell.py\", line 3508, in run_code\n",
      "  File \"/tmp/ipykernel_3494/463679980.py\", line 1, in <module>\n",
      "    train_loader, train_data = generate_dataset_for_seed(seed=0)\n",
      "NameError: name 'generate_dataset_for_seed' is not defined\n",
      "\n",
      "During handling of the above exception, another exception occurred:\n",
      "\n",
      "Traceback (most recent call last):\n",
      "  File \"/home/paperspace/devinterp/.venv/lib/python3.8/site-packages/pygments/styles/__init__.py\", line 45, in get_style_by_name\n",
      "ModuleNotFoundError: No module named 'pygments.styles.default'\n",
      "\n",
      "During handling of the above exception, another exception occurred:\n",
      "\n",
      "Traceback (most recent call last):\n",
      "  File \"/home/paperspace/devinterp/.venv/lib/python3.8/site-packages/IPython/core/interactiveshell.py\", line 2105, in showtraceback\n",
      "  File \"/home/paperspace/devinterp/.venv/lib/python3.8/site-packages/IPython/core/ultratb.py\", line 1396, in structured_traceback\n",
      "  File \"/home/paperspace/devinterp/.venv/lib/python3.8/site-packages/IPython/core/ultratb.py\", line 1287, in structured_traceback\n",
      "  File \"/home/paperspace/devinterp/.venv/lib/python3.8/site-packages/IPython/core/ultratb.py\", line 1140, in structured_traceback\n",
      "  File \"/home/paperspace/devinterp/.venv/lib/python3.8/site-packages/IPython/core/ultratb.py\", line 1030, in format_exception_as_a_whole\n",
      "  File \"/home/paperspace/devinterp/.venv/lib/python3.8/site-packages/IPython/core/ultratb.py\", line 1081, in get_records\n",
      "  File \"/home/paperspace/devinterp/.venv/lib/python3.8/site-packages/pygments/styles/__init__.py\", line 47, in get_style_by_name\n",
      "pygments.util.ClassNotFound: Could not find style module 'pygments.styles.default', though it should be builtin.\n"
     ]
    }
   ],
   "source": [
    "train_loader, train_data = generate_dataset_for_seed(seed=0)"
   ]
  },
  {
   "cell_type": "code",
   "execution_count": null,
   "id": "cbb105d5-98ca-4770-876c-3726d3ef3345",
   "metadata": {
    "scrolled": true
   },
   "outputs": [
    {
     "name": "stdout",
     "output_type": "stream",
     "text": [
      "Unexpected exception formatting exception. Falling back to standard exception\n"
     ]
    },
    {
     "name": "stderr",
     "output_type": "stream",
     "text": [
      "Traceback (most recent call last):\n",
      "  File \"/home/paperspace/devinterp/.venv/lib/python3.8/site-packages/IPython/core/interactiveshell.py\", line 3508, in run_code\n",
      "  File \"/tmp/ipykernel_3494/3843568791.py\", line 3, in <module>\n",
      "    estimated_rlcts = [\n",
      "  File \"/tmp/ipykernel_3494/3843568791.py\", line 4, in <listcomp>\n",
      "    get_rlct(train_loader, train_data, weights=sample_point)\n",
      "NameError: name 'get_rlct' is not defined\n",
      "\n",
      "During handling of the above exception, another exception occurred:\n",
      "\n",
      "Traceback (most recent call last):\n",
      "  File \"/home/paperspace/devinterp/.venv/lib/python3.8/site-packages/pygments/styles/__init__.py\", line 45, in get_style_by_name\n",
      "ModuleNotFoundError: No module named 'pygments.styles.default'\n",
      "\n",
      "During handling of the above exception, another exception occurred:\n",
      "\n",
      "Traceback (most recent call last):\n",
      "  File \"/home/paperspace/devinterp/.venv/lib/python3.8/site-packages/IPython/core/interactiveshell.py\", line 2105, in showtraceback\n",
      "  File \"/home/paperspace/devinterp/.venv/lib/python3.8/site-packages/IPython/core/ultratb.py\", line 1396, in structured_traceback\n",
      "  File \"/home/paperspace/devinterp/.venv/lib/python3.8/site-packages/IPython/core/ultratb.py\", line 1287, in structured_traceback\n",
      "  File \"/home/paperspace/devinterp/.venv/lib/python3.8/site-packages/IPython/core/ultratb.py\", line 1140, in structured_traceback\n",
      "  File \"/home/paperspace/devinterp/.venv/lib/python3.8/site-packages/IPython/core/ultratb.py\", line 1030, in format_exception_as_a_whole\n",
      "  File \"/home/paperspace/devinterp/.venv/lib/python3.8/site-packages/IPython/core/ultratb.py\", line 1081, in get_records\n",
      "  File \"/home/paperspace/devinterp/.venv/lib/python3.8/site-packages/pygments/styles/__init__.py\", line 47, in get_style_by_name\n",
      "pygments.util.ClassNotFound: Could not find style module 'pygments.styles.default', though it should be builtin.\n"
     ]
    }
   ],
   "source": [
    "sample_points = [[0.0, 0.0], [1.0, 0.0], [0.0, 1.0], [0.1, 0.1]]\n",
    "known_rlcts = [0.25, 0.25, 0.5, 0.25]\n",
    "estimated_rlcts = [\n",
    "    get_rlct(train_loader, train_data, weights=sample_point)\n",
    "    for sample_point in sample_points\n",
    "]"
   ]
  },
  {
   "cell_type": "code",
   "execution_count": null,
   "id": "af7d09ef-1dd5-4066-9b28-7f239173b178",
   "metadata": {},
   "outputs": [
    {
     "name": "stdout",
     "output_type": "stream",
     "text": [
      "Unexpected exception formatting exception. Falling back to standard exception\n"
     ]
    },
    {
     "name": "stderr",
     "output_type": "stream",
     "text": [
      "Traceback (most recent call last):\n",
      "  File \"/home/paperspace/devinterp/.venv/lib/python3.8/site-packages/IPython/core/interactiveshell.py\", line 3508, in run_code\n",
      "  File \"/tmp/ipykernel_3494/2040963822.py\", line 1, in <module>\n",
      "    estimated_rlcts\n",
      "NameError: name 'estimated_rlcts' is not defined\n",
      "\n",
      "During handling of the above exception, another exception occurred:\n",
      "\n",
      "Traceback (most recent call last):\n",
      "  File \"/home/paperspace/devinterp/.venv/lib/python3.8/site-packages/pygments/styles/__init__.py\", line 45, in get_style_by_name\n",
      "ModuleNotFoundError: No module named 'pygments.styles.default'\n",
      "\n",
      "During handling of the above exception, another exception occurred:\n",
      "\n",
      "Traceback (most recent call last):\n",
      "  File \"/home/paperspace/devinterp/.venv/lib/python3.8/site-packages/IPython/core/interactiveshell.py\", line 2105, in showtraceback\n",
      "  File \"/home/paperspace/devinterp/.venv/lib/python3.8/site-packages/IPython/core/ultratb.py\", line 1396, in structured_traceback\n",
      "  File \"/home/paperspace/devinterp/.venv/lib/python3.8/site-packages/IPython/core/ultratb.py\", line 1287, in structured_traceback\n",
      "  File \"/home/paperspace/devinterp/.venv/lib/python3.8/site-packages/IPython/core/ultratb.py\", line 1140, in structured_traceback\n",
      "  File \"/home/paperspace/devinterp/.venv/lib/python3.8/site-packages/IPython/core/ultratb.py\", line 1030, in format_exception_as_a_whole\n",
      "  File \"/home/paperspace/devinterp/.venv/lib/python3.8/site-packages/IPython/core/ultratb.py\", line 1081, in get_records\n",
      "  File \"/home/paperspace/devinterp/.venv/lib/python3.8/site-packages/pygments/styles/__init__.py\", line 47, in get_style_by_name\n",
      "pygments.util.ClassNotFound: Could not find style module 'pygments.styles.default', though it should be builtin.\n"
     ]
    }
   ],
   "source": [
    "estimated_rlcts"
   ]
  },
  {
   "cell_type": "markdown",
   "id": "5b0d6d4f-8cd0-403d-92eb-4e5317f411ca",
   "metadata": {},
   "source": [
    "## SamplerCallbacks\n",
    "\n",
    "RLCT estimation uses a `SamplerCallback` class. A list of `SamplerCallback`s can be passed to `sample`, which causes each callback to be called at each draw made by the sampler for each chain. RLCT estimation passes a single `SamplerCallback`, `LLCEstimator` or `OnlineLLCEstimator` to `sample`.\n",
    "\n",
    "Another such `SamplerCallback` is the `OnlineWBICEstimator`."
   ]
  },
  {
   "cell_type": "code",
   "execution_count": null,
   "id": "d5b76127-8ce6-4677-bdae-d8a1a763f581",
   "metadata": {},
   "outputs": [
    {
     "name": "stdout",
     "output_type": "stream",
     "text": [
      "Unexpected exception formatting exception. Falling back to standard exception\n"
     ]
    },
    {
     "name": "stderr",
     "output_type": "stream",
     "text": [
      "Traceback (most recent call last):\n",
      "  File \"/home/paperspace/devinterp/.venv/lib/python3.8/site-packages/IPython/core/interactiveshell.py\", line 3508, in run_code\n",
      "  File \"/tmp/ipykernel_3494/4119021706.py\", line 1, in <module>\n",
      "    from devinterp.slt.wbic import OnlineWBICEstimator\n",
      "ModuleNotFoundError: No module named 'devinterp'\n",
      "\n",
      "During handling of the above exception, another exception occurred:\n",
      "\n",
      "Traceback (most recent call last):\n",
      "  File \"/home/paperspace/devinterp/.venv/lib/python3.8/site-packages/pygments/styles/__init__.py\", line 45, in get_style_by_name\n",
      "ModuleNotFoundError: No module named 'pygments.styles.default'\n",
      "\n",
      "During handling of the above exception, another exception occurred:\n",
      "\n",
      "Traceback (most recent call last):\n",
      "  File \"/home/paperspace/devinterp/.venv/lib/python3.8/site-packages/IPython/core/interactiveshell.py\", line 2105, in showtraceback\n",
      "  File \"/home/paperspace/devinterp/.venv/lib/python3.8/site-packages/IPython/core/ultratb.py\", line 1396, in structured_traceback\n",
      "  File \"/home/paperspace/devinterp/.venv/lib/python3.8/site-packages/IPython/core/ultratb.py\", line 1287, in structured_traceback\n",
      "  File \"/home/paperspace/devinterp/.venv/lib/python3.8/site-packages/IPython/core/ultratb.py\", line 1140, in structured_traceback\n",
      "  File \"/home/paperspace/devinterp/.venv/lib/python3.8/site-packages/IPython/core/ultratb.py\", line 1030, in format_exception_as_a_whole\n",
      "  File \"/home/paperspace/devinterp/.venv/lib/python3.8/site-packages/IPython/core/ultratb.py\", line 1081, in get_records\n",
      "  File \"/home/paperspace/devinterp/.venv/lib/python3.8/site-packages/pygments/styles/__init__.py\", line 47, in get_style_by_name\n",
      "pygments.util.ClassNotFound: Could not find style module 'pygments.styles.default', though it should be builtin.\n"
     ]
    }
   ],
   "source": [
    "from devinterp.slt.wbic import OnlineWBICEstimator\n",
    "\n",
    "wbic_estimator = OnlineWBICEstimator(\n",
    "    num_chains=NUM_CHAINS, \n",
    "    num_draws=NUM_DRAWS, \n",
    "    n=NUM_TRAIN_SAMPLES,\n",
    "    device=DEVICE\n",
    ")\n",
    "\n",
    "train_loader, train_data = generate_dataset_for_seed(seed=0)\n",
    "\n",
    "results = run_callbacks(train_loader, train_data, weights=[0.0, 0.0], callbacks=[wbic_estimator])"
   ]
  },
  {
   "cell_type": "code",
   "execution_count": null,
   "id": "e2529a93-6376-40c8-a0a9-0ddd85005522",
   "metadata": {},
   "outputs": [
    {
     "name": "stdout",
     "output_type": "stream",
     "text": [
      "Unexpected exception formatting exception. Falling back to standard exception\n"
     ]
    },
    {
     "name": "stderr",
     "output_type": "stream",
     "text": [
      "Traceback (most recent call last):\n",
      "  File \"/home/paperspace/devinterp/.venv/lib/python3.8/site-packages/IPython/core/interactiveshell.py\", line 3508, in run_code\n",
      "  File \"/tmp/ipykernel_3494/3289545065.py\", line 2, in <module>\n",
      "    results['wbic/means'][-1]\n",
      "NameError: name 'results' is not defined\n",
      "\n",
      "During handling of the above exception, another exception occurred:\n",
      "\n",
      "Traceback (most recent call last):\n",
      "  File \"/home/paperspace/devinterp/.venv/lib/python3.8/site-packages/pygments/styles/__init__.py\", line 45, in get_style_by_name\n",
      "ModuleNotFoundError: No module named 'pygments.styles.default'\n",
      "\n",
      "During handling of the above exception, another exception occurred:\n",
      "\n",
      "Traceback (most recent call last):\n",
      "  File \"/home/paperspace/devinterp/.venv/lib/python3.8/site-packages/IPython/core/interactiveshell.py\", line 2105, in showtraceback\n",
      "  File \"/home/paperspace/devinterp/.venv/lib/python3.8/site-packages/IPython/core/ultratb.py\", line 1396, in structured_traceback\n",
      "  File \"/home/paperspace/devinterp/.venv/lib/python3.8/site-packages/IPython/core/ultratb.py\", line 1287, in structured_traceback\n",
      "  File \"/home/paperspace/devinterp/.venv/lib/python3.8/site-packages/IPython/core/ultratb.py\", line 1140, in structured_traceback\n",
      "  File \"/home/paperspace/devinterp/.venv/lib/python3.8/site-packages/IPython/core/ultratb.py\", line 1030, in format_exception_as_a_whole\n",
      "  File \"/home/paperspace/devinterp/.venv/lib/python3.8/site-packages/IPython/core/ultratb.py\", line 1081, in get_records\n",
      "  File \"/home/paperspace/devinterp/.venv/lib/python3.8/site-packages/pygments/styles/__init__.py\", line 47, in get_style_by_name\n",
      "pygments.util.ClassNotFound: Could not find style module 'pygments.styles.default', though it should be builtin.\n"
     ]
    }
   ],
   "source": [
    "# final WBIC estimation\n",
    "results['wbic/means'][-1]"
   ]
  },
  {
   "cell_type": "markdown",
   "id": "db2f14ff-b331-4d76-97c0-b9a780bfdf97",
   "metadata": {},
   "source": [
    "The trace of a sampled statistic is an array of shape `[NUM_CHAINS, NUM_DRAWS]`, where the `[i, j]` entry is the value computed by the `SamplerCallback` at the *j*th draw of the *i*th chain.\n",
    "\n",
    "It can sometimes be useful to plot the trace as a sanity check and to see where things might be going wrong. In the following graph, the estimated WBIC values level off and appear to converge, which is what we'd expect to see."
   ]
  },
  {
   "cell_type": "code",
   "execution_count": null,
   "id": "ec99530d-6502-4ebb-9d07-659bc1e90c3c",
   "metadata": {},
   "outputs": [
    {
     "name": "stdout",
     "output_type": "stream",
     "text": [
      "Unexpected exception formatting exception. Falling back to standard exception\n"
     ]
    },
    {
     "name": "stderr",
     "output_type": "stream",
     "text": [
      "Traceback (most recent call last):\n",
      "  File \"/home/paperspace/devinterp/.venv/lib/python3.8/site-packages/IPython/core/interactiveshell.py\", line 3508, in run_code\n",
      "  File \"/tmp/ipykernel_3494/2190568803.py\", line 1, in <module>\n",
      "    wbic_trace = results['wbic/trace']\n",
      "NameError: name 'results' is not defined\n",
      "\n",
      "During handling of the above exception, another exception occurred:\n",
      "\n",
      "Traceback (most recent call last):\n",
      "  File \"/home/paperspace/devinterp/.venv/lib/python3.8/site-packages/pygments/styles/__init__.py\", line 45, in get_style_by_name\n",
      "ModuleNotFoundError: No module named 'pygments.styles.default'\n",
      "\n",
      "During handling of the above exception, another exception occurred:\n",
      "\n",
      "Traceback (most recent call last):\n",
      "  File \"/home/paperspace/devinterp/.venv/lib/python3.8/site-packages/IPython/core/interactiveshell.py\", line 2105, in showtraceback\n",
      "  File \"/home/paperspace/devinterp/.venv/lib/python3.8/site-packages/IPython/core/ultratb.py\", line 1396, in structured_traceback\n",
      "  File \"/home/paperspace/devinterp/.venv/lib/python3.8/site-packages/IPython/core/ultratb.py\", line 1287, in structured_traceback\n",
      "  File \"/home/paperspace/devinterp/.venv/lib/python3.8/site-packages/IPython/core/ultratb.py\", line 1140, in structured_traceback\n",
      "  File \"/home/paperspace/devinterp/.venv/lib/python3.8/site-packages/IPython/core/ultratb.py\", line 1030, in format_exception_as_a_whole\n",
      "  File \"/home/paperspace/devinterp/.venv/lib/python3.8/site-packages/IPython/core/ultratb.py\", line 1081, in get_records\n",
      "  File \"/home/paperspace/devinterp/.venv/lib/python3.8/site-packages/pygments/styles/__init__.py\", line 47, in get_style_by_name\n",
      "pygments.util.ClassNotFound: Could not find style module 'pygments.styles.default', though it should be builtin.\n"
     ]
    }
   ],
   "source": [
    "wbic_trace = results['wbic/trace']\n",
    "plot_trace(wbic_trace, 'WBIC')"
   ]
  },
  {
   "cell_type": "markdown",
   "id": "5154b2f2-6797-4294-93c4-d79dfdb8f94d",
   "metadata": {},
   "source": [
    "## Other diagnostics\n",
    "\n",
    "There are various diagnostic tools implemented as `SamplerCallback`s. Some are regular `SamplerCallback`s that can be passed to `sample` on their own, and others are \"derivative\" callbacks that run diagnostics on a particular `SamplerCallback` instance.\n",
    "\n",
    "Regular implementations:\n",
    "- `OnlineWBICEstimator`: estimates WBIC (seen above)\n",
    "- `WeightNorm`: track the L2 norm of model weights during sampling\n",
    "- `GradientNorm`: track the L2 norm of gradients during sampling\n",
    "- `NoiseNorm`: track the L2 norm of SGLD noise term during sampling\n",
    "  - (n.b. in order to compute the noise norm, you must pass `save_noise=True` to the SGLD optimizer)\n",
    "- `GradientDistribution`: view a histogram/heatmap of gradient values at each SGLD step for specific named model parameters -- useful e.g. for checking that gradients haven't exploded or collapsed\n",
    "\n",
    "Derivative implementations:\n",
    "- `OnlineTraceStatistics`: compute the mean/std of the trace of another `SamplerCallback` across draws and across chains\n",
    "- `OnlineLossStatistics`: computes various loss statistics for `OnlineLLCEstimator`\n",
    "\n",
    "Additionally, since derivative callbacks depend on a base callback, they must be positioned later in the list of callbacks so that they're called after the base callback. A helper function `validate_callbacks` checks whether a list of callbacks satisfies this condition."
   ]
  },
  {
   "cell_type": "markdown",
   "id": "c34cf213-a337-41ae-8ae3-a541190200e3",
   "metadata": {},
   "source": [
    "### WeightNorm, GradientNorm, NoiseNorm examples"
   ]
  },
  {
   "cell_type": "code",
   "execution_count": null,
   "id": "b2b3d904-3795-4354-a273-ea9a3461eafe",
   "metadata": {},
   "outputs": [
    {
     "name": "stdout",
     "output_type": "stream",
     "text": [
      "Unexpected exception formatting exception. Falling back to standard exception\n"
     ]
    },
    {
     "name": "stderr",
     "output_type": "stream",
     "text": [
      "Traceback (most recent call last):\n",
      "  File \"/home/paperspace/devinterp/.venv/lib/python3.8/site-packages/IPython/core/interactiveshell.py\", line 3508, in run_code\n",
      "  File \"/tmp/ipykernel_3494/1826400693.py\", line 1, in <module>\n",
      "    from devinterp.slt.norms import GradientNorm, NoiseNorm, WeightNorm\n",
      "ModuleNotFoundError: No module named 'devinterp'\n",
      "\n",
      "During handling of the above exception, another exception occurred:\n",
      "\n",
      "Traceback (most recent call last):\n",
      "  File \"/home/paperspace/devinterp/.venv/lib/python3.8/site-packages/pygments/styles/__init__.py\", line 45, in get_style_by_name\n",
      "ModuleNotFoundError: No module named 'pygments.styles.default'\n",
      "\n",
      "During handling of the above exception, another exception occurred:\n",
      "\n",
      "Traceback (most recent call last):\n",
      "  File \"/home/paperspace/devinterp/.venv/lib/python3.8/site-packages/IPython/core/interactiveshell.py\", line 2105, in showtraceback\n",
      "  File \"/home/paperspace/devinterp/.venv/lib/python3.8/site-packages/IPython/core/ultratb.py\", line 1396, in structured_traceback\n",
      "  File \"/home/paperspace/devinterp/.venv/lib/python3.8/site-packages/IPython/core/ultratb.py\", line 1287, in structured_traceback\n",
      "  File \"/home/paperspace/devinterp/.venv/lib/python3.8/site-packages/IPython/core/ultratb.py\", line 1140, in structured_traceback\n",
      "  File \"/home/paperspace/devinterp/.venv/lib/python3.8/site-packages/IPython/core/ultratb.py\", line 1030, in format_exception_as_a_whole\n",
      "  File \"/home/paperspace/devinterp/.venv/lib/python3.8/site-packages/IPython/core/ultratb.py\", line 1081, in get_records\n",
      "  File \"/home/paperspace/devinterp/.venv/lib/python3.8/site-packages/pygments/styles/__init__.py\", line 47, in get_style_by_name\n",
      "pygments.util.ClassNotFound: Could not find style module 'pygments.styles.default', though it should be builtin.\n"
     ]
    }
   ],
   "source": [
    "from devinterp.slt.norms import GradientNorm, NoiseNorm, WeightNorm\n",
    "\n",
    "gradient_norm = GradientNorm(num_chains=NUM_CHAINS, num_draws=NUM_DRAWS, device=DEVICE)\n",
    "noise_norm = NoiseNorm(num_chains=NUM_CHAINS, num_draws=NUM_DRAWS, device=DEVICE)\n",
    "weight_norm = WeightNorm(num_chains=NUM_CHAINS, num_draws=NUM_DRAWS, device=DEVICE)\n",
    "\n",
    "norm_callbacks = [gradient_norm, noise_norm, weight_norm]\n",
    "\n",
    "train_loader, train_data = generate_dataset_for_seed(seed=0)\n",
    "\n",
    "results = run_callbacks(train_loader, train_data, weights=[0.0, 0.0], callbacks=norm_callbacks)"
   ]
  },
  {
   "cell_type": "markdown",
   "id": "a532e98c-74eb-4793-a009-26e07f85b59a",
   "metadata": {},
   "source": [
    "The norms are stored as traces that we can plot below. It may be useful to, for example, compare the gradient norm and noise norm to ensure one isn't completely dominating the other. The weight trace can also be helpful to check whether the sampler appears to be spreading out in the weight space."
   ]
  },
  {
   "cell_type": "code",
   "execution_count": null,
   "id": "cebd78d6-413b-445a-94f5-3bb87f60aef1",
   "metadata": {},
   "outputs": [
    {
     "name": "stdout",
     "output_type": "stream",
     "text": [
      "Unexpected exception formatting exception. Falling back to standard exception\n"
     ]
    },
    {
     "name": "stderr",
     "output_type": "stream",
     "text": [
      "Traceback (most recent call last):\n",
      "  File \"/home/paperspace/devinterp/.venv/lib/python3.8/site-packages/IPython/core/interactiveshell.py\", line 3508, in run_code\n",
      "  File \"/tmp/ipykernel_3494/3553741462.py\", line 1, in <module>\n",
      "    grad_trace = results['gradient_norm/trace']\n",
      "NameError: name 'results' is not defined\n",
      "\n",
      "During handling of the above exception, another exception occurred:\n",
      "\n",
      "Traceback (most recent call last):\n",
      "  File \"/home/paperspace/devinterp/.venv/lib/python3.8/site-packages/pygments/styles/__init__.py\", line 45, in get_style_by_name\n",
      "ModuleNotFoundError: No module named 'pygments.styles.default'\n",
      "\n",
      "During handling of the above exception, another exception occurred:\n",
      "\n",
      "Traceback (most recent call last):\n",
      "  File \"/home/paperspace/devinterp/.venv/lib/python3.8/site-packages/IPython/core/interactiveshell.py\", line 2105, in showtraceback\n",
      "  File \"/home/paperspace/devinterp/.venv/lib/python3.8/site-packages/IPython/core/ultratb.py\", line 1396, in structured_traceback\n",
      "  File \"/home/paperspace/devinterp/.venv/lib/python3.8/site-packages/IPython/core/ultratb.py\", line 1287, in structured_traceback\n",
      "  File \"/home/paperspace/devinterp/.venv/lib/python3.8/site-packages/IPython/core/ultratb.py\", line 1140, in structured_traceback\n",
      "  File \"/home/paperspace/devinterp/.venv/lib/python3.8/site-packages/IPython/core/ultratb.py\", line 1030, in format_exception_as_a_whole\n",
      "  File \"/home/paperspace/devinterp/.venv/lib/python3.8/site-packages/IPython/core/ultratb.py\", line 1081, in get_records\n",
      "  File \"/home/paperspace/devinterp/.venv/lib/python3.8/site-packages/pygments/styles/__init__.py\", line 47, in get_style_by_name\n",
      "pygments.util.ClassNotFound: Could not find style module 'pygments.styles.default', though it should be builtin.\n"
     ]
    }
   ],
   "source": [
    "grad_trace = results['gradient_norm/trace']\n",
    "noise_trace = results['noise_norm/trace']\n",
    "weight_trace = results['weight_norm/trace']"
   ]
  },
  {
   "cell_type": "code",
   "execution_count": null,
   "id": "913bd9ee-668b-46d4-a5df-b75f2ee030db",
   "metadata": {},
   "outputs": [
    {
     "name": "stdout",
     "output_type": "stream",
     "text": [
      "Unexpected exception formatting exception. Falling back to standard exception\n"
     ]
    },
    {
     "name": "stderr",
     "output_type": "stream",
     "text": [
      "Traceback (most recent call last):\n",
      "  File \"/home/paperspace/devinterp/.venv/lib/python3.8/site-packages/IPython/core/interactiveshell.py\", line 3508, in run_code\n",
      "  File \"/tmp/ipykernel_3494/1471127766.py\", line 1, in <module>\n",
      "    plot_trace(grad_trace, 'gradient norm')\n",
      "NameError: name 'plot_trace' is not defined\n",
      "\n",
      "During handling of the above exception, another exception occurred:\n",
      "\n",
      "Traceback (most recent call last):\n",
      "  File \"/home/paperspace/devinterp/.venv/lib/python3.8/site-packages/pygments/styles/__init__.py\", line 45, in get_style_by_name\n",
      "ModuleNotFoundError: No module named 'pygments.styles.default'\n",
      "\n",
      "During handling of the above exception, another exception occurred:\n",
      "\n",
      "Traceback (most recent call last):\n",
      "  File \"/home/paperspace/devinterp/.venv/lib/python3.8/site-packages/IPython/core/interactiveshell.py\", line 2105, in showtraceback\n",
      "  File \"/home/paperspace/devinterp/.venv/lib/python3.8/site-packages/IPython/core/ultratb.py\", line 1396, in structured_traceback\n",
      "  File \"/home/paperspace/devinterp/.venv/lib/python3.8/site-packages/IPython/core/ultratb.py\", line 1287, in structured_traceback\n",
      "  File \"/home/paperspace/devinterp/.venv/lib/python3.8/site-packages/IPython/core/ultratb.py\", line 1140, in structured_traceback\n",
      "  File \"/home/paperspace/devinterp/.venv/lib/python3.8/site-packages/IPython/core/ultratb.py\", line 1030, in format_exception_as_a_whole\n",
      "  File \"/home/paperspace/devinterp/.venv/lib/python3.8/site-packages/IPython/core/ultratb.py\", line 1081, in get_records\n",
      "  File \"/home/paperspace/devinterp/.venv/lib/python3.8/site-packages/pygments/styles/__init__.py\", line 47, in get_style_by_name\n",
      "pygments.util.ClassNotFound: Could not find style module 'pygments.styles.default', though it should be builtin.\n"
     ]
    }
   ],
   "source": [
    "plot_trace(grad_trace, 'gradient norm')"
   ]
  },
  {
   "cell_type": "code",
   "execution_count": null,
   "id": "668cd03a-fe4d-47bb-a0e6-ae90587333d4",
   "metadata": {},
   "outputs": [
    {
     "name": "stdout",
     "output_type": "stream",
     "text": [
      "Unexpected exception formatting exception. Falling back to standard exception\n"
     ]
    },
    {
     "name": "stderr",
     "output_type": "stream",
     "text": [
      "Traceback (most recent call last):\n",
      "  File \"/home/paperspace/devinterp/.venv/lib/python3.8/site-packages/IPython/core/interactiveshell.py\", line 3508, in run_code\n",
      "  File \"/tmp/ipykernel_3494/2654678513.py\", line 1, in <module>\n",
      "    plot_trace(noise_trace, 'noise norm')\n",
      "NameError: name 'plot_trace' is not defined\n",
      "\n",
      "During handling of the above exception, another exception occurred:\n",
      "\n",
      "Traceback (most recent call last):\n",
      "  File \"/home/paperspace/devinterp/.venv/lib/python3.8/site-packages/pygments/styles/__init__.py\", line 45, in get_style_by_name\n",
      "ModuleNotFoundError: No module named 'pygments.styles.default'\n",
      "\n",
      "During handling of the above exception, another exception occurred:\n",
      "\n",
      "Traceback (most recent call last):\n",
      "  File \"/home/paperspace/devinterp/.venv/lib/python3.8/site-packages/IPython/core/interactiveshell.py\", line 2105, in showtraceback\n",
      "  File \"/home/paperspace/devinterp/.venv/lib/python3.8/site-packages/IPython/core/ultratb.py\", line 1396, in structured_traceback\n",
      "  File \"/home/paperspace/devinterp/.venv/lib/python3.8/site-packages/IPython/core/ultratb.py\", line 1287, in structured_traceback\n",
      "  File \"/home/paperspace/devinterp/.venv/lib/python3.8/site-packages/IPython/core/ultratb.py\", line 1140, in structured_traceback\n",
      "  File \"/home/paperspace/devinterp/.venv/lib/python3.8/site-packages/IPython/core/ultratb.py\", line 1030, in format_exception_as_a_whole\n",
      "  File \"/home/paperspace/devinterp/.venv/lib/python3.8/site-packages/IPython/core/ultratb.py\", line 1081, in get_records\n",
      "  File \"/home/paperspace/devinterp/.venv/lib/python3.8/site-packages/pygments/styles/__init__.py\", line 47, in get_style_by_name\n",
      "pygments.util.ClassNotFound: Could not find style module 'pygments.styles.default', though it should be builtin.\n"
     ]
    }
   ],
   "source": [
    "plot_trace(noise_trace, 'noise norm')"
   ]
  },
  {
   "cell_type": "code",
   "execution_count": null,
   "id": "ca763565-8027-48f1-a3d2-17eae94b6521",
   "metadata": {},
   "outputs": [
    {
     "name": "stdout",
     "output_type": "stream",
     "text": [
      "Unexpected exception formatting exception. Falling back to standard exception\n"
     ]
    },
    {
     "name": "stderr",
     "output_type": "stream",
     "text": [
      "Traceback (most recent call last):\n",
      "  File \"/home/paperspace/devinterp/.venv/lib/python3.8/site-packages/IPython/core/interactiveshell.py\", line 3508, in run_code\n",
      "  File \"/tmp/ipykernel_3494/601126102.py\", line 2, in <module>\n",
      "    plot_trace(weight_trace, 'weight_norm')\n",
      "NameError: name 'plot_trace' is not defined\n",
      "\n",
      "During handling of the above exception, another exception occurred:\n",
      "\n",
      "Traceback (most recent call last):\n",
      "  File \"/home/paperspace/devinterp/.venv/lib/python3.8/site-packages/pygments/styles/__init__.py\", line 45, in get_style_by_name\n",
      "ModuleNotFoundError: No module named 'pygments.styles.default'\n",
      "\n",
      "During handling of the above exception, another exception occurred:\n",
      "\n",
      "Traceback (most recent call last):\n",
      "  File \"/home/paperspace/devinterp/.venv/lib/python3.8/site-packages/IPython/core/interactiveshell.py\", line 2105, in showtraceback\n",
      "  File \"/home/paperspace/devinterp/.venv/lib/python3.8/site-packages/IPython/core/ultratb.py\", line 1396, in structured_traceback\n",
      "  File \"/home/paperspace/devinterp/.venv/lib/python3.8/site-packages/IPython/core/ultratb.py\", line 1287, in structured_traceback\n",
      "  File \"/home/paperspace/devinterp/.venv/lib/python3.8/site-packages/IPython/core/ultratb.py\", line 1140, in structured_traceback\n",
      "  File \"/home/paperspace/devinterp/.venv/lib/python3.8/site-packages/IPython/core/ultratb.py\", line 1030, in format_exception_as_a_whole\n",
      "  File \"/home/paperspace/devinterp/.venv/lib/python3.8/site-packages/IPython/core/ultratb.py\", line 1081, in get_records\n",
      "  File \"/home/paperspace/devinterp/.venv/lib/python3.8/site-packages/pygments/styles/__init__.py\", line 47, in get_style_by_name\n",
      "pygments.util.ClassNotFound: Could not find style module 'pygments.styles.default', though it should be builtin.\n"
     ]
    }
   ],
   "source": [
    "# note: the weight norm starts near 0 in this graph because the weights are initialized to [0, 0]\n",
    "plot_trace(weight_trace, 'weight_norm')"
   ]
  },
  {
   "cell_type": "markdown",
   "id": "fb279db3-42cb-436a-8047-a545851bb3d0",
   "metadata": {},
   "source": [
    "### GradientDistribution"
   ]
  },
  {
   "cell_type": "markdown",
   "id": "2ebfba12-be24-4109-a025-bdc2befb4e30",
   "metadata": {},
   "source": [
    "`GradientDistribution` shows the histogram of gradient values at each SGLD time step, with a darker color indicating a bin with a higher count. Below, we can see that some gradient values are relatively large, but most cluster around 0 (the darker blue line). In this case, gradients don't seem to be exploding or collapsing during sampling."
   ]
  },
  {
   "cell_type": "code",
   "execution_count": null,
   "id": "d8716fc9-40a0-4183-a86c-d8a589e5d22e",
   "metadata": {},
   "outputs": [
    {
     "name": "stdout",
     "output_type": "stream",
     "text": [
      "Unexpected exception formatting exception. Falling back to standard exception\n"
     ]
    },
    {
     "name": "stderr",
     "output_type": "stream",
     "text": [
      "Traceback (most recent call last):\n",
      "  File \"/home/paperspace/devinterp/.venv/lib/python3.8/site-packages/IPython/core/interactiveshell.py\", line 3508, in run_code\n",
      "  File \"/tmp/ipykernel_3494/759089658.py\", line 1, in <module>\n",
      "    from devinterp.slt.gradient import GradientDistribution\n",
      "ModuleNotFoundError: No module named 'devinterp'\n",
      "\n",
      "During handling of the above exception, another exception occurred:\n",
      "\n",
      "Traceback (most recent call last):\n",
      "  File \"/home/paperspace/devinterp/.venv/lib/python3.8/site-packages/pygments/styles/__init__.py\", line 45, in get_style_by_name\n",
      "ModuleNotFoundError: No module named 'pygments.styles.default'\n",
      "\n",
      "During handling of the above exception, another exception occurred:\n",
      "\n",
      "Traceback (most recent call last):\n",
      "  File \"/home/paperspace/devinterp/.venv/lib/python3.8/site-packages/IPython/core/interactiveshell.py\", line 2105, in showtraceback\n",
      "  File \"/home/paperspace/devinterp/.venv/lib/python3.8/site-packages/IPython/core/ultratb.py\", line 1396, in structured_traceback\n",
      "  File \"/home/paperspace/devinterp/.venv/lib/python3.8/site-packages/IPython/core/ultratb.py\", line 1287, in structured_traceback\n",
      "  File \"/home/paperspace/devinterp/.venv/lib/python3.8/site-packages/IPython/core/ultratb.py\", line 1140, in structured_traceback\n",
      "  File \"/home/paperspace/devinterp/.venv/lib/python3.8/site-packages/IPython/core/ultratb.py\", line 1030, in format_exception_as_a_whole\n",
      "  File \"/home/paperspace/devinterp/.venv/lib/python3.8/site-packages/IPython/core/ultratb.py\", line 1081, in get_records\n",
      "  File \"/home/paperspace/devinterp/.venv/lib/python3.8/site-packages/pygments/styles/__init__.py\", line 47, in get_style_by_name\n",
      "pygments.util.ClassNotFound: Could not find style module 'pygments.styles.default', though it should be builtin.\n"
     ]
    }
   ],
   "source": [
    "from devinterp.slt.gradient import GradientDistribution\n",
    "\n",
    "grad_dist = GradientDistribution(num_chains=NUM_CHAINS, num_draws=NUM_DRAWS, min_bins=40)\n",
    "callbacks = [grad_dist]\n",
    "results = run_callbacks(train_loader, train_data, weights=[0.0, 0.0], callbacks=callbacks)"
   ]
  },
  {
   "cell_type": "code",
   "execution_count": null,
   "id": "f3a6bbbb-1e90-424f-b1e4-fdca1d600c5c",
   "metadata": {},
   "outputs": [
    {
     "name": "stdout",
     "output_type": "stream",
     "text": [
      "Unexpected exception formatting exception. Falling back to standard exception\n"
     ]
    },
    {
     "name": "stderr",
     "output_type": "stream",
     "text": [
      "Traceback (most recent call last):\n",
      "  File \"/home/paperspace/devinterp/.venv/lib/python3.8/site-packages/IPython/core/interactiveshell.py\", line 3508, in run_code\n",
      "  File \"/tmp/ipykernel_3494/2475940196.py\", line 1, in <module>\n",
      "    grad_dist.plot('weights')\n",
      "NameError: name 'grad_dist' is not defined\n",
      "\n",
      "During handling of the above exception, another exception occurred:\n",
      "\n",
      "Traceback (most recent call last):\n",
      "  File \"/home/paperspace/devinterp/.venv/lib/python3.8/site-packages/pygments/styles/__init__.py\", line 45, in get_style_by_name\n",
      "ModuleNotFoundError: No module named 'pygments.styles.default'\n",
      "\n",
      "During handling of the above exception, another exception occurred:\n",
      "\n",
      "Traceback (most recent call last):\n",
      "  File \"/home/paperspace/devinterp/.venv/lib/python3.8/site-packages/IPython/core/interactiveshell.py\", line 2105, in showtraceback\n",
      "  File \"/home/paperspace/devinterp/.venv/lib/python3.8/site-packages/IPython/core/ultratb.py\", line 1396, in structured_traceback\n",
      "  File \"/home/paperspace/devinterp/.venv/lib/python3.8/site-packages/IPython/core/ultratb.py\", line 1287, in structured_traceback\n",
      "  File \"/home/paperspace/devinterp/.venv/lib/python3.8/site-packages/IPython/core/ultratb.py\", line 1140, in structured_traceback\n",
      "  File \"/home/paperspace/devinterp/.venv/lib/python3.8/site-packages/IPython/core/ultratb.py\", line 1030, in format_exception_as_a_whole\n",
      "  File \"/home/paperspace/devinterp/.venv/lib/python3.8/site-packages/IPython/core/ultratb.py\", line 1081, in get_records\n",
      "  File \"/home/paperspace/devinterp/.venv/lib/python3.8/site-packages/pygments/styles/__init__.py\", line 47, in get_style_by_name\n",
      "pygments.util.ClassNotFound: Could not find style module 'pygments.styles.default', though it should be builtin.\n"
     ]
    }
   ],
   "source": [
    "grad_dist.plot('weights')"
   ]
  },
  {
   "cell_type": "markdown",
   "id": "4896006b-7f5e-4d3a-b460-0ee90c0bc8f5",
   "metadata": {},
   "source": [
    "### OnlineLossStatistics, OnlineTraceStatistics"
   ]
  },
  {
   "cell_type": "code",
   "execution_count": null,
   "id": "0bc6527a-f386-4d23-b7f0-96c251f7d9ad",
   "metadata": {},
   "outputs": [
    {
     "name": "stdout",
     "output_type": "stream",
     "text": [
      "Unexpected exception formatting exception. Falling back to standard exception\n"
     ]
    },
    {
     "name": "stderr",
     "output_type": "stream",
     "text": [
      "Traceback (most recent call last):\n",
      "  File \"/home/paperspace/devinterp/.venv/lib/python3.8/site-packages/IPython/core/interactiveshell.py\", line 3508, in run_code\n",
      "  File \"/tmp/ipykernel_3494/1511855963.py\", line 1, in <module>\n",
      "    from devinterp.slt.callback import validate_callbacks\n",
      "ModuleNotFoundError: No module named 'devinterp'\n",
      "\n",
      "During handling of the above exception, another exception occurred:\n",
      "\n",
      "Traceback (most recent call last):\n",
      "  File \"/home/paperspace/devinterp/.venv/lib/python3.8/site-packages/pygments/styles/__init__.py\", line 45, in get_style_by_name\n",
      "ModuleNotFoundError: No module named 'pygments.styles.default'\n",
      "\n",
      "During handling of the above exception, another exception occurred:\n",
      "\n",
      "Traceback (most recent call last):\n",
      "  File \"/home/paperspace/devinterp/.venv/lib/python3.8/site-packages/IPython/core/interactiveshell.py\", line 2105, in showtraceback\n",
      "  File \"/home/paperspace/devinterp/.venv/lib/python3.8/site-packages/IPython/core/ultratb.py\", line 1396, in structured_traceback\n",
      "  File \"/home/paperspace/devinterp/.venv/lib/python3.8/site-packages/IPython/core/ultratb.py\", line 1287, in structured_traceback\n",
      "  File \"/home/paperspace/devinterp/.venv/lib/python3.8/site-packages/IPython/core/ultratb.py\", line 1140, in structured_traceback\n",
      "  File \"/home/paperspace/devinterp/.venv/lib/python3.8/site-packages/IPython/core/ultratb.py\", line 1030, in format_exception_as_a_whole\n",
      "  File \"/home/paperspace/devinterp/.venv/lib/python3.8/site-packages/IPython/core/ultratb.py\", line 1081, in get_records\n",
      "  File \"/home/paperspace/devinterp/.venv/lib/python3.8/site-packages/pygments/styles/__init__.py\", line 47, in get_style_by_name\n",
      "pygments.util.ClassNotFound: Could not find style module 'pygments.styles.default', though it should be builtin.\n"
     ]
    }
   ],
   "source": [
    "from devinterp.slt.callback import validate_callbacks\n",
    "from devinterp.slt.loss import OnlineLossStatistics\n",
    "from devinterp.slt.norms import GradientNorm, NoiseNorm, WeightNorm\n",
    "from devinterp.slt.trace import OnlineTraceStatistics\n",
    "\n",
    "# llc estimator for OnlineLossStatistics\n",
    "llc_estimator = OnlineLLCEstimator(num_chains=NUM_CHAINS, num_draws=NUM_DRAWS, n=NUM_TRAIN_SAMPLES)\n",
    "loss_statistics = OnlineLossStatistics(base_callback=llc_estimator)\n",
    "\n",
    "# weight norm for OnlineTraceStatistics\n",
    "weight_norm = weight_norm = WeightNorm(num_chains=NUM_CHAINS, num_draws=NUM_DRAWS, device=DEVICE)\n",
    "trace_statistics = OnlineTraceStatistics(base_callback=weight_norm, attribute='weight_norms')"
   ]
  },
  {
   "cell_type": "code",
   "execution_count": null,
   "id": "d47e2934-4010-4f21-9686-d76375fe0274",
   "metadata": {},
   "outputs": [
    {
     "name": "stdout",
     "output_type": "stream",
     "text": [
      "Unexpected exception formatting exception. Falling back to standard exception\n"
     ]
    },
    {
     "name": "stderr",
     "output_type": "stream",
     "text": [
      "Traceback (most recent call last):\n",
      "  File \"/home/paperspace/devinterp/.venv/lib/python3.8/site-packages/IPython/core/interactiveshell.py\", line 3508, in run_code\n",
      "  File \"/tmp/ipykernel_3494/138070363.py\", line 2, in <module>\n",
      "    callbacks = [loss_statistics, llc_estimator]\n",
      "NameError: name 'loss_statistics' is not defined\n",
      "\n",
      "During handling of the above exception, another exception occurred:\n",
      "\n",
      "Traceback (most recent call last):\n",
      "  File \"/home/paperspace/devinterp/.venv/lib/python3.8/site-packages/pygments/styles/__init__.py\", line 45, in get_style_by_name\n",
      "ModuleNotFoundError: No module named 'pygments.styles.default'\n",
      "\n",
      "During handling of the above exception, another exception occurred:\n",
      "\n",
      "Traceback (most recent call last):\n",
      "  File \"/home/paperspace/devinterp/.venv/lib/python3.8/site-packages/IPython/core/interactiveshell.py\", line 2105, in showtraceback\n",
      "  File \"/home/paperspace/devinterp/.venv/lib/python3.8/site-packages/IPython/core/ultratb.py\", line 1396, in structured_traceback\n",
      "  File \"/home/paperspace/devinterp/.venv/lib/python3.8/site-packages/IPython/core/ultratb.py\", line 1287, in structured_traceback\n",
      "  File \"/home/paperspace/devinterp/.venv/lib/python3.8/site-packages/IPython/core/ultratb.py\", line 1140, in structured_traceback\n",
      "  File \"/home/paperspace/devinterp/.venv/lib/python3.8/site-packages/IPython/core/ultratb.py\", line 1030, in format_exception_as_a_whole\n",
      "  File \"/home/paperspace/devinterp/.venv/lib/python3.8/site-packages/IPython/core/ultratb.py\", line 1081, in get_records\n",
      "  File \"/home/paperspace/devinterp/.venv/lib/python3.8/site-packages/pygments/styles/__init__.py\", line 47, in get_style_by_name\n",
      "pygments.util.ClassNotFound: Could not find style module 'pygments.styles.default', though it should be builtin.\n"
     ]
    }
   ],
   "source": [
    "# validate_callbacks throws an error if you try to pass a derivative callback before its base callback\n",
    "callbacks = [loss_statistics, llc_estimator]\n",
    "validate_callbacks(callbacks)"
   ]
  },
  {
   "cell_type": "code",
   "execution_count": null,
   "id": "dc0da417-948e-4270-9c7f-c8a4c62f948d",
   "metadata": {},
   "outputs": [
    {
     "name": "stdout",
     "output_type": "stream",
     "text": [
      "Unexpected exception formatting exception. Falling back to standard exception\n"
     ]
    },
    {
     "name": "stderr",
     "output_type": "stream",
     "text": [
      "Traceback (most recent call last):\n",
      "  File \"/home/paperspace/devinterp/.venv/lib/python3.8/site-packages/IPython/core/interactiveshell.py\", line 3508, in run_code\n",
      "  File \"/tmp/ipykernel_3494/1498434145.py\", line 2, in <module>\n",
      "    callbacks = [llc_estimator, loss_statistics, weight_norm, trace_statistics]\n",
      "NameError: name 'llc_estimator' is not defined\n",
      "\n",
      "During handling of the above exception, another exception occurred:\n",
      "\n",
      "Traceback (most recent call last):\n",
      "  File \"/home/paperspace/devinterp/.venv/lib/python3.8/site-packages/pygments/styles/__init__.py\", line 45, in get_style_by_name\n",
      "ModuleNotFoundError: No module named 'pygments.styles.default'\n",
      "\n",
      "During handling of the above exception, another exception occurred:\n",
      "\n",
      "Traceback (most recent call last):\n",
      "  File \"/home/paperspace/devinterp/.venv/lib/python3.8/site-packages/IPython/core/interactiveshell.py\", line 2105, in showtraceback\n",
      "  File \"/home/paperspace/devinterp/.venv/lib/python3.8/site-packages/IPython/core/ultratb.py\", line 1396, in structured_traceback\n",
      "  File \"/home/paperspace/devinterp/.venv/lib/python3.8/site-packages/IPython/core/ultratb.py\", line 1287, in structured_traceback\n",
      "  File \"/home/paperspace/devinterp/.venv/lib/python3.8/site-packages/IPython/core/ultratb.py\", line 1140, in structured_traceback\n",
      "  File \"/home/paperspace/devinterp/.venv/lib/python3.8/site-packages/IPython/core/ultratb.py\", line 1030, in format_exception_as_a_whole\n",
      "  File \"/home/paperspace/devinterp/.venv/lib/python3.8/site-packages/IPython/core/ultratb.py\", line 1081, in get_records\n",
      "  File \"/home/paperspace/devinterp/.venv/lib/python3.8/site-packages/pygments/styles/__init__.py\", line 47, in get_style_by_name\n",
      "pygments.util.ClassNotFound: Could not find style module 'pygments.styles.default', though it should be builtin.\n"
     ]
    }
   ],
   "source": [
    "# it passes True if the callbacks meet the ordering condition\n",
    "callbacks = [llc_estimator, loss_statistics, weight_norm, trace_statistics]\n",
    "validate_callbacks(callbacks)"
   ]
  },
  {
   "cell_type": "code",
   "execution_count": null,
   "id": "1edad109-c2c3-48ff-941d-091ae2765eae",
   "metadata": {},
   "outputs": [
    {
     "name": "stdout",
     "output_type": "stream",
     "text": [
      "Unexpected exception formatting exception. Falling back to standard exception\n"
     ]
    },
    {
     "name": "stderr",
     "output_type": "stream",
     "text": [
      "Traceback (most recent call last):\n",
      "  File \"/home/paperspace/devinterp/.venv/lib/python3.8/site-packages/IPython/core/interactiveshell.py\", line 3508, in run_code\n",
      "  File \"/tmp/ipykernel_3494/4207772104.py\", line 1, in <module>\n",
      "    results = run_callbacks(train_loader, train_data, weights=[0.0, 0.0], callbacks=callbacks)\n",
      "NameError: name 'run_callbacks' is not defined\n",
      "\n",
      "During handling of the above exception, another exception occurred:\n",
      "\n",
      "Traceback (most recent call last):\n",
      "  File \"/home/paperspace/devinterp/.venv/lib/python3.8/site-packages/pygments/styles/__init__.py\", line 45, in get_style_by_name\n",
      "ModuleNotFoundError: No module named 'pygments.styles.default'\n",
      "\n",
      "During handling of the above exception, another exception occurred:\n",
      "\n",
      "Traceback (most recent call last):\n",
      "  File \"/home/paperspace/devinterp/.venv/lib/python3.8/site-packages/IPython/core/interactiveshell.py\", line 2105, in showtraceback\n",
      "  File \"/home/paperspace/devinterp/.venv/lib/python3.8/site-packages/IPython/core/ultratb.py\", line 1396, in structured_traceback\n",
      "  File \"/home/paperspace/devinterp/.venv/lib/python3.8/site-packages/IPython/core/ultratb.py\", line 1287, in structured_traceback\n",
      "  File \"/home/paperspace/devinterp/.venv/lib/python3.8/site-packages/IPython/core/ultratb.py\", line 1140, in structured_traceback\n",
      "  File \"/home/paperspace/devinterp/.venv/lib/python3.8/site-packages/IPython/core/ultratb.py\", line 1030, in format_exception_as_a_whole\n",
      "  File \"/home/paperspace/devinterp/.venv/lib/python3.8/site-packages/IPython/core/ultratb.py\", line 1081, in get_records\n",
      "  File \"/home/paperspace/devinterp/.venv/lib/python3.8/site-packages/pygments/styles/__init__.py\", line 47, in get_style_by_name\n",
      "pygments.util.ClassNotFound: Could not find style module 'pygments.styles.default', though it should be builtin.\n"
     ]
    }
   ],
   "source": [
    "results = run_callbacks(train_loader, train_data, weights=[0.0, 0.0], callbacks=callbacks)"
   ]
  },
  {
   "cell_type": "markdown",
   "id": "bfd5380b-6356-4338-bc22-ccdc6b0c0506",
   "metadata": {},
   "source": [
    "**OnlineTraceStatistics**\n",
    "\n",
    "`OnlineTraceStatistics` is a general purpose 'derivative' `SamplerCallback` that takes any base statistic that's computed as a trace and computes the mean and standard deviation of that statistic in two ways: across *draws* and across *chains*.\n",
    "\n",
    "The black dotted lines and gray overlays in the previous charts are a visualization of what it looks like to compute the mean and std across *draws*.\n",
    "\n",
    "The mean and std statistics computed across a *chain* are the cumulative mean and std of that single chain at a given draw step. For example, the final mean and std computed for a chain would be the mean and std of the base statistic computed at all draw steps of that chain."
   ]
  },
  {
   "cell_type": "code",
   "execution_count": null,
   "id": "536ad9ab-ae71-4313-9e77-5e44ce7d97fd",
   "metadata": {},
   "outputs": [
    {
     "name": "stdout",
     "output_type": "stream",
     "text": [
      "Unexpected exception formatting exception. Falling back to standard exception\n"
     ]
    },
    {
     "name": "stderr",
     "output_type": "stream",
     "text": [
      "Traceback (most recent call last):\n",
      "  File \"/home/paperspace/devinterp/.venv/lib/python3.8/site-packages/IPython/core/interactiveshell.py\", line 3508, in run_code\n",
      "  File \"/tmp/ipykernel_3494/2088047608.py\", line 2, in <module>\n",
      "    means = results['weight_norms/chain/mean']\n",
      "NameError: name 'results' is not defined\n",
      "\n",
      "During handling of the above exception, another exception occurred:\n",
      "\n",
      "Traceback (most recent call last):\n",
      "  File \"/home/paperspace/devinterp/.venv/lib/python3.8/site-packages/pygments/styles/__init__.py\", line 45, in get_style_by_name\n",
      "ModuleNotFoundError: No module named 'pygments.styles.default'\n",
      "\n",
      "During handling of the above exception, another exception occurred:\n",
      "\n",
      "Traceback (most recent call last):\n",
      "  File \"/home/paperspace/devinterp/.venv/lib/python3.8/site-packages/IPython/core/interactiveshell.py\", line 2105, in showtraceback\n",
      "  File \"/home/paperspace/devinterp/.venv/lib/python3.8/site-packages/IPython/core/ultratb.py\", line 1396, in structured_traceback\n",
      "  File \"/home/paperspace/devinterp/.venv/lib/python3.8/site-packages/IPython/core/ultratb.py\", line 1287, in structured_traceback\n",
      "  File \"/home/paperspace/devinterp/.venv/lib/python3.8/site-packages/IPython/core/ultratb.py\", line 1140, in structured_traceback\n",
      "  File \"/home/paperspace/devinterp/.venv/lib/python3.8/site-packages/IPython/core/ultratb.py\", line 1030, in format_exception_as_a_whole\n",
      "  File \"/home/paperspace/devinterp/.venv/lib/python3.8/site-packages/IPython/core/ultratb.py\", line 1081, in get_records\n",
      "  File \"/home/paperspace/devinterp/.venv/lib/python3.8/site-packages/pygments/styles/__init__.py\", line 47, in get_style_by_name\n",
      "pygments.util.ClassNotFound: Could not find style module 'pygments.styles.default', though it should be builtin.\n"
     ]
    }
   ],
   "source": [
    "# Mean and std for each chain of the computed weight norms\n",
    "means = results['weight_norms/chain/mean']\n",
    "stds = results['weight_norms/chain/std']\n",
    "\n",
    "print('The shapes match the shape of the trace.')\n",
    "print(means.shape)\n",
    "print(stds.shape)\n",
    "\n",
    "print('\\nThe mean of all draw steps across a given chain i is the ith index below.')\n",
    "final_means = means[:, -1]\n",
    "print(final_means)\n",
    "\n",
    "print('\\nThe std of all draw steps across chain 5:')\n",
    "std = stds[5, -1]\n",
    "print(std)"
   ]
  },
  {
   "cell_type": "markdown",
   "id": "5c7b0511-8d19-4d7f-aed8-b40ef0c55636",
   "metadata": {
    "jp-MarkdownHeadingCollapsed": true
   },
   "source": [
    "**OnlineLossStatistics**\n",
    "\n",
    "Since we're using minibatches instead of being in the limit of infinite training data, there's noise introduced by the random selection of minibatch. We can estimate/visualize the noise by looking at a histogram of the initial losses of each chain in our sampler, since these are losses from different minibatches on a fixed weight. Note that we get this by calling a method of `OnlineLossStatistics` rather than referring to `results`.\n",
    "\n",
    "Note that these values may be so close together that it causes a rendering issue in `plt.hist`, but we can see from the values that the minibatch noise is very small."
   ]
  },
  {
   "cell_type": "code",
   "execution_count": null,
   "id": "2a29db13-9647-4a75-9370-6ac5394a2eaa",
   "metadata": {},
   "outputs": [
    {
     "name": "stderr",
     "output_type": "stream",
     "text": [
      "Traceback (most recent call last):\n",
      "  File \"/home/paperspace/devinterp/.venv/lib/python3.8/site-packages/IPython/core/interactiveshell.py\", line 3508, in run_code\n",
      "  File \"/tmp/ipykernel_3494/3656987481.py\", line 1, in <module>\n",
      "    init_losses = loss_statistics.loss_hist_by_draw(draw=0, bins=10)\n",
      "NameError: name 'loss_statistics' is not defined\n",
      "\n",
      "During handling of the above exception, another exception occurred:\n",
      "\n",
      "Traceback (most recent call last):\n",
      "  File \"/home/paperspace/devinterp/.venv/lib/python3.8/site-packages/pygments/styles/__init__.py\", line 45, in get_style_by_name\n",
      "ModuleNotFoundError: No module named 'pygments.styles.default'\n",
      "\n",
      "During handling of the above exception, another exception occurred:\n",
      "\n",
      "Traceback (most recent call last):\n",
      "  File \"/home/paperspace/devinterp/.venv/lib/python3.8/site-packages/IPython/core/interactiveshell.py\", line 2105, in showtraceback\n",
      "  File \"/home/paperspace/devinterp/.venv/lib/python3.8/site-packages/IPython/core/ultratb.py\", line 1396, in structured_traceback\n",
      "  File \"/home/paperspace/devinterp/.venv/lib/python3.8/site-packages/IPython/core/ultratb.py\", line 1287, in structured_traceback\n",
      "  File \"/home/paperspace/devinterp/.venv/lib/python3.8/site-packages/IPython/core/ultratb.py\", line 1140, in structured_traceback\n",
      "  File \"/home/paperspace/devinterp/.venv/lib/python3.8/site-packages/IPython/core/ultratb.py\", line 1030, in format_exception_as_a_whole\n",
      "  File \"/home/paperspace/devinterp/.venv/lib/python3.8/site-packages/IPython/core/ultratb.py\", line 1081, in get_records\n",
      "  File \"/home/paperspace/devinterp/.venv/lib/python3.8/site-packages/pygments/styles/__init__.py\", line 47, in get_style_by_name\n",
      "pygments.util.ClassNotFound: Could not find style module 'pygments.styles.default', though it should be builtin.\n"
     ]
    },
    {
     "name": "stdout",
     "output_type": "stream",
     "text": [
      "Unexpected exception formatting exception. Falling back to standard exception\n"
     ]
    }
   ],
   "source": [
    "init_losses = loss_statistics.loss_hist_by_draw(draw=0, bins=10)\n",
    "init_losses"
   ]
  },
  {
   "cell_type": "markdown",
   "id": "86f720b2-a775-45d8-9f72-9dff1901f2a2",
   "metadata": {},
   "source": [
    "`OnlineLossStatistics` also provides a few ways to check the \"health\" of your loss chains. For example, your chains should ideally not be achieving loss values lower than your initial loss. You can see the loss values directly by plotting the loss trace, or you can check the cumulative percent of negative steps relative to the initial loss through a few statistics computed by `OnlineLossStatistics`, one of which is `\"loss/percent_neg_steps\"`."
   ]
  },
  {
   "cell_type": "code",
   "execution_count": null,
   "id": "6956571d-fba8-4793-8d40-7923403a9665",
   "metadata": {},
   "outputs": [
    {
     "name": "stdout",
     "output_type": "stream",
     "text": [
      "Unexpected exception formatting exception. Falling back to standard exception\n"
     ]
    },
    {
     "name": "stderr",
     "output_type": "stream",
     "text": [
      "Traceback (most recent call last):\n",
      "  File \"/home/paperspace/devinterp/.venv/lib/python3.8/site-packages/IPython/core/interactiveshell.py\", line 3508, in run_code\n",
      "  File \"/tmp/ipykernel_3494/3426001199.py\", line 1, in <module>\n",
      "    loss_trace = results['loss/trace']\n",
      "NameError: name 'results' is not defined\n",
      "\n",
      "During handling of the above exception, another exception occurred:\n",
      "\n",
      "Traceback (most recent call last):\n",
      "  File \"/home/paperspace/devinterp/.venv/lib/python3.8/site-packages/pygments/styles/__init__.py\", line 45, in get_style_by_name\n",
      "ModuleNotFoundError: No module named 'pygments.styles.default'\n",
      "\n",
      "During handling of the above exception, another exception occurred:\n",
      "\n",
      "Traceback (most recent call last):\n",
      "  File \"/home/paperspace/devinterp/.venv/lib/python3.8/site-packages/IPython/core/interactiveshell.py\", line 2105, in showtraceback\n",
      "  File \"/home/paperspace/devinterp/.venv/lib/python3.8/site-packages/IPython/core/ultratb.py\", line 1396, in structured_traceback\n",
      "  File \"/home/paperspace/devinterp/.venv/lib/python3.8/site-packages/IPython/core/ultratb.py\", line 1287, in structured_traceback\n",
      "  File \"/home/paperspace/devinterp/.venv/lib/python3.8/site-packages/IPython/core/ultratb.py\", line 1140, in structured_traceback\n",
      "  File \"/home/paperspace/devinterp/.venv/lib/python3.8/site-packages/IPython/core/ultratb.py\", line 1030, in format_exception_as_a_whole\n",
      "  File \"/home/paperspace/devinterp/.venv/lib/python3.8/site-packages/IPython/core/ultratb.py\", line 1081, in get_records\n",
      "  File \"/home/paperspace/devinterp/.venv/lib/python3.8/site-packages/pygments/styles/__init__.py\", line 47, in get_style_by_name\n",
      "pygments.util.ClassNotFound: Could not find style module 'pygments.styles.default', though it should be builtin.\n"
     ]
    }
   ],
   "source": [
    "loss_trace = results['loss/trace']\n",
    "plot_trace(loss_trace, 'loss')"
   ]
  },
  {
   "cell_type": "code",
   "execution_count": null,
   "id": "de3fca75-1bce-4708-a1a5-526997be8e23",
   "metadata": {},
   "outputs": [
    {
     "name": "stdout",
     "output_type": "stream",
     "text": [
      "Unexpected exception formatting exception. Falling back to standard exception\n"
     ]
    },
    {
     "name": "stderr",
     "output_type": "stream",
     "text": [
      "Traceback (most recent call last):\n",
      "  File \"/home/paperspace/devinterp/.venv/lib/python3.8/site-packages/IPython/core/interactiveshell.py\", line 3508, in run_code\n",
      "  File \"/tmp/ipykernel_3494/2354953871.py\", line 1, in <module>\n",
      "    cum_perc_neg_steps = results['loss/percent_neg_steps']\n",
      "NameError: name 'results' is not defined\n",
      "\n",
      "During handling of the above exception, another exception occurred:\n",
      "\n",
      "Traceback (most recent call last):\n",
      "  File \"/home/paperspace/devinterp/.venv/lib/python3.8/site-packages/pygments/styles/__init__.py\", line 45, in get_style_by_name\n",
      "ModuleNotFoundError: No module named 'pygments.styles.default'\n",
      "\n",
      "During handling of the above exception, another exception occurred:\n",
      "\n",
      "Traceback (most recent call last):\n",
      "  File \"/home/paperspace/devinterp/.venv/lib/python3.8/site-packages/IPython/core/interactiveshell.py\", line 2105, in showtraceback\n",
      "  File \"/home/paperspace/devinterp/.venv/lib/python3.8/site-packages/IPython/core/ultratb.py\", line 1396, in structured_traceback\n",
      "  File \"/home/paperspace/devinterp/.venv/lib/python3.8/site-packages/IPython/core/ultratb.py\", line 1287, in structured_traceback\n",
      "  File \"/home/paperspace/devinterp/.venv/lib/python3.8/site-packages/IPython/core/ultratb.py\", line 1140, in structured_traceback\n",
      "  File \"/home/paperspace/devinterp/.venv/lib/python3.8/site-packages/IPython/core/ultratb.py\", line 1030, in format_exception_as_a_whole\n",
      "  File \"/home/paperspace/devinterp/.venv/lib/python3.8/site-packages/IPython/core/ultratb.py\", line 1081, in get_records\n",
      "  File \"/home/paperspace/devinterp/.venv/lib/python3.8/site-packages/pygments/styles/__init__.py\", line 47, in get_style_by_name\n",
      "pygments.util.ClassNotFound: Could not find style module 'pygments.styles.default', though it should be builtin.\n"
     ]
    }
   ],
   "source": [
    "cum_perc_neg_steps = results['loss/percent_neg_steps']\n",
    "plot_trace(cum_perc_neg_steps, 'cumulative % negative')"
   ]
  },
  {
   "cell_type": "markdown",
   "id": "eb789d3c-6954-4375-b97e-e0be5d204933",
   "metadata": {},
   "source": [
    "Recall that there is still some minibatch noise, so we can also check how negative losses are relative to the initial loss while also thresholding by the estimated minibatch noise. Most negative draws end up within the threshold, and any chains that still end up consistently negative can be pruned from estimations."
   ]
  },
  {
   "cell_type": "code",
   "execution_count": null,
   "id": "e9a6f049-b77b-49a9-b63e-02766a0bdd69",
   "metadata": {},
   "outputs": [
    {
     "name": "stdout",
     "output_type": "stream",
     "text": [
      "Unexpected exception formatting exception. Falling back to standard exception\n"
     ]
    },
    {
     "name": "stderr",
     "output_type": "stream",
     "text": [
      "Traceback (most recent call last):\n",
      "  File \"/home/paperspace/devinterp/.venv/lib/python3.8/site-packages/IPython/core/interactiveshell.py\", line 3508, in run_code\n",
      "  File \"/tmp/ipykernel_3494/3981448502.py\", line 1, in <module>\n",
      "    thresholded_neg_steps = results['loss/percent_thresholded_neg_steps']\n",
      "NameError: name 'results' is not defined\n",
      "\n",
      "During handling of the above exception, another exception occurred:\n",
      "\n",
      "Traceback (most recent call last):\n",
      "  File \"/home/paperspace/devinterp/.venv/lib/python3.8/site-packages/pygments/styles/__init__.py\", line 45, in get_style_by_name\n",
      "ModuleNotFoundError: No module named 'pygments.styles.default'\n",
      "\n",
      "During handling of the above exception, another exception occurred:\n",
      "\n",
      "Traceback (most recent call last):\n",
      "  File \"/home/paperspace/devinterp/.venv/lib/python3.8/site-packages/IPython/core/interactiveshell.py\", line 2105, in showtraceback\n",
      "  File \"/home/paperspace/devinterp/.venv/lib/python3.8/site-packages/IPython/core/ultratb.py\", line 1396, in structured_traceback\n",
      "  File \"/home/paperspace/devinterp/.venv/lib/python3.8/site-packages/IPython/core/ultratb.py\", line 1287, in structured_traceback\n",
      "  File \"/home/paperspace/devinterp/.venv/lib/python3.8/site-packages/IPython/core/ultratb.py\", line 1140, in structured_traceback\n",
      "  File \"/home/paperspace/devinterp/.venv/lib/python3.8/site-packages/IPython/core/ultratb.py\", line 1030, in format_exception_as_a_whole\n",
      "  File \"/home/paperspace/devinterp/.venv/lib/python3.8/site-packages/IPython/core/ultratb.py\", line 1081, in get_records\n",
      "  File \"/home/paperspace/devinterp/.venv/lib/python3.8/site-packages/pygments/styles/__init__.py\", line 47, in get_style_by_name\n",
      "pygments.util.ClassNotFound: Could not find style module 'pygments.styles.default', though it should be builtin.\n"
     ]
    }
   ],
   "source": [
    "thresholded_neg_steps = results['loss/percent_thresholded_neg_steps']\n",
    "plot_trace(thresholded_neg_steps, 'cumulative % of thresholded negative')"
   ]
  },
  {
   "cell_type": "code",
   "execution_count": null,
   "id": "c21f9e89-f483-4c92-9c9b-058423ac3555",
   "metadata": {},
   "outputs": [],
   "source": []
  }
 ],
 "metadata": {
  "kernelspec": {
   "display_name": "Python 3",
   "language": "python",
   "name": "python3"
  },
  "language_info": {
   "codemirror_mode": {
    "name": "ipython",
    "version": 3
   },
   "file_extension": ".py",
   "mimetype": "text/x-python",
   "name": "python",
   "nbconvert_exporter": "python",
   "pygments_lexer": "ipython3",
   "version": "3.8.10"
  }
 },
 "nbformat": 4,
 "nbformat_minor": 5
}
