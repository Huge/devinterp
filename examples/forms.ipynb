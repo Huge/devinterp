{
    "cells": [
        {
            "cell_type": "markdown",
            "metadata": {},
            "source": [
                "# Essential dynamics"
            ]
        },
        {
            "cell_type": "code",
            "execution_count": 1,
            "metadata": {},
            "outputs": [],
            "source": [
                "import torch\n",
                "from torch.utils.data import DataLoader\n",
                "from torch import nn\n",
                "import matplotlib.pyplot as plt\n",
                "import sys\n",
                "from itertools import combinations\n",
                "\n",
                "import numpy as np\n",
                "import seaborn as sns\n",
                "\n",
                "\n",
                "from typing import Iterable\n",
                "from sklearn.decomposition import PCA\n",
                "\n",
                "sns.set_style(\"white\")\n",
                "\n",
                "plt.rcParams[\"figure.dpi\"] = 300"
            ]
        },
        {
            "cell_type": "code",
            "execution_count": 2,
            "metadata": {},
            "outputs": [],
            "source": [
                "MODEL_SEED = 1\n",
                "steps = range(0, 500_000, 10)[::10]\n",
                "DEVICE = (\n",
                "    \"mps\"\n",
                "    if torch.backends.mps.is_available()\n",
                "    else (\"cuda\" if torch.cuda.is_available() else \"cpu\")\n",
                ")\n",
                "\n",
                "sys.path.insert(0, \"home/paperspace/icl\")\n",
                "\n",
                "models = torch.load(f\"../models.pt\", map_location=DEVICE)\n",
                "# TODO non context bound save / load\n",
                "models = models[MODEL_SEED]"
            ]
        },
        {
            "cell_type": "code",
            "execution_count": 3,
            "metadata": {},
            "outputs": [],
            "source": [
                "def plot_explained_variance(pca, title=\"Explained Variance\", ax: plt.Axes = None):\n",
                "    num_pca_components = pca.n_components\n",
                "\n",
                "    if ax is None:\n",
                "        fig, ax = plt.subplots(figsize=(15, 8))\n",
                "\n",
                "    ax.bar(\n",
                "        range(num_pca_components), pca.explained_variance_ratio_[:num_pca_components]\n",
                "    )\n",
                "\n",
                "    for i, ratio in enumerate(pca.explained_variance_ratio_[:num_pca_components]):\n",
                "        ax.text(i, ratio, f\"{ratio:.2f}\", fontsize=12, ha=\"center\", va=\"bottom\")\n",
                "\n",
                "    ax.set_title(title)\n",
                "    ax.set_xlabel(\"PC\")\n",
                "    ax.set_ylabel(\"Explained Variance\")\n",
                "\n",
                "    ax.set_xticks(range(num_pca_components), range(1, num_pca_components + 1))"
            ]
        },
        {
            "cell_type": "code",
            "execution_count": 4,
            "metadata": {},
            "outputs": [],
            "source": [
                "def get_output_for_model(model: nn.Module, dataloader: DataLoader):\n",
                "    model.to(DEVICE)\n",
                "    logits = []\n",
                "    with torch.no_grad():\n",
                "        for xs, ys in dataloader:\n",
                "            xs, ys = xs.to(model.device), ys.to(model.device)\n",
                "            outputs = model(xs, ys)\n",
                "            logits.append(outputs)\n",
                "    logits = torch.cat(logits).to(\"cpu\")\n",
                "    return logits\n",
                "\n",
                "\n",
                "def get_output_for_models(models: Iterable[nn.Module], dataloader: DataLoader):\n",
                "    outputs = torch.stack([get_output_for_model(model, dataloader) for model in models])\n",
                "    return outputs.reshape(len(outputs), -1)\n",
                "\n",
                "\n",
                "def get_pca_components(samples, n_components):\n",
                "    pca = PCA(n_components=n_components)\n",
                "    transformed_samples = pca.fit_transform(samples)\n",
                "    return pca, transformed_samples\n",
                "\n",
                "\n",
                "def plot_essential_dynamics_grid(pca, transformed_samples, figsize=(20, 4)):\n",
                "    num_pca_components = pca.n_components\n",
                "    pca_combos = combinations(range(num_pca_components), 2)\n",
                "    num_pca_combos = len(pca_combos)\n",
                "    fig, axes = plt.subplots(1, num_pca_combos + 1, figsize=figsize)\n",
                "    for ax_idx, (first_pca_index, second_pca_index) in enumerate(pca_combos):\n",
                "        sns.scatterplot(\n",
                "            x=transformed_samples[:, first_pca_index],\n",
                "            y=transformed_samples[:, second_pca_index],\n",
                "            ax=axes[ax_idx],\n",
                "            alpha=0.5,\n",
                "            color=\"gray\",\n",
                "            s=10,\n",
                "            legend=False,\n",
                "        )\n",
                "        axes[ax_idx].plot(\n",
                "            transformed_samples[:, first_pca_index],\n",
                "            transformed_samples[:, second_pca_index],\n",
                "        )\n",
                "        axes[ax_idx].set_xlabel(f\"PC {first_pca_index+1}\")\n",
                "        axes[ax_idx].set_ylabel(f\"PC {second_pca_index+1}\")\n",
                "        axes[ax_idx].set_title(f\"PC {second_pca_index+1} vs PC {first_pca_index+1}\")\n",
                "    plot_explained_variance(pca, ax=axes[-1])\n",
                "    plt.tight_layout(rect=[0, 0, 1, 1])\n",
                "    return fig"
            ]
        },
        {
            "cell_type": "code",
            "execution_count": 5,
            "metadata": {},
            "outputs": [],
            "source": [
                "BATCH_SIZE = 1024\n",
                "dataset = torch.load(\"ED_dataset.pt\")\n",
                "dataloader = DataLoader(dataset, batch_size=BATCH_SIZE)\n",
                "outputs = get_output_for_models(models, dataloader)\n"
            ]
        },
        {
            "cell_type": "code",
            "execution_count": 6,
            "metadata": {},
            "outputs": [
                {
                    "ename": "TypeError",
                    "evalue": "object of type 'itertools.combinations' has no len()",
                    "output_type": "error",
                    "traceback": [
                        "\u001b[0;31m---------------------------------------------------------------------------\u001b[0m",
                        "\u001b[0;31mTypeError\u001b[0m                                 Traceback (most recent call last)",
                        "\u001b[1;32m/home/paperspace/devinterp/examples/forms.ipynb Cell 7\u001b[0m line \u001b[0;36m4\n\u001b[1;32m      <a href='vscode-notebook-cell://ssh-remote%2Bpaperspace2/home/paperspace/devinterp/examples/forms.ipynb#X45sdnNjb2RlLXJlbW90ZQ%3D%3D?line=0'>1</a>\u001b[0m _all_outputs \u001b[39m=\u001b[39m outputs\n\u001b[1;32m      <a href='vscode-notebook-cell://ssh-remote%2Bpaperspace2/home/paperspace/devinterp/examples/forms.ipynb#X45sdnNjb2RlLXJlbW90ZQ%3D%3D?line=2'>3</a>\u001b[0m pca, transformed_samples \u001b[39m=\u001b[39m get_pca_components(_all_outputs[:\u001b[39m101\u001b[39m], n_components\u001b[39m=\u001b[39m\u001b[39m4\u001b[39m)\n\u001b[0;32m----> <a href='vscode-notebook-cell://ssh-remote%2Bpaperspace2/home/paperspace/devinterp/examples/forms.ipynb#X45sdnNjb2RlLXJlbW90ZQ%3D%3D?line=3'>4</a>\u001b[0m fig \u001b[39m=\u001b[39m plot_essential_dynamics_grid(pca, transformed_samples, figsize\u001b[39m=\u001b[39;49m(\u001b[39m20\u001b[39;49m, \u001b[39m3\u001b[39;49m))\n\u001b[1;32m      <a href='vscode-notebook-cell://ssh-remote%2Bpaperspace2/home/paperspace/devinterp/examples/forms.ipynb#X45sdnNjb2RlLXJlbW90ZQ%3D%3D?line=4'>5</a>\u001b[0m fig\u001b[39m.\u001b[39msuptitle(\u001b[39m\"\u001b[39m\u001b[39mFirst 10k Steps\u001b[39m\u001b[39m\"\u001b[39m)\n\u001b[1;32m      <a href='vscode-notebook-cell://ssh-remote%2Bpaperspace2/home/paperspace/devinterp/examples/forms.ipynb#X45sdnNjb2RlLXJlbW90ZQ%3D%3D?line=5'>6</a>\u001b[0m plt\u001b[39m.\u001b[39mtight_layout()\n",
                        "\u001b[1;32m/home/paperspace/devinterp/examples/forms.ipynb Cell 7\u001b[0m line \u001b[0;36m2\n\u001b[1;32m     <a href='vscode-notebook-cell://ssh-remote%2Bpaperspace2/home/paperspace/devinterp/examples/forms.ipynb#X45sdnNjb2RlLXJlbW90ZQ%3D%3D?line=24'>25</a>\u001b[0m num_pca_components \u001b[39m=\u001b[39m pca\u001b[39m.\u001b[39mn_components\n\u001b[1;32m     <a href='vscode-notebook-cell://ssh-remote%2Bpaperspace2/home/paperspace/devinterp/examples/forms.ipynb#X45sdnNjb2RlLXJlbW90ZQ%3D%3D?line=25'>26</a>\u001b[0m pca_combos \u001b[39m=\u001b[39m combinations(\u001b[39mrange\u001b[39m(num_pca_components), \u001b[39m2\u001b[39m)\n\u001b[0;32m---> <a href='vscode-notebook-cell://ssh-remote%2Bpaperspace2/home/paperspace/devinterp/examples/forms.ipynb#X45sdnNjb2RlLXJlbW90ZQ%3D%3D?line=26'>27</a>\u001b[0m num_pca_combos \u001b[39m=\u001b[39m \u001b[39mlen\u001b[39;49m(pca_combos)\n\u001b[1;32m     <a href='vscode-notebook-cell://ssh-remote%2Bpaperspace2/home/paperspace/devinterp/examples/forms.ipynb#X45sdnNjb2RlLXJlbW90ZQ%3D%3D?line=27'>28</a>\u001b[0m fig, axes \u001b[39m=\u001b[39m plt\u001b[39m.\u001b[39msubplots(\u001b[39m1\u001b[39m, num_pca_combos \u001b[39m+\u001b[39m \u001b[39m1\u001b[39m, figsize\u001b[39m=\u001b[39mfigsize)\n\u001b[1;32m     <a href='vscode-notebook-cell://ssh-remote%2Bpaperspace2/home/paperspace/devinterp/examples/forms.ipynb#X45sdnNjb2RlLXJlbW90ZQ%3D%3D?line=29'>30</a>\u001b[0m I \u001b[39m=\u001b[39m \u001b[39m0\u001b[39m\n",
                        "\u001b[0;31mTypeError\u001b[0m: object of type 'itertools.combinations' has no len()"
                    ]
                }
            ],
            "source": [
                "_all_outputs = outputs\n",
                "\n",
                "pca, transformed_samples = get_pca_components(_all_outputs[:101], n_components=4)\n",
                "fig = plot_essential_dynamics_grid(pca, transformed_samples, figsize=(20, 3))\n",
                "fig.suptitle(\"First 10k Steps\")\n",
                "plt.tight_layout()\n",
                "plt.show()\n",
                "\n",
                "pca, transformed_samples = get_pca_components(_all_outputs, n_components=2)\n",
                "fig = plot_essential_dynamics_grid(pca, transformed_samples, figsize=(20, 4))\n",
                "fig.suptitle(\"All Steps\")\n",
                "plt.tight_layout()\n",
                "plt.show()"
            ]
        },
        {
            "cell_type": "code",
            "execution_count": null,
            "metadata": {},
            "outputs": [],
            "source": []
        }
    ],
    "metadata": {
        "kernelspec": {
            "display_name": ".venv",
            "language": "python",
            "name": "python3"
        },
        "language_info": {
            "codemirror_mode": {
                "name": "ipython",
                "version": 3
            },
            "file_extension": ".py",
            "mimetype": "text/x-python",
            "name": "python",
            "nbconvert_exporter": "python",
            "pygments_lexer": "ipython3",
            "version": "3.9.18"
        },
        "orig_nbformat": 4
    },
    "nbformat": 4,
    "nbformat_minor": 2
}
