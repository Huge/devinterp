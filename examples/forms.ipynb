{
    "cells": [
        {
            "cell_type": "markdown",
            "metadata": {},
            "source": [
                "# Essential dynamics"
            ]
        },
        {
            "cell_type": "code",
            "execution_count": 1,
            "metadata": {},
            "outputs": [],
            "source": [
                "import torch\n",
                "import pickle\n",
                "from torch.utils.data import DataLoader\n",
                "\n",
                "from devinterp.slt.forms import *\n",
                "\n",
                "\n",
                "plt.rcParams[\"figure.dpi\"] = 300"
            ]
        },
        {
            "cell_type": "code",
            "execution_count": 2,
            "metadata": {},
            "outputs": [],
            "source": [
                "DEVICE = (\"cuda\" if torch.cuda.is_available() else \"cpu\")\n",
                "models = torch.load(f\"../model1.pt\", map_location=DEVICE)"
            ]
        },
        {
            "cell_type": "code",
            "execution_count": 3,
            "metadata": {},
            "outputs": [],
            "source": [
                "BATCH_SIZE = 1024\n",
                "dataset = torch.load(\"ED_dataset.pt\")\n",
                "dataloader = DataLoader(dataset, batch_size=BATCH_SIZE)\n",
                "outputs = get_output_for_models(models, dataloader, device=DEVICE)"
            ]
        },
        {
            "cell_type": "code",
            "execution_count": 4,
            "metadata": {},
            "outputs": [
                {
                    "name": "stdout",
                    "output_type": "stream",
                    "text": [
                        "Explained variance of PCA\n",
                        "[0.5630448  0.15191932 0.0681259  0.0370252 ]\n",
                        "Number of samples: 5000\n",
                        "Processing smoothing for PC1\n"
                    ]
                },
                {
                    "name": "stderr",
                    "output_type": "stream",
                    "text": [
                        "/home/paperspace/devinterp/src/devinterp/slt/forms.py:97: UserWarning: len(colors) != len(transitions), using rainbow palette.\n",
                        "  warnings.warn(\"len(colors) != len(transitions), using rainbow palette.\")\n",
                        "/home/paperspace/devinterp/src/devinterp/slt/forms.py:103: UserWarning: Can't plot vertex influence when cusp data not provided\n",
                        "  warnings.warn(\"Can't plot vertex influence when cusp data not provided\")\n"
                    ]
                },
                {
                    "name": "stdout",
                    "output_type": "stream",
                    "text": [
                        "Processing smoothing for PC2\n"
                    ]
                }
            ],
            "source": [
                "TRANSITIONS = [  # TODO automate\n",
                "    (0, 10, \"LR1\"),\n",
                "    (10, 400, \"LR2\"),\n",
                "    (400, 1_200, \"LR3\"),\n",
                "    (1_260, 3_000, \"LR4\"),\n",
                "    (3_000, 5_000, \"LR5\"),\n",
                "]\n",
                "\n",
                "# The marked cusps were discovered by the automated vertex discovery and visual inspection,\n",
                "# while the influence regions are based on analysing the distance functions\n",
                "marked_cusp_data = [  # TODO automate\n",
                "    {\"idx\": 25, \"influence_start\": 18, \"influence_end\": 26},\n",
                "    {\"idx\": 345, \"influence_start\": 300, \"influence_end\": 400},\n",
                "    {\"idx\": 1_061, \"influence_start\": 900, \"influence_end\": 1_250},\n",
                "    {\"idx\": 1_689, \"influence_start\": 1_500, \"influence_end\": 1_900},\n",
                "]\n",
                "\n",
                "ED_FILENAME = \"ED-LR-seed1.pkl\"\n",
                "with open(ED_FILENAME, \"rb\") as file:\n",
                "    pca, transformed_samples = pickle.load(file)\n",
                "\n",
                "\n",
                "print(\"Explained variance of PCA\")\n",
                "print(pca.explained_variance_ratio_)\n",
                "\n",
                "fig = plot_essential_dynamics_grid(\n",
                "    transformed_samples,\n",
                "    transitions=TRANSITIONS,\n",
                "    marked_cusp_data=marked_cusp_data,\n",
                "    num_pca_components=3,\n",
                "    plot_vertex_influence=True,\n",
                "    plot_caustic=True,\n",
                "    figsize=(8, 8 / 10 * 6),\n",
                "    num_sharp_points=0,\n",
                "    num_vertices=0,\n",
                "    osculate_start=1,\n",
                "    osculate_end_offset=2000,\n",
                "    osculate_skip=8,\n",
                "    early_smoothing=1,\n",
                "    late_smoothing=60,\n",
                "    late_smoothing_from=200,\n",
                ")\n",
                "plt.show()"
            ]
        }
    ],
    "metadata": {
        "kernelspec": {
            "display_name": ".venv",
            "language": "python",
            "name": "python3"
        },
        "language_info": {
            "codemirror_mode": {
                "name": "ipython",
                "version": 3
            },
            "file_extension": ".py",
            "mimetype": "text/x-python",
            "name": "python",
            "nbconvert_exporter": "python",
            "pygments_lexer": "ipython3",
            "version": "3.9.18"
        },
        "orig_nbformat": 4
    },
    "nbformat": 4,
    "nbformat_minor": 2
}
